{
  "nbformat": 4,
  "nbformat_minor": 0,
  "metadata": {
    "colab": {
      "name": "corretor.ipynb",
      "provenance": [],
      "authorship_tag": "ABX9TyO1iw7RAluxTXAXZFX15ta6",
      "include_colab_link": true
    },
    "kernelspec": {
      "name": "python3",
      "display_name": "Python 3"
    },
    "language_info": {
      "name": "python"
    }
  },
  "cells": [
    {
      "cell_type": "markdown",
      "metadata": {
        "id": "view-in-github",
        "colab_type": "text"
      },
      "source": [
        "<a href=\"https://colab.research.google.com/github/binhojulix/corretor-ortografico/blob/main/corretor.ipynb\" target=\"_parent\"><img src=\"https://colab.research.google.com/assets/colab-badge.svg\" alt=\"Open In Colab\"/></a>"
      ]
    },
    {
      "cell_type": "code",
      "metadata": {
        "colab": {
          "base_uri": "https://localhost:8080/"
        },
        "id": "F84wcda5cGvW",
        "outputId": "7b05b6f2-34c3-4c52-f354-07f28da23d2e"
      },
      "source": [
        "nltk.download('punkt')"
      ],
      "execution_count": null,
      "outputs": [
        {
          "output_type": "stream",
          "name": "stdout",
          "text": [
            "[nltk_data] Downloading package punkt to /root/nltk_data...\n",
            "[nltk_data]   Unzipping tokenizers/punkt.zip.\n"
          ]
        },
        {
          "output_type": "execute_result",
          "data": {
            "text/plain": [
              "True"
            ]
          },
          "metadata": {},
          "execution_count": 9
        }
      ]
    },
    {
      "cell_type": "code",
      "metadata": {
        "colab": {
          "base_uri": "https://localhost:8080/"
        },
        "id": "YdA2KVGYdKx8",
        "outputId": "f0522173-84e0-4168-f299-53a871d1592b"
      },
      "source": [
        "with open(\"artigos.txt\", \"r\") as f:\n",
        "  artigos = f.read()\n",
        "print(artigos[:500])"
      ],
      "execution_count": null,
      "outputs": [
        {
          "output_type": "stream",
          "name": "stdout",
          "text": [
            "\n",
            "\n",
            "\n",
            "imagem \n",
            "\n",
            "Temos a seguinte classe que representa um usuário no nosso sistema:\n",
            "\n",
            "java\n",
            "\n",
            "Para salvar um novo usuário, várias validações são feitas, como por exemplo: Ver se o nome só contém letras, [**o CPF só números**] e ver se o usuário possui no mínimo 18 anos. Veja o método que faz essa validação:\n",
            "\n",
            "java \n",
            "\n",
            "Suponha agora que eu tenha outra classe, a classe `Produto`, que contém um atributo nome e eu quero fazer a mesma validação que fiz para o nome do usuário: Ver se só contém letras. E aí? Vou\n"
          ]
        }
      ]
    },
    {
      "cell_type": "code",
      "metadata": {
        "id": "b0gu5FmugXIr"
      },
      "source": [
        "palavras_separadas = nltk.tokenize.word_tokenize(artigos)"
      ],
      "execution_count": null,
      "outputs": []
    },
    {
      "cell_type": "code",
      "metadata": {
        "colab": {
          "base_uri": "https://localhost:8080/"
        },
        "id": "MJGg0NFkg4yr",
        "outputId": "23e1ea87-4332-4008-e000-e3f5082bff14"
      },
      "source": [
        "len(palavras_separadas)"
      ],
      "execution_count": null,
      "outputs": [
        {
          "output_type": "execute_result",
          "data": {
            "text/plain": [
              "490772"
            ]
          },
          "metadata": {},
          "execution_count": 16
        }
      ]
    },
    {
      "cell_type": "code",
      "metadata": {
        "colab": {
          "base_uri": "https://localhost:8080/"
        },
        "id": "CbHh07JahN3I",
        "outputId": "8fcb9360-848f-487f-a86f-44203130db70"
      },
      "source": [
        "'./'.isalpha()"
      ],
      "execution_count": null,
      "outputs": [
        {
          "output_type": "execute_result",
          "data": {
            "text/plain": [
              "False"
            ]
          },
          "metadata": {},
          "execution_count": 17
        }
      ]
    },
    {
      "cell_type": "code",
      "metadata": {
        "colab": {
          "base_uri": "https://localhost:8080/"
        },
        "id": "NqF3dRBkhIQN",
        "outputId": "a5159347-7994-4491-872a-743d5f535ff8"
      },
      "source": [
        "def separa_palavras(lista_token):\n",
        "  lista_palavras =[]\n",
        "  for token in lista_token:\n",
        "    if token.isalpha():\n",
        "        lista_palavras.append(token)\n",
        "  return lista_palavras\n",
        "  \n",
        "separa_palavras(\"olá mundo\")"
      ],
      "execution_count": null,
      "outputs": [
        {
          "output_type": "execute_result",
          "data": {
            "text/plain": [
              "['o', 'l', 'á', 'm', 'u', 'n', 'd', 'o']"
            ]
          },
          "metadata": {},
          "execution_count": 26
        }
      ]
    },
    {
      "cell_type": "code",
      "metadata": {
        "colab": {
          "base_uri": "https://localhost:8080/"
        },
        "id": "XZIsKT8fiA5k",
        "outputId": "943e3e43-81d5-4dd3-9326-f6d0a89b7cdb"
      },
      "source": [
        "lista_tokens = nltk.tokenize.word_tokenize(artigos)\n",
        "lista_palavras = separa_palavras(lista_tokens)\n",
        "print(f\"o número de palavras é {len(lista_palavras)}\")"
      ],
      "execution_count": null,
      "outputs": [
        {
          "output_type": "stream",
          "name": "stdout",
          "text": [
            "o número de palavras é 393914\n"
          ]
        }
      ]
    },
    {
      "cell_type": "code",
      "metadata": {
        "colab": {
          "base_uri": "https://localhost:8080/"
        },
        "id": "Qu81sjq5iVei",
        "outputId": "1b8ee327-b119-46fe-c770-27c7669d90d0"
      },
      "source": [
        "print(lista_palavras[:5])"
      ],
      "execution_count": null,
      "outputs": [
        {
          "output_type": "stream",
          "name": "stdout",
          "text": [
            "['imagem', 'Temos', 'a', 'seguinte', 'classe']\n"
          ]
        }
      ]
    },
    {
      "cell_type": "code",
      "metadata": {
        "colab": {
          "base_uri": "https://localhost:8080/"
        },
        "id": "FtKvdKmajD9D",
        "outputId": "08b8c3b1-757e-46d6-9c6f-2441d440aca2"
      },
      "source": [
        "def normalizacao(lista_palavras):\n",
        "  lista_normalizada = []\n",
        "  for palavra in lista_palavras:\n",
        "    lista_normalizada.append(palavra.lower())\n",
        "  return lista_normalizada\n",
        "\n",
        "lista_normalizada = normalizacao(lista_palavras)\n",
        "print(lista_normalizada[:5])"
      ],
      "execution_count": null,
      "outputs": [
        {
          "output_type": "stream",
          "name": "stdout",
          "text": [
            "['imagem', 'temos', 'a', 'seguinte', 'classe']\n"
          ]
        }
      ]
    },
    {
      "cell_type": "code",
      "metadata": {
        "colab": {
          "base_uri": "https://localhost:8080/"
        },
        "id": "BPo11p_6j1jV",
        "outputId": "62e85285-bb2a-4fdc-fc9e-458f46ff698c"
      },
      "source": [
        "len(set(lista_normalizada))"
      ],
      "execution_count": null,
      "outputs": [
        {
          "output_type": "execute_result",
          "data": {
            "text/plain": [
              "17652"
            ]
          },
          "metadata": {},
          "execution_count": 34
        }
      ]
    },
    {
      "cell_type": "code",
      "metadata": {
        "colab": {
          "base_uri": "https://localhost:8080/"
        },
        "id": "H02Fsfv6olcE",
        "outputId": "856f78d0-bfd1-4375-cdf8-8e2dabd960d9"
      },
      "source": [
        "lista = \"lgica\"\n",
        "lista[0]\n",
        "(lista[:1],lista[1:] )"
      ],
      "execution_count": null,
      "outputs": [
        {
          "output_type": "execute_result",
          "data": {
            "text/plain": [
              "('l', 'gica')"
            ]
          },
          "metadata": {},
          "execution_count": 41
        }
      ]
    },
    {
      "cell_type": "code",
      "metadata": {
        "colab": {
          "base_uri": "https://localhost:8080/"
        },
        "id": "tbr5F-AXl-Ed",
        "outputId": "292dfec7-c82d-4d3b-a00b-661f3dfe1328"
      },
      "source": [
        "palavra_exemplo = 'lódgica'\n",
        "\n",
        "def insere_letras(fatias):\n",
        "  novas_palavras = []\n",
        "  letras = 'abcdefghijklmnopqrstuvwxyzáâàãéêèẽíîìĩóôõòúûùũç'\n",
        "  for E, D in fatias:\n",
        "    for letra in letras:\n",
        "      novas_palavras.append(E + letra + D)\n",
        "  return novas_palavras\n",
        "\n",
        "def gerador_palavras(palavra):\n",
        "  fatias = []\n",
        "  for i in range(len(palavra)+1):\n",
        "    fatias.append((palavra[:i], palavra[i:]))\n",
        "  palavras_geradas = insere_letras(fatias)\n",
        "  return palavras_geradas\n",
        "\n",
        "palavras_geradas = gerador_palavras(palavra_exemplo)\n",
        "print(palavras_geradas)"
      ],
      "execution_count": null,
      "outputs": [
        {
          "output_type": "stream",
          "name": "stdout",
          "text": [
            "['alódgica', 'blódgica', 'clódgica', 'dlódgica', 'elódgica', 'flódgica', 'glódgica', 'hlódgica', 'ilódgica', 'jlódgica', 'klódgica', 'llódgica', 'mlódgica', 'nlódgica', 'olódgica', 'plódgica', 'qlódgica', 'rlódgica', 'slódgica', 'tlódgica', 'ulódgica', 'vlódgica', 'wlódgica', 'xlódgica', 'ylódgica', 'zlódgica', 'álódgica', 'âlódgica', 'àlódgica', 'ãlódgica', 'élódgica', 'êlódgica', 'èlódgica', 'ẽlódgica', 'ílódgica', 'îlódgica', 'ìlódgica', 'ĩlódgica', 'ólódgica', 'ôlódgica', 'õlódgica', 'òlódgica', 'úlódgica', 'ûlódgica', 'ùlódgica', 'ũlódgica', 'çlódgica', 'laódgica', 'lbódgica', 'lcódgica', 'ldódgica', 'leódgica', 'lfódgica', 'lgódgica', 'lhódgica', 'liódgica', 'ljódgica', 'lkódgica', 'llódgica', 'lmódgica', 'lnódgica', 'loódgica', 'lpódgica', 'lqódgica', 'lródgica', 'lsódgica', 'ltódgica', 'luódgica', 'lvódgica', 'lwódgica', 'lxódgica', 'lyódgica', 'lzódgica', 'láódgica', 'lâódgica', 'làódgica', 'lãódgica', 'léódgica', 'lêódgica', 'lèódgica', 'lẽódgica', 'líódgica', 'lîódgica', 'lìódgica', 'lĩódgica', 'lóódgica', 'lôódgica', 'lõódgica', 'lòódgica', 'lúódgica', 'lûódgica', 'lùódgica', 'lũódgica', 'lçódgica', 'lóadgica', 'lóbdgica', 'lócdgica', 'lóddgica', 'lóedgica', 'lófdgica', 'lógdgica', 'lóhdgica', 'lóidgica', 'lójdgica', 'lókdgica', 'lóldgica', 'lómdgica', 'lóndgica', 'lóodgica', 'lópdgica', 'lóqdgica', 'lórdgica', 'lósdgica', 'lótdgica', 'lóudgica', 'lóvdgica', 'lówdgica', 'lóxdgica', 'lóydgica', 'lózdgica', 'lóádgica', 'lóâdgica', 'lóàdgica', 'lóãdgica', 'lóédgica', 'lóêdgica', 'lóèdgica', 'lóẽdgica', 'lóídgica', 'lóîdgica', 'lóìdgica', 'lóĩdgica', 'lóódgica', 'lóôdgica', 'lóõdgica', 'lóòdgica', 'lóúdgica', 'lóûdgica', 'lóùdgica', 'lóũdgica', 'lóçdgica', 'lódagica', 'lódbgica', 'lódcgica', 'lóddgica', 'lódegica', 'lódfgica', 'lódggica', 'lódhgica', 'lódigica', 'lódjgica', 'lódkgica', 'lódlgica', 'lódmgica', 'lódngica', 'lódogica', 'lódpgica', 'lódqgica', 'lódrgica', 'lódsgica', 'lódtgica', 'lódugica', 'lódvgica', 'lódwgica', 'lódxgica', 'lódygica', 'lódzgica', 'lódágica', 'lódâgica', 'lódàgica', 'lódãgica', 'lódégica', 'lódêgica', 'lódègica', 'lódẽgica', 'lódígica', 'lódîgica', 'lódìgica', 'lódĩgica', 'lódógica', 'lódôgica', 'lódõgica', 'lódògica', 'lódúgica', 'lódûgica', 'lódùgica', 'lódũgica', 'lódçgica', 'lódgaica', 'lódgbica', 'lódgcica', 'lódgdica', 'lódgeica', 'lódgfica', 'lódggica', 'lódghica', 'lódgiica', 'lódgjica', 'lódgkica', 'lódglica', 'lódgmica', 'lódgnica', 'lódgoica', 'lódgpica', 'lódgqica', 'lódgrica', 'lódgsica', 'lódgtica', 'lódguica', 'lódgvica', 'lódgwica', 'lódgxica', 'lódgyica', 'lódgzica', 'lódgáica', 'lódgâica', 'lódgàica', 'lódgãica', 'lódgéica', 'lódgêica', 'lódgèica', 'lódgẽica', 'lódgíica', 'lódgîica', 'lódgìica', 'lódgĩica', 'lódgóica', 'lódgôica', 'lódgõica', 'lódgòica', 'lódgúica', 'lódgûica', 'lódgùica', 'lódgũica', 'lódgçica', 'lódgiaca', 'lódgibca', 'lódgicca', 'lódgidca', 'lódgieca', 'lódgifca', 'lódgigca', 'lódgihca', 'lódgiica', 'lódgijca', 'lódgikca', 'lódgilca', 'lódgimca', 'lódginca', 'lódgioca', 'lódgipca', 'lódgiqca', 'lódgirca', 'lódgisca', 'lódgitca', 'lódgiuca', 'lódgivca', 'lódgiwca', 'lódgixca', 'lódgiyca', 'lódgizca', 'lódgiáca', 'lódgiâca', 'lódgiàca', 'lódgiãca', 'lódgiéca', 'lódgiêca', 'lódgièca', 'lódgiẽca', 'lódgiíca', 'lódgiîca', 'lódgiìca', 'lódgiĩca', 'lódgióca', 'lódgiôca', 'lódgiõca', 'lódgiòca', 'lódgiúca', 'lódgiûca', 'lódgiùca', 'lódgiũca', 'lódgiçca', 'lódgicaa', 'lódgicba', 'lódgicca', 'lódgicda', 'lódgicea', 'lódgicfa', 'lódgicga', 'lódgicha', 'lódgicia', 'lódgicja', 'lódgicka', 'lódgicla', 'lódgicma', 'lódgicna', 'lódgicoa', 'lódgicpa', 'lódgicqa', 'lódgicra', 'lódgicsa', 'lódgicta', 'lódgicua', 'lódgicva', 'lódgicwa', 'lódgicxa', 'lódgicya', 'lódgicza', 'lódgicáa', 'lódgicâa', 'lódgicàa', 'lódgicãa', 'lódgicéa', 'lódgicêa', 'lódgicèa', 'lódgicẽa', 'lódgicía', 'lódgicîa', 'lódgicìa', 'lódgicĩa', 'lódgicóa', 'lódgicôa', 'lódgicõa', 'lódgicòa', 'lódgicúa', 'lódgicûa', 'lódgicùa', 'lódgicũa', 'lódgicça', 'lódgicaa', 'lódgicab', 'lódgicac', 'lódgicad', 'lódgicae', 'lódgicaf', 'lódgicag', 'lódgicah', 'lódgicai', 'lódgicaj', 'lódgicak', 'lódgical', 'lódgicam', 'lódgican', 'lódgicao', 'lódgicap', 'lódgicaq', 'lódgicar', 'lódgicas', 'lódgicat', 'lódgicau', 'lódgicav', 'lódgicaw', 'lódgicax', 'lódgicay', 'lódgicaz', 'lódgicaá', 'lódgicaâ', 'lódgicaà', 'lódgicaã', 'lódgicaé', 'lódgicaê', 'lódgicaè', 'lódgicaẽ', 'lódgicaí', 'lódgicaî', 'lódgicaì', 'lódgicaĩ', 'lódgicaó', 'lódgicaô', 'lódgicaõ', 'lódgicaò', 'lódgicaú', 'lódgicaû', 'lódgicaù', 'lódgicaũ', 'lódgicaç']\n"
          ]
        }
      ]
    },
    {
      "cell_type": "code",
      "metadata": {
        "id": "wi2Qt7mcsmlq"
      },
      "source": [
        "def corretor(palavra):\n",
        "  palavras_geradas = gerador_palavras(palavra)\n",
        "  palavra_correta = max(palavras_geradas, key=probabilidade)\n",
        "  return palavra_correta"
      ],
      "execution_count": null,
      "outputs": []
    },
    {
      "cell_type": "code",
      "metadata": {
        "colab": {
          "base_uri": "https://localhost:8080/"
        },
        "id": "dhOzbICCt6zC",
        "outputId": "3faa4510-8556-4102-bdad-1e4833aac813"
      },
      "source": [
        "frequencia = nltk.FreqDist(lista_normalizada)\n",
        "frequencia.most_common(10)"
      ],
      "execution_count": null,
      "outputs": [
        {
          "output_type": "execute_result",
          "data": {
            "text/plain": [
              "[('de', 15494),\n",
              " ('o', 13966),\n",
              " ('que', 12225),\n",
              " ('a', 11034),\n",
              " ('e', 10478),\n",
              " ('para', 7694),\n",
              " ('um', 6346),\n",
              " ('é', 5881),\n",
              " ('uma', 5202),\n",
              " ('do', 5116)]"
            ]
          },
          "metadata": {},
          "execution_count": 68
        }
      ]
    },
    {
      "cell_type": "code",
      "metadata": {
        "colab": {
          "base_uri": "https://localhost:8080/"
        },
        "id": "QTjIHUQjuitS",
        "outputId": "505bde31-0976-466c-d948-92bcb32ff1f8"
      },
      "source": [
        "frequencia[\"lógica\"]"
      ],
      "execution_count": null,
      "outputs": [
        {
          "output_type": "execute_result",
          "data": {
            "text/plain": [
              "87"
            ]
          },
          "metadata": {},
          "execution_count": 69
        }
      ]
    },
    {
      "cell_type": "code",
      "metadata": {
        "id": "80YjgseIvDsm"
      },
      "source": [
        "total_palavras = len(lista_normalizada)"
      ],
      "execution_count": null,
      "outputs": []
    },
    {
      "cell_type": "code",
      "metadata": {
        "colab": {
          "base_uri": "https://localhost:8080/"
        },
        "id": "0POoIj1tusKR",
        "outputId": "77ae50d5-7105-4c9a-c097-7a0d247e3d23"
      },
      "source": [
        "def probabilidade(palavra_gerada):\n",
        "  return frequencia[palavra_gerada]/total_palavras\n",
        "\n",
        "probabilidade(\"lgica\")"
      ],
      "execution_count": null,
      "outputs": [
        {
          "output_type": "execute_result",
          "data": {
            "text/plain": [
              "0.0"
            ]
          },
          "metadata": {},
          "execution_count": 71
        }
      ]
    },
    {
      "cell_type": "code",
      "metadata": {
        "colab": {
          "base_uri": "https://localhost:8080/",
          "height": 35
        },
        "id": "89-drp9LvxRw",
        "outputId": "e165655d-69ef-4395-a4cc-57a6a01885c0"
      },
      "source": [
        "corretor(palavra_exemplo)"
      ],
      "execution_count": null,
      "outputs": [
        {
          "output_type": "execute_result",
          "data": {
            "application/vnd.google.colaboratory.intrinsic+json": {
              "type": "string"
            },
            "text/plain": [
              "'lógica'"
            ]
          },
          "metadata": {},
          "execution_count": 72
        }
      ]
    },
    {
      "cell_type": "code",
      "metadata": {
        "colab": {
          "base_uri": "https://localhost:8080/"
        },
        "id": "Se2JxWIBw866",
        "outputId": "910c64d1-3954-4969-e309-17563ce13bb7"
      },
      "source": [
        "def cria_dados_teste(nome_arquivo):\n",
        "  lista_palavras_teste = []\n",
        "  f = open(nome_arquivo, 'r')\n",
        "  for linha in f:\n",
        "    correta, errada = linha.split()\n",
        "    lista_palavras_teste.append((correta, errada))\n",
        "  f.close()\n",
        "  return lista_palavras_teste\n",
        "\n",
        "lista_teste = cria_dados_teste(\"palavras.txt\")\n",
        "\n",
        "def avaliador(testes):\n",
        "  numero_palavras = len(testes)\n",
        "  acertou = 0\n",
        "  for correta, errada in testes:\n",
        "    palavra_corrigida = corretor(errada)\n",
        "    if palavra_corrigida == correta:\n",
        "      acertou +=1\n",
        "  taxa_acerto = round(acertou*100/numero_palavras, 2)\n",
        "  print(f\"taxa de acerto % {taxa_acerto}\")\n",
        "\n",
        "avaliador(lista_teste)"
      ],
      "execution_count": null,
      "outputs": [
        {
          "output_type": "stream",
          "name": "stdout",
          "text": [
            "taxa de acerto % 1.08\n"
          ]
        }
      ]
    },
    {
      "cell_type": "code",
      "metadata": {
        "id": "IqQ1H_MN-R3m"
      },
      "source": [
        "def deletando_caracteres(fatias):\n",
        "  novas_palavras = []\n",
        "  for E, D in fatias:\n",
        "    novas_palavras.append(E +  D[1:])\n",
        "  return novas_palavras"
      ],
      "execution_count": null,
      "outputs": []
    },
    {
      "cell_type": "code",
      "metadata": {
        "colab": {
          "base_uri": "https://localhost:8080/"
        },
        "id": "Fw3oOOP3AS2u",
        "outputId": "ceb867e6-1cdc-424f-ca6d-baff2d410364"
      },
      "source": [
        "def gerador_palavras(palavra):\n",
        "    fatias = []\n",
        "    for i in range(len(palavra)+1):\n",
        "        fatias.append((palavra[:i],palavra[i:]))\n",
        "    palavras_geradas = insere_letras(fatias)\n",
        "    palavras_geradas += deletando_caracteres(fatias)\n",
        "    return palavras_geradas\n",
        "palavra_exemplo = \"lóigica\"\n",
        "palavras_geradas = gerador_palavras(palavra_exemplo)\n",
        "print(palavras_geradas)"
      ],
      "execution_count": null,
      "outputs": [
        {
          "output_type": "stream",
          "name": "stdout",
          "text": [
            "['alóigica', 'blóigica', 'clóigica', 'dlóigica', 'elóigica', 'flóigica', 'glóigica', 'hlóigica', 'ilóigica', 'jlóigica', 'klóigica', 'llóigica', 'mlóigica', 'nlóigica', 'olóigica', 'plóigica', 'qlóigica', 'rlóigica', 'slóigica', 'tlóigica', 'ulóigica', 'vlóigica', 'wlóigica', 'xlóigica', 'ylóigica', 'zlóigica', 'álóigica', 'âlóigica', 'àlóigica', 'ãlóigica', 'élóigica', 'êlóigica', 'èlóigica', 'ẽlóigica', 'ílóigica', 'îlóigica', 'ìlóigica', 'ĩlóigica', 'ólóigica', 'ôlóigica', 'õlóigica', 'òlóigica', 'úlóigica', 'ûlóigica', 'ùlóigica', 'ũlóigica', 'çlóigica', 'laóigica', 'lbóigica', 'lcóigica', 'ldóigica', 'leóigica', 'lfóigica', 'lgóigica', 'lhóigica', 'lióigica', 'ljóigica', 'lkóigica', 'llóigica', 'lmóigica', 'lnóigica', 'loóigica', 'lpóigica', 'lqóigica', 'lróigica', 'lsóigica', 'ltóigica', 'luóigica', 'lvóigica', 'lwóigica', 'lxóigica', 'lyóigica', 'lzóigica', 'láóigica', 'lâóigica', 'làóigica', 'lãóigica', 'léóigica', 'lêóigica', 'lèóigica', 'lẽóigica', 'líóigica', 'lîóigica', 'lìóigica', 'lĩóigica', 'lóóigica', 'lôóigica', 'lõóigica', 'lòóigica', 'lúóigica', 'lûóigica', 'lùóigica', 'lũóigica', 'lçóigica', 'lóaigica', 'lóbigica', 'lócigica', 'lódigica', 'lóeigica', 'lófigica', 'lógigica', 'lóhigica', 'lóiigica', 'lójigica', 'lókigica', 'lóligica', 'lómigica', 'lónigica', 'lóoigica', 'lópigica', 'lóqigica', 'lórigica', 'lósigica', 'lótigica', 'lóuigica', 'lóvigica', 'lówigica', 'lóxigica', 'lóyigica', 'lózigica', 'lóáigica', 'lóâigica', 'lóàigica', 'lóãigica', 'lóéigica', 'lóêigica', 'lóèigica', 'lóẽigica', 'lóíigica', 'lóîigica', 'lóìigica', 'lóĩigica', 'lóóigica', 'lóôigica', 'lóõigica', 'lóòigica', 'lóúigica', 'lóûigica', 'lóùigica', 'lóũigica', 'lóçigica', 'lóiagica', 'lóibgica', 'lóicgica', 'lóidgica', 'lóiegica', 'lóifgica', 'lóiggica', 'lóihgica', 'lóiigica', 'lóijgica', 'lóikgica', 'lóilgica', 'lóimgica', 'lóingica', 'lóiogica', 'lóipgica', 'lóiqgica', 'lóirgica', 'lóisgica', 'lóitgica', 'lóiugica', 'lóivgica', 'lóiwgica', 'lóixgica', 'lóiygica', 'lóizgica', 'lóiágica', 'lóiâgica', 'lóiàgica', 'lóiãgica', 'lóiégica', 'lóiêgica', 'lóiègica', 'lóiẽgica', 'lóiígica', 'lóiîgica', 'lóiìgica', 'lóiĩgica', 'lóiógica', 'lóiôgica', 'lóiõgica', 'lóiògica', 'lóiúgica', 'lóiûgica', 'lóiùgica', 'lóiũgica', 'lóiçgica', 'lóigaica', 'lóigbica', 'lóigcica', 'lóigdica', 'lóigeica', 'lóigfica', 'lóiggica', 'lóighica', 'lóigiica', 'lóigjica', 'lóigkica', 'lóiglica', 'lóigmica', 'lóignica', 'lóigoica', 'lóigpica', 'lóigqica', 'lóigrica', 'lóigsica', 'lóigtica', 'lóiguica', 'lóigvica', 'lóigwica', 'lóigxica', 'lóigyica', 'lóigzica', 'lóigáica', 'lóigâica', 'lóigàica', 'lóigãica', 'lóigéica', 'lóigêica', 'lóigèica', 'lóigẽica', 'lóigíica', 'lóigîica', 'lóigìica', 'lóigĩica', 'lóigóica', 'lóigôica', 'lóigõica', 'lóigòica', 'lóigúica', 'lóigûica', 'lóigùica', 'lóigũica', 'lóigçica', 'lóigiaca', 'lóigibca', 'lóigicca', 'lóigidca', 'lóigieca', 'lóigifca', 'lóigigca', 'lóigihca', 'lóigiica', 'lóigijca', 'lóigikca', 'lóigilca', 'lóigimca', 'lóiginca', 'lóigioca', 'lóigipca', 'lóigiqca', 'lóigirca', 'lóigisca', 'lóigitca', 'lóigiuca', 'lóigivca', 'lóigiwca', 'lóigixca', 'lóigiyca', 'lóigizca', 'lóigiáca', 'lóigiâca', 'lóigiàca', 'lóigiãca', 'lóigiéca', 'lóigiêca', 'lóigièca', 'lóigiẽca', 'lóigiíca', 'lóigiîca', 'lóigiìca', 'lóigiĩca', 'lóigióca', 'lóigiôca', 'lóigiõca', 'lóigiòca', 'lóigiúca', 'lóigiûca', 'lóigiùca', 'lóigiũca', 'lóigiçca', 'lóigicaa', 'lóigicba', 'lóigicca', 'lóigicda', 'lóigicea', 'lóigicfa', 'lóigicga', 'lóigicha', 'lóigicia', 'lóigicja', 'lóigicka', 'lóigicla', 'lóigicma', 'lóigicna', 'lóigicoa', 'lóigicpa', 'lóigicqa', 'lóigicra', 'lóigicsa', 'lóigicta', 'lóigicua', 'lóigicva', 'lóigicwa', 'lóigicxa', 'lóigicya', 'lóigicza', 'lóigicáa', 'lóigicâa', 'lóigicàa', 'lóigicãa', 'lóigicéa', 'lóigicêa', 'lóigicèa', 'lóigicẽa', 'lóigicía', 'lóigicîa', 'lóigicìa', 'lóigicĩa', 'lóigicóa', 'lóigicôa', 'lóigicõa', 'lóigicòa', 'lóigicúa', 'lóigicûa', 'lóigicùa', 'lóigicũa', 'lóigicça', 'lóigicaa', 'lóigicab', 'lóigicac', 'lóigicad', 'lóigicae', 'lóigicaf', 'lóigicag', 'lóigicah', 'lóigicai', 'lóigicaj', 'lóigicak', 'lóigical', 'lóigicam', 'lóigican', 'lóigicao', 'lóigicap', 'lóigicaq', 'lóigicar', 'lóigicas', 'lóigicat', 'lóigicau', 'lóigicav', 'lóigicaw', 'lóigicax', 'lóigicay', 'lóigicaz', 'lóigicaá', 'lóigicaâ', 'lóigicaà', 'lóigicaã', 'lóigicaé', 'lóigicaê', 'lóigicaè', 'lóigicaẽ', 'lóigicaí', 'lóigicaî', 'lóigicaì', 'lóigicaĩ', 'lóigicaó', 'lóigicaô', 'lóigicaõ', 'lóigicaò', 'lóigicaú', 'lóigicaû', 'lóigicaù', 'lóigicaũ', 'lóigicaç', 'óigica', 'ligica', 'lógica', 'lóiica', 'lóigca', 'lóigia', 'lóigic', 'lóigica']\n"
          ]
        }
      ]
    },
    {
      "cell_type": "code",
      "metadata": {
        "colab": {
          "base_uri": "https://localhost:8080/"
        },
        "id": "x7adxOLuD3fV",
        "outputId": "5894c4ea-8305-49ed-a711-b3b796d41bb8"
      },
      "source": [
        "avaliador(lista_teste)"
      ],
      "execution_count": null,
      "outputs": [
        {
          "output_type": "stream",
          "name": "stdout",
          "text": [
            "taxa de acerto % 41.4\n"
          ]
        }
      ]
    },
    {
      "cell_type": "code",
      "metadata": {
        "id": "aGtlXtpTD6s7"
      },
      "source": [
        "def troca_letra(fatias):\n",
        "  "
      ],
      "execution_count": null,
      "outputs": []
    }
  ]
}