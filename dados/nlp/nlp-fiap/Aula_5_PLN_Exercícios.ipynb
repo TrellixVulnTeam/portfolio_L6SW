{
  "nbformat": 4,
  "nbformat_minor": 0,
  "metadata": {
    "colab": {
      "name": "Aula 5 PLN - Exercícios.ipynb",
      "provenance": [],
      "collapsed_sections": []
    },
    "kernelspec": {
      "name": "python3",
      "display_name": "Python 3"
    }
  },
  "cells": [
    {
      "cell_type": "markdown",
      "metadata": {
        "id": "0XkYIDM8FfXM",
        "colab_type": "text"
      },
      "source": [
        "# Exercícios!\n",
        "\n",
        "O código abaixo vai montar o Google Drive como um disco e torna-lo acessível para salvarmos os arquivos no drive! \n",
        "\n",
        "**É necessário apenas para quem usar o Google Colab**"
      ]
    },
    {
      "cell_type": "code",
      "metadata": {
        "id": "gxXlweBISUeW",
        "colab_type": "code",
        "outputId": "71005477-1cb3-4a45-ad3d-4954c73e6720",
        "colab": {
          "base_uri": "https://localhost:8080/",
          "height": 35
        }
      },
      "source": [
        "from google.colab import drive\n",
        "drive.mount('/content/gdrive', force_remount=True)"
      ],
      "execution_count": 0,
      "outputs": [
        {
          "output_type": "stream",
          "text": [
            "Mounted at /content/gdrive\n"
          ],
          "name": "stdout"
        }
      ]
    },
    {
      "cell_type": "markdown",
      "metadata": {
        "id": "V9eq_MySF-Z4",
        "colab_type": "text"
      },
      "source": [
        "A classe abaixo nos ajudará a acompanhar o progresso do download."
      ]
    },
    {
      "cell_type": "markdown",
      "metadata": {
        "id": "HHdyMggUGKXx",
        "colab_type": "text"
      },
      "source": [
        "## Exercício 1\n",
        "\n",
        "1. Com base no dataset disponibilizado para download, carrege 10 mil linhas de forma randômica.\n",
        "2. Crie um classificador que consiga predizer o sentimeto associado a um texto novo (não pertencente a amostra)"
      ]
    },
    {
      "cell_type": "code",
      "metadata": {
        "id": "oKqFzqTMVc-k",
        "colab_type": "code",
        "outputId": "615f5e05-78ba-43b7-c370-e6733fea3d1b",
        "colab": {
          "base_uri": "https://localhost:8080/",
          "height": 34
        }
      },
      "source": [
        "import pandas as pd\n",
        "\n",
        "df = pd.read_csv(\n",
        "    'https://s3.amazonaws.com/aulas-fiap/imdb-reviews-pt-br.csv'\n",
        ").sample(10000)\n",
        "\n",
        "df.shape"
      ],
      "execution_count": 0,
      "outputs": [
        {
          "output_type": "execute_result",
          "data": {
            "text/plain": [
              "(10000, 4)"
            ]
          },
          "metadata": {
            "tags": []
          },
          "execution_count": 19
        }
      ]
    },
    {
      "cell_type": "code",
      "metadata": {
        "id": "oz0V7StwdK8s",
        "colab_type": "code",
        "outputId": "8e4f722a-437f-4c62-8686-fadb42fb7799",
        "colab": {
          "base_uri": "https://localhost:8080/",
          "height": 174
        }
      },
      "source": [
        "df.info()"
      ],
      "execution_count": 0,
      "outputs": [
        {
          "output_type": "stream",
          "text": [
            "<class 'pandas.core.frame.DataFrame'>\n",
            "Int64Index: 10000 entries, 23449 to 20493\n",
            "Data columns (total 4 columns):\n",
            "id           10000 non-null int64\n",
            "text_en      10000 non-null object\n",
            "text_pt      10000 non-null object\n",
            "sentiment    10000 non-null object\n",
            "dtypes: int64(1), object(3)\n",
            "memory usage: 390.6+ KB\n"
          ],
          "name": "stdout"
        }
      ]
    },
    {
      "cell_type": "code",
      "metadata": {
        "id": "ArKQ3to-dQFd",
        "colab_type": "code",
        "outputId": "7f73cc7d-0877-4fb7-92f2-636f277e9ffa",
        "colab": {
          "base_uri": "https://localhost:8080/",
          "height": 69
        }
      },
      "source": [
        "df.sentiment.value_counts()"
      ],
      "execution_count": 0,
      "outputs": [
        {
          "output_type": "execute_result",
          "data": {
            "text/plain": [
              "pos    5041\n",
              "neg    4959\n",
              "Name: sentiment, dtype: int64"
            ]
          },
          "metadata": {
            "tags": []
          },
          "execution_count": 22
        }
      ]
    },
    {
      "cell_type": "markdown",
      "metadata": {
        "id": "KWENeWYAGkjn",
        "colab_type": "text"
      },
      "source": [
        "## Exercício 2\n",
        "\n",
        "1. Crie uma função que substitua uma ou mais palavras de um texto um uma palavra similar com base na sua classe gramatical.\n",
        "2. Extenda essa função para considerar uma substituição positiva ou negativa."
      ]
    },
    {
      "cell_type": "code",
      "metadata": {
        "id": "VsZnhUeTSEWs",
        "colab_type": "code",
        "outputId": "98de4850-3f74-4d33-cbe5-7ee4707d4858",
        "colab": {
          "base_uri": "https://localhost:8080/",
          "height": 565
        }
      },
      "source": [
        "!pip install gensim==2.0.0"
      ],
      "execution_count": 0,
      "outputs": [
        {
          "output_type": "stream",
          "text": [
            "Collecting gensim==2.0.0\n",
            "\u001b[?25l  Downloading https://files.pythonhosted.org/packages/63/fb/cf179ba76171489d9097bbc679b6375c0213b99203d90ffa52a373bb8167/gensim-2.0.0.tar.gz (14.1MB)\n",
            "\u001b[K     |████████████████████████████████| 14.2MB 2.8MB/s \n",
            "\u001b[?25hRequirement already satisfied: numpy>=1.3 in /usr/local/lib/python3.6/dist-packages (from gensim==2.0.0) (1.16.5)\n",
            "Requirement already satisfied: scipy>=0.7.0 in /usr/local/lib/python3.6/dist-packages (from gensim==2.0.0) (1.3.1)\n",
            "Requirement already satisfied: six>=1.5.0 in /usr/local/lib/python3.6/dist-packages (from gensim==2.0.0) (1.12.0)\n",
            "Requirement already satisfied: smart_open>=1.2.1 in /usr/local/lib/python3.6/dist-packages (from gensim==2.0.0) (1.8.4)\n",
            "Requirement already satisfied: boto>=2.32 in /usr/local/lib/python3.6/dist-packages (from smart_open>=1.2.1->gensim==2.0.0) (2.49.0)\n",
            "Requirement already satisfied: boto3 in /usr/local/lib/python3.6/dist-packages (from smart_open>=1.2.1->gensim==2.0.0) (1.9.236)\n",
            "Requirement already satisfied: requests in /usr/local/lib/python3.6/dist-packages (from smart_open>=1.2.1->gensim==2.0.0) (2.21.0)\n",
            "Requirement already satisfied: s3transfer<0.3.0,>=0.2.0 in /usr/local/lib/python3.6/dist-packages (from boto3->smart_open>=1.2.1->gensim==2.0.0) (0.2.1)\n",
            "Requirement already satisfied: botocore<1.13.0,>=1.12.236 in /usr/local/lib/python3.6/dist-packages (from boto3->smart_open>=1.2.1->gensim==2.0.0) (1.12.236)\n",
            "Requirement already satisfied: jmespath<1.0.0,>=0.7.1 in /usr/local/lib/python3.6/dist-packages (from boto3->smart_open>=1.2.1->gensim==2.0.0) (0.9.4)\n",
            "Requirement already satisfied: urllib3<1.25,>=1.21.1 in /usr/local/lib/python3.6/dist-packages (from requests->smart_open>=1.2.1->gensim==2.0.0) (1.24.3)\n",
            "Requirement already satisfied: certifi>=2017.4.17 in /usr/local/lib/python3.6/dist-packages (from requests->smart_open>=1.2.1->gensim==2.0.0) (2019.9.11)\n",
            "Requirement already satisfied: idna<2.9,>=2.5 in /usr/local/lib/python3.6/dist-packages (from requests->smart_open>=1.2.1->gensim==2.0.0) (2.8)\n",
            "Requirement already satisfied: chardet<3.1.0,>=3.0.2 in /usr/local/lib/python3.6/dist-packages (from requests->smart_open>=1.2.1->gensim==2.0.0) (3.0.4)\n",
            "Requirement already satisfied: python-dateutil<3.0.0,>=2.1; python_version >= \"2.7\" in /usr/local/lib/python3.6/dist-packages (from botocore<1.13.0,>=1.12.236->boto3->smart_open>=1.2.1->gensim==2.0.0) (2.5.3)\n",
            "Requirement already satisfied: docutils<0.16,>=0.10 in /usr/local/lib/python3.6/dist-packages (from botocore<1.13.0,>=1.12.236->boto3->smart_open>=1.2.1->gensim==2.0.0) (0.15.2)\n",
            "Building wheels for collected packages: gensim\n",
            "  Building wheel for gensim (setup.py) ... \u001b[?25l\u001b[?25hdone\n",
            "  Created wheel for gensim: filename=gensim-2.0.0-cp36-cp36m-linux_x86_64.whl size=5684096 sha256=e56b75f5be4ee71d6b2c1f00155f760617ccf8cba0a9bf0e66bb6168e429113d\n",
            "  Stored in directory: /root/.cache/pip/wheels/e9/e6/df/e2f17f1cbf6afe5c787267fc0f79783ec3308289d2482189a9\n",
            "Successfully built gensim\n",
            "Installing collected packages: gensim\n",
            "  Found existing installation: gensim 3.6.0\n",
            "    Uninstalling gensim-3.6.0:\n",
            "      Successfully uninstalled gensim-3.6.0\n",
            "Successfully installed gensim-2.0.0\n"
          ],
          "name": "stdout"
        }
      ]
    },
    {
      "cell_type": "code",
      "metadata": {
        "colab_type": "code",
        "id": "6RS5-IGwGHVK",
        "colab": {}
      },
      "source": [
        "from tqdm import tqdm\n",
        "\n",
        "class DLProgress(tqdm):\n",
        "  last_block = 0\n",
        "\n",
        "  def hook(self, block_num=1, block_size=1, total_size=None):\n",
        "    self.total = total_size\n",
        "    self.update((block_num - self.last_block) * block_size)\n",
        "    self.last_block = block_num"
      ],
      "execution_count": 0,
      "outputs": []
    },
    {
      "cell_type": "code",
      "metadata": {
        "id": "tQBz6ep8LP3T",
        "colab_type": "code",
        "outputId": "4beb4a92-2e70-4dcc-ba65-2433ac3e71bd",
        "colab": {
          "base_uri": "https://localhost:8080/",
          "height": 72
        }
      },
      "source": [
        "!ls /content/gdrive/My\\ Drive/"
      ],
      "execution_count": 0,
      "outputs": [
        {
          "output_type": "stream",
          "text": [
            "'Deployment de Modelos de ML em Produção.gdoc'\t    guilherme.tar.gz\n",
            "'Frameworks para Data Science.gform'\t\t   'Planilha sem título.gsheet'\n",
            "'Frameworks para Data Science (respostas).gsheet'\n"
          ],
          "name": "stdout"
        }
      ]
    },
    {
      "cell_type": "code",
      "metadata": {
        "id": "CBNaBe4-SYTt",
        "colab_type": "code",
        "outputId": "7df4e267-64b7-4552-b564-275039e8e1d2",
        "colab": {
          "base_uri": "https://localhost:8080/",
          "height": 389
        }
      },
      "source": [
        "from urllib.request import urlretrieve\n",
        "from os.path import isfile, isdir\n",
        "import zipfile\n",
        "\n",
        "tar_gz_path = '/content/gdrive/My Drive/FIAP/NLP/cbow_s300.zip'\n",
        "url = 'http://143.107.183.175:22980/download.php?file=embeddings/word2vec/cbow_s300.zip'\n",
        "\n",
        "if not isfile(tar_gz_path):\n",
        "  with DLProgress(unit='B', unit_scale=True, miniters=1, desc='Word2Vec Model') as pbar:\n",
        "    urlretrieve(\n",
        "      url,\n",
        "      tar_gz_path,\n",
        "      pbar.hook)\n",
        "\n",
        "if not isfile('/content/gdrive/My Drive/FIAP/NLP/cbow_s300.txt'):     \n",
        "  zip_ref = zipfile.ZipFile(tar_gz_path, 'r')\n",
        "  zip_ref.extractall('/content/gdrive/My Drive/FIAP/NLP/')\n",
        "  zip_ref.close()"
      ],
      "execution_count": 0,
      "outputs": [
        {
          "output_type": "stream",
          "text": [
            "\rWord2Vec Model: 0.00B [00:00, ?B/s]\n"
          ],
          "name": "stderr"
        },
        {
          "output_type": "error",
          "ename": "FileNotFoundError",
          "evalue": "ignored",
          "traceback": [
            "\u001b[0;31m---------------------------------------------------------------------------\u001b[0m",
            "\u001b[0;31mFileNotFoundError\u001b[0m                         Traceback (most recent call last)",
            "\u001b[0;32m<ipython-input-13-824dddac5222>\u001b[0m in \u001b[0;36m<module>\u001b[0;34m()\u001b[0m\n\u001b[1;32m     11\u001b[0m       \u001b[0murl\u001b[0m\u001b[0;34m,\u001b[0m\u001b[0;34m\u001b[0m\u001b[0;34m\u001b[0m\u001b[0m\n\u001b[1;32m     12\u001b[0m       \u001b[0mtar_gz_path\u001b[0m\u001b[0;34m,\u001b[0m\u001b[0;34m\u001b[0m\u001b[0;34m\u001b[0m\u001b[0m\n\u001b[0;32m---> 13\u001b[0;31m       pbar.hook)\n\u001b[0m\u001b[1;32m     14\u001b[0m \u001b[0;34m\u001b[0m\u001b[0m\n\u001b[1;32m     15\u001b[0m \u001b[0;32mif\u001b[0m \u001b[0;32mnot\u001b[0m \u001b[0misfile\u001b[0m\u001b[0;34m(\u001b[0m\u001b[0;34m'/content/gdrive/My Drive/FIAP/NLP/cbow_s300.txt'\u001b[0m\u001b[0;34m)\u001b[0m\u001b[0;34m:\u001b[0m\u001b[0;34m\u001b[0m\u001b[0;34m\u001b[0m\u001b[0m\n",
            "\u001b[0;32m/usr/lib/python3.6/urllib/request.py\u001b[0m in \u001b[0;36murlretrieve\u001b[0;34m(url, filename, reporthook, data)\u001b[0m\n\u001b[1;32m    256\u001b[0m         \u001b[0;31m# Handle temporary file setup.\u001b[0m\u001b[0;34m\u001b[0m\u001b[0;34m\u001b[0m\u001b[0;34m\u001b[0m\u001b[0m\n\u001b[1;32m    257\u001b[0m         \u001b[0;32mif\u001b[0m \u001b[0mfilename\u001b[0m\u001b[0;34m:\u001b[0m\u001b[0;34m\u001b[0m\u001b[0;34m\u001b[0m\u001b[0m\n\u001b[0;32m--> 258\u001b[0;31m             \u001b[0mtfp\u001b[0m \u001b[0;34m=\u001b[0m \u001b[0mopen\u001b[0m\u001b[0;34m(\u001b[0m\u001b[0mfilename\u001b[0m\u001b[0;34m,\u001b[0m \u001b[0;34m'wb'\u001b[0m\u001b[0;34m)\u001b[0m\u001b[0;34m\u001b[0m\u001b[0;34m\u001b[0m\u001b[0m\n\u001b[0m\u001b[1;32m    259\u001b[0m         \u001b[0;32melse\u001b[0m\u001b[0;34m:\u001b[0m\u001b[0;34m\u001b[0m\u001b[0;34m\u001b[0m\u001b[0m\n\u001b[1;32m    260\u001b[0m             \u001b[0mtfp\u001b[0m \u001b[0;34m=\u001b[0m \u001b[0mtempfile\u001b[0m\u001b[0;34m.\u001b[0m\u001b[0mNamedTemporaryFile\u001b[0m\u001b[0;34m(\u001b[0m\u001b[0mdelete\u001b[0m\u001b[0;34m=\u001b[0m\u001b[0;32mFalse\u001b[0m\u001b[0;34m)\u001b[0m\u001b[0;34m\u001b[0m\u001b[0;34m\u001b[0m\u001b[0m\n",
            "\u001b[0;31mFileNotFoundError\u001b[0m: [Errno 2] No such file or directory: '/content/gdrive/My Drive/FIAP/NLP/cbow_s300.zip'"
          ]
        }
      ]
    },
    {
      "cell_type": "code",
      "metadata": {
        "id": "9IbgLdWPSw2q",
        "colab_type": "code",
        "colab": {}
      },
      "source": [
        "!ls -all -h /content/gdrive/My\\ Drive/FIAP/NLP/cbow_s300.txt"
      ],
      "execution_count": 0,
      "outputs": []
    },
    {
      "cell_type": "code",
      "metadata": {
        "id": "gwfNmoycGxAv",
        "colab_type": "code",
        "colab": {}
      },
      "source": [
        ""
      ],
      "execution_count": 0,
      "outputs": []
    }
  ]
}