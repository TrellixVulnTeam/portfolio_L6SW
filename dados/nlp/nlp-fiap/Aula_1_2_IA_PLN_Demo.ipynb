{
  "nbformat": 4,
  "nbformat_minor": 0,
  "metadata": {
    "colab": {
      "name": "Aula 1.2 IA PLN - Demo.ipynb",
      "version": "0.3.2",
      "provenance": [],
      "collapsed_sections": []
    },
    "kernelspec": {
      "name": "python3",
      "display_name": "Python 3"
    }
  },
  "cells": [
    {
      "cell_type": "markdown",
      "metadata": {
        "id": "JdelQOET5rDj",
        "colab_type": "text"
      },
      "source": [
        "# Processamento de Linguagem Natural\n",
        "\n",
        "---\n"
      ]
    },
    {
      "cell_type": "code",
      "metadata": {
        "id": "d4CKjpwJ2DD2",
        "colab_type": "code",
        "outputId": "7eb59ae0-a331-4b4e-f763-6a3c59c28f30",
        "colab": {
          "base_uri": "https://localhost:8080/",
          "height": 110
        }
      },
      "source": [
        "import pandas as pd\n",
        "\n",
        "df = pd.DataFrame({\n",
        "    'text': [\n",
        "      'Sobre MBA? Eu gostei muito do MBA da FIAP',\n",
        "      'O MBA da FIAP pode melhorar, não gostei muito'\n",
        "    ],\n",
        "    'class': [\n",
        "        'positivo',\n",
        "        'negativo'\n",
        "    ]})\n",
        "\n",
        "df.head()"
      ],
      "execution_count": 0,
      "outputs": [
        {
          "output_type": "execute_result",
          "data": {
            "text/html": [
              "<div>\n",
              "<style scoped>\n",
              "    .dataframe tbody tr th:only-of-type {\n",
              "        vertical-align: middle;\n",
              "    }\n",
              "\n",
              "    .dataframe tbody tr th {\n",
              "        vertical-align: top;\n",
              "    }\n",
              "\n",
              "    .dataframe thead th {\n",
              "        text-align: right;\n",
              "    }\n",
              "</style>\n",
              "<table border=\"1\" class=\"dataframe\">\n",
              "  <thead>\n",
              "    <tr style=\"text-align: right;\">\n",
              "      <th></th>\n",
              "      <th>text</th>\n",
              "      <th>class</th>\n",
              "    </tr>\n",
              "  </thead>\n",
              "  <tbody>\n",
              "    <tr>\n",
              "      <th>0</th>\n",
              "      <td>Sobre MBA? Eu gostei muito do MBA da FIAP</td>\n",
              "      <td>positivo</td>\n",
              "    </tr>\n",
              "    <tr>\n",
              "      <th>1</th>\n",
              "      <td>O MBA da FIAP pode melhorar, não gostei muito</td>\n",
              "      <td>negativo</td>\n",
              "    </tr>\n",
              "  </tbody>\n",
              "</table>\n",
              "</div>"
            ],
            "text/plain": [
              "                                            text     class\n",
              "0      Sobre MBA? Eu gostei muito do MBA da FIAP  positivo\n",
              "1  O MBA da FIAP pode melhorar, não gostei muito  negativo"
            ]
          },
          "metadata": {
            "tags": []
          },
          "execution_count": 1
        }
      ]
    },
    {
      "cell_type": "markdown",
      "metadata": {
        "id": "IqCkOL0C5-FC",
        "colab_type": "text"
      },
      "source": [
        "## UNIGRAMA\n",
        "\n",
        "---"
      ]
    },
    {
      "cell_type": "code",
      "metadata": {
        "id": "1rhnMqaq6Bgc",
        "colab_type": "code",
        "outputId": "ac9e106c-1f62-439c-dec9-144432f6c6a7",
        "colab": {
          "base_uri": "https://localhost:8080/",
          "height": 68
        }
      },
      "source": [
        "df.text"
      ],
      "execution_count": 0,
      "outputs": [
        {
          "output_type": "execute_result",
          "data": {
            "text/plain": [
              "0        Sobre MBA? Eu gostei muito do MBA da FIAP\n",
              "1    O MBA da FIAP pode melhorar, não gostei muito\n",
              "Name: text, dtype: object"
            ]
          },
          "metadata": {
            "tags": []
          },
          "execution_count": 2
        }
      ]
    },
    {
      "cell_type": "code",
      "metadata": {
        "id": "G6kSv69h2jKs",
        "colab_type": "code",
        "outputId": "a79ea228-1a24-48bf-8ff8-f879781aaa2c",
        "colab": {
          "base_uri": "https://localhost:8080/",
          "height": 69
        }
      },
      "source": [
        "from sklearn.feature_extraction.text import CountVectorizer\n",
        "\n",
        "vect = CountVectorizer(ngram_range=(1,1))\n",
        "vect.fit(df.text)\n",
        "text_vect = vect.transform(df.text)\n",
        "\n",
        "print(pd.DataFrame(text_vect.A, columns=vect.get_feature_names()).to_string())"
      ],
      "execution_count": 0,
      "outputs": [
        {
          "output_type": "stream",
          "text": [
            "   da  do  eu  fiap  gostei  mba  melhorar  muito  não  pode  sobre\n",
            "0   1   1   1     1       1    2         0      1    0     0      1\n",
            "1   1   0   0     1       1    1         1      1    1     1      0\n"
          ],
          "name": "stdout"
        }
      ]
    },
    {
      "cell_type": "markdown",
      "metadata": {
        "id": "PHfqBTzH6LQm",
        "colab_type": "text"
      },
      "source": [
        "## BIGRAMA\n",
        "\n",
        "---"
      ]
    },
    {
      "cell_type": "code",
      "metadata": {
        "id": "qDLdamcR2q4e",
        "colab_type": "code",
        "outputId": "cfd550e9-9b19-4bab-c149-7a87a1a63344",
        "colab": {
          "base_uri": "https://localhost:8080/",
          "height": 243
        }
      },
      "source": [
        "from sklearn.feature_extraction.text import CountVectorizer\n",
        "\n",
        "vect = CountVectorizer(ngram_range=(2,2))\n",
        "vect.fit(df.text)\n",
        "text_vect = vect.transform(df.text)\n",
        "\n",
        "print(pd.DataFrame(text_vect.A, columns=vect.get_feature_names()).T.to_string())"
      ],
      "execution_count": 0,
      "outputs": [
        {
          "output_type": "stream",
          "text": [
            "               0  1\n",
            "da fiap        1  1\n",
            "do mba         1  0\n",
            "eu gostei      1  0\n",
            "fiap pode      0  1\n",
            "gostei muito   1  1\n",
            "mba da         1  1\n",
            "mba eu         1  0\n",
            "melhorar não   0  1\n",
            "muito do       1  0\n",
            "não gostei     0  1\n",
            "pode melhorar  0  1\n",
            "sobre mba      1  0\n"
          ],
          "name": "stdout"
        }
      ]
    },
    {
      "cell_type": "markdown",
      "metadata": {
        "id": "QIFnNUdM6SvU",
        "colab_type": "text"
      },
      "source": [
        "## TRIGRAMA\n",
        "\n",
        "---"
      ]
    },
    {
      "cell_type": "code",
      "metadata": {
        "id": "xalnPjjG2u7k",
        "colab_type": "code",
        "outputId": "95ce50c4-53dd-4b9c-fbe7-aa0f94c21e53",
        "colab": {
          "base_uri": "https://localhost:8080/",
          "height": 634
        }
      },
      "source": [
        "from sklearn.feature_extraction.text import CountVectorizer\n",
        "\n",
        "vect = CountVectorizer(ngram_range=(1,3))\n",
        "vect.fit(df.text)\n",
        "text_vect = vect.transform(df.text)\n",
        "\n",
        "print(pd.DataFrame(text_vect.A, columns=vect.get_feature_names()).T.to_string())"
      ],
      "execution_count": 0,
      "outputs": [
        {
          "output_type": "stream",
          "text": [
            "                     0  1\n",
            "da                   1  1\n",
            "da fiap              1  1\n",
            "da fiap pode         0  1\n",
            "do                   1  0\n",
            "do mba               1  0\n",
            "do mba da            1  0\n",
            "eu                   1  0\n",
            "eu gostei            1  0\n",
            "eu gostei muito      1  0\n",
            "fiap                 1  1\n",
            "fiap pode            0  1\n",
            "fiap pode melhorar   0  1\n",
            "gostei               1  1\n",
            "gostei muito         1  1\n",
            "gostei muito do      1  0\n",
            "mba                  2  1\n",
            "mba da               1  1\n",
            "mba da fiap          1  1\n",
            "mba eu               1  0\n",
            "mba eu gostei        1  0\n",
            "melhorar             0  1\n",
            "melhorar não         0  1\n",
            "melhorar não gostei  0  1\n",
            "muito                1  1\n",
            "muito do             1  0\n",
            "muito do mba         1  0\n",
            "não                  0  1\n",
            "não gostei           0  1\n",
            "não gostei muito     0  1\n",
            "pode                 0  1\n",
            "pode melhorar        0  1\n",
            "pode melhorar não    0  1\n",
            "sobre                1  0\n",
            "sobre mba            1  0\n",
            "sobre mba eu         1  0\n"
          ],
          "name": "stdout"
        }
      ]
    },
    {
      "cell_type": "markdown",
      "metadata": {
        "id": "swmx7vR65mdb",
        "colab_type": "text"
      },
      "source": [
        "## REGEX\n",
        "\n",
        "---"
      ]
    },
    {
      "cell_type": "code",
      "metadata": {
        "id": "Ti-kuuev6fZy",
        "colab_type": "code",
        "colab": {}
      },
      "source": [
        "nome = \"Rafael\""
      ],
      "execution_count": 0,
      "outputs": []
    },
    {
      "cell_type": "code",
      "metadata": {
        "id": "9YlTu0v36jmy",
        "colab_type": "code",
        "colab": {}
      },
      "source": [
        "str?"
      ],
      "execution_count": 0,
      "outputs": []
    },
    {
      "cell_type": "code",
      "metadata": {
        "id": "QLP8WEzi_i7j",
        "colab_type": "code",
        "outputId": "e6d3416f-73ed-4946-bdbc-b9a0a5c25b77",
        "colab": {
          "base_uri": "https://localhost:8080/",
          "height": 35
        }
      },
      "source": [
        "\"rafael.novello @ gmail . com\".split(\"@\")[1].split(\".\")[0]"
      ],
      "execution_count": 0,
      "outputs": [
        {
          "output_type": "execute_result",
          "data": {
            "text/plain": [
              "' gmail '"
            ]
          },
          "metadata": {
            "tags": []
          },
          "execution_count": 7
        }
      ]
    },
    {
      "cell_type": "code",
      "metadata": {
        "id": "LSUYkTSFEK7l",
        "colab_type": "code",
        "outputId": "9d01c324-a64d-4b86-e2ea-c3f9f01d2b43",
        "colab": {
          "base_uri": "https://localhost:8080/",
          "height": 34
        }
      },
      "source": [
        "import re\n",
        "\n",
        "regex = r\"(?<=@)[^.]+(?=\\.)\"\n",
        "\n",
        "re.findall(regex, \"rafael.novello@gmail.com\")"
      ],
      "execution_count": 0,
      "outputs": [
        {
          "output_type": "execute_result",
          "data": {
            "text/plain": [
              "['gmail']"
            ]
          },
          "metadata": {
            "tags": []
          },
          "execution_count": 7
        }
      ]
    },
    {
      "cell_type": "code",
      "metadata": {
        "id": "oP7VTbtgDkYq",
        "colab_type": "code",
        "outputId": "e131b667-2189-4bdf-c9f8-a30b61344020",
        "colab": {
          "base_uri": "https://localhost:8080/",
          "height": 34
        }
      },
      "source": [
        "import timeit\n",
        "\n",
        "timeit.Timer(\n",
        " 're.findall(regex, \"novello@gmail.com\")',\n",
        " 'import re; regex = r\"(?<=@)[^.]+(?=\\.)\"'\n",
        ").repeat(2)"
      ],
      "execution_count": 0,
      "outputs": [
        {
          "output_type": "execute_result",
          "data": {
            "text/plain": [
              "[0.9164886159996968, 0.9039088789995731]"
            ]
          },
          "metadata": {
            "tags": []
          },
          "execution_count": 8
        }
      ]
    },
    {
      "cell_type": "code",
      "metadata": {
        "id": "rBmaBfknD0l7",
        "colab_type": "code",
        "outputId": "979cb1dc-f407-4c9f-8200-b97143dd05c2",
        "colab": {
          "base_uri": "https://localhost:8080/",
          "height": 34
        }
      },
      "source": [
        "import timeit\n",
        "\n",
        "timeit.Timer(\n",
        " '\"novello@gmail.com\".split(\"@\")[1].split(\".\")[0]'\n",
        ").repeat(2)"
      ],
      "execution_count": 0,
      "outputs": [
        {
          "output_type": "execute_result",
          "data": {
            "text/plain": [
              "[0.3795927529990877, 0.3713481489994592]"
            ]
          },
          "metadata": {
            "tags": []
          },
          "execution_count": 9
        }
      ]
    },
    {
      "cell_type": "code",
      "metadata": {
        "id": "O_T2fLbd9KXR",
        "colab_type": "code",
        "outputId": "af2a30bd-cf99-4944-f0c9-b17e66e77d30",
        "colab": {
          "base_uri": "https://localhost:8080/",
          "height": 34
        }
      },
      "source": [
        "\"novello@gmail.com\".split(\"@\")[1].split('.')[0]"
      ],
      "execution_count": 0,
      "outputs": [
        {
          "output_type": "execute_result",
          "data": {
            "text/plain": [
              "'gmail'"
            ]
          },
          "metadata": {
            "tags": []
          },
          "execution_count": 13
        }
      ]
    },
    {
      "cell_type": "code",
      "metadata": {
        "id": "OiOFT26cD-W6",
        "colab_type": "code",
        "outputId": "cddd733c-97b0-427e-98b0-debf58062b85",
        "colab": {
          "base_uri": "https://localhost:8080/",
          "height": 377
        }
      },
      "source": [
        "import this"
      ],
      "execution_count": 0,
      "outputs": [
        {
          "output_type": "stream",
          "text": [
            "The Zen of Python, by Tim Peters\n",
            "\n",
            "Beautiful is better than ugly.\n",
            "Explicit is better than implicit.\n",
            "Simple is better than complex.\n",
            "Complex is better than complicated.\n",
            "Flat is better than nested.\n",
            "Sparse is better than dense.\n",
            "Readability counts.\n",
            "Special cases aren't special enough to break the rules.\n",
            "Although practicality beats purity.\n",
            "Errors should never pass silently.\n",
            "Unless explicitly silenced.\n",
            "In the face of ambiguity, refuse the temptation to guess.\n",
            "There should be one-- and preferably only one --obvious way to do it.\n",
            "Although that way may not be obvious at first unless you're Dutch.\n",
            "Now is better than never.\n",
            "Although never is often better than *right* now.\n",
            "If the implementation is hard to explain, it's a bad idea.\n",
            "If the implementation is easy to explain, it may be a good idea.\n",
            "Namespaces are one honking great idea -- let's do more of those!\n"
          ],
          "name": "stdout"
        }
      ]
    },
    {
      "cell_type": "markdown",
      "metadata": {
        "id": "SSK6DZRdmKo8",
        "colab_type": "text"
      },
      "source": [
        "## STOPWORDS"
      ]
    },
    {
      "cell_type": "code",
      "metadata": {
        "id": "hp5M3u_XrGqY",
        "colab_type": "code",
        "outputId": "295e3907-044d-406b-ac21-cd097ada861e",
        "colab": {
          "base_uri": "https://localhost:8080/",
          "height": 51
        }
      },
      "source": [
        "import nltk\n",
        "nltk.download('stopwords')\n",
        "\n",
        "stops = nltk.corpus.stopwords.words('portuguese')"
      ],
      "execution_count": 0,
      "outputs": [
        {
          "output_type": "stream",
          "text": [
            "[nltk_data] Downloading package stopwords to /root/nltk_data...\n",
            "[nltk_data]   Package stopwords is already up-to-date!\n"
          ],
          "name": "stdout"
        }
      ]
    },
    {
      "cell_type": "code",
      "metadata": {
        "id": "3vvZzFQS9zjq",
        "colab_type": "code",
        "colab": {}
      },
      "source": [
        "stops = stops + ['rafael']"
      ],
      "execution_count": 0,
      "outputs": []
    },
    {
      "cell_type": "code",
      "metadata": {
        "id": "VI2P65ED96Vp",
        "colab_type": "code",
        "outputId": "597e998a-8d97-411c-8d09-03192c5b9411",
        "colab": {
          "base_uri": "https://localhost:8080/",
          "height": 34
        }
      },
      "source": [
        "len(stops)"
      ],
      "execution_count": 0,
      "outputs": [
        {
          "output_type": "execute_result",
          "data": {
            "text/plain": [
              "205"
            ]
          },
          "metadata": {
            "tags": []
          },
          "execution_count": 19
        }
      ]
    },
    {
      "cell_type": "code",
      "metadata": {
        "id": "nhi1oSyK6ekI",
        "colab_type": "code",
        "outputId": "837a9a74-f785-46dc-e36a-5f921b653a51",
        "colab": {
          "base_uri": "https://localhost:8080/",
          "height": 121
        }
      },
      "source": [
        "\n",
        "from sklearn.feature_extraction.text import CountVectorizer\n",
        "\n",
        "stops = ['fiap'] + nltk.corpus.stopwords.words('portuguese')\n",
        "\n",
        "vect = CountVectorizer(ngram_range=(1,1), stop_words=stops)\n",
        "vect.fit(df.text)\n",
        "text_vect = vect.transform(df.text)\n",
        "\n",
        "print(pd.DataFrame(text_vect.A, columns=vect.get_feature_names()).T.to_string())"
      ],
      "execution_count": 0,
      "outputs": [
        {
          "output_type": "stream",
          "text": [
            "          0  1\n",
            "gostei    1  1\n",
            "mba       2  1\n",
            "melhorar  0  1\n",
            "pode      0  1\n",
            "sobre     1  0\n"
          ],
          "name": "stdout"
        }
      ]
    },
    {
      "cell_type": "code",
      "metadata": {
        "id": "niXXv3e-6kb0",
        "colab_type": "code",
        "outputId": "7bebfcbb-b6ba-46a5-fcdc-74b6f8735199",
        "colab": {
          "base_uri": "https://localhost:8080/",
          "height": 104
        }
      },
      "source": [
        "import nltk\n",
        "nltk.download('stopwords')\n",
        "nltk.download('rslp')"
      ],
      "execution_count": 0,
      "outputs": [
        {
          "output_type": "stream",
          "text": [
            "[nltk_data] Downloading package stopwords to /root/nltk_data...\n",
            "[nltk_data]   Package stopwords is already up-to-date!\n",
            "[nltk_data] Downloading package rslp to /root/nltk_data...\n",
            "[nltk_data]   Unzipping stemmers/rslp.zip.\n"
          ],
          "name": "stdout"
        },
        {
          "output_type": "execute_result",
          "data": {
            "text/plain": [
              "True"
            ]
          },
          "metadata": {
            "tags": []
          },
          "execution_count": 14
        }
      ]
    },
    {
      "cell_type": "code",
      "metadata": {
        "id": "Sc4YJdb96m5z",
        "colab_type": "code",
        "outputId": "15a3a1ab-5575-4e42-ad5d-0cd2df000c74",
        "colab": {
          "base_uri": "https://localhost:8080/",
          "height": 35
        }
      },
      "source": [
        "print(nltk.corpus.stopwords.words('portuguese')[:10])"
      ],
      "execution_count": 0,
      "outputs": [
        {
          "output_type": "stream",
          "text": [
            "['de', 'a', 'o', 'que', 'e', 'do', 'da', 'em', 'um', 'para']\n"
          ],
          "name": "stdout"
        }
      ]
    },
    {
      "cell_type": "code",
      "metadata": {
        "id": "XMQBpra89Cc3",
        "colab_type": "code",
        "colab": {}
      },
      "source": [
        ""
      ],
      "execution_count": 0,
      "outputs": []
    }
  ]
}