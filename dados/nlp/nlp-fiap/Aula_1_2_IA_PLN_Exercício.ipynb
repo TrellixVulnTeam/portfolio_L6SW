{
  "nbformat": 4,
  "nbformat_minor": 0,
  "metadata": {
    "colab": {
      "name": "Aula 1.2 IA PLN - Exercício.ipynb",
      "version": "0.3.2",
      "provenance": [],
      "collapsed_sections": []
    },
    "kernelspec": {
      "name": "python3",
      "display_name": "Python 3"
    }
  },
  "cells": [
    {
      "cell_type": "markdown",
      "metadata": {
        "id": "a2BT_ZwvhEKF",
        "colab_type": "text"
      },
      "source": [
        "## Carregando o dataset"
      ]
    },
    {
      "cell_type": "code",
      "metadata": {
        "id": "MbxTY0CHaaDl",
        "colab_type": "code",
        "outputId": "ae662a85-bd3e-43fb-aa15-2d02a8271a3b",
        "colab": {
          "base_uri": "https://localhost:8080/",
          "height": 189
        }
      },
      "source": [
        "import pandas as pd\n",
        "\n",
        "df = pd.read_csv(\"https://s3.amazonaws.com/automl-example/produtos.csv\",\n",
        "                 delimiter=\";\", encoding='utf-8')\n",
        "\n",
        "df.describe()"
      ],
      "execution_count": 0,
      "outputs": [
        {
          "output_type": "execute_result",
          "data": {
            "text/html": [
              "<div>\n",
              "<style scoped>\n",
              "    .dataframe tbody tr th:only-of-type {\n",
              "        vertical-align: middle;\n",
              "    }\n",
              "\n",
              "    .dataframe tbody tr th {\n",
              "        vertical-align: top;\n",
              "    }\n",
              "\n",
              "    .dataframe thead th {\n",
              "        text-align: right;\n",
              "    }\n",
              "</style>\n",
              "<table border=\"1\" class=\"dataframe\">\n",
              "  <thead>\n",
              "    <tr style=\"text-align: right;\">\n",
              "      <th></th>\n",
              "      <th>nome</th>\n",
              "      <th>descricao</th>\n",
              "      <th>categoria</th>\n",
              "    </tr>\n",
              "  </thead>\n",
              "  <tbody>\n",
              "    <tr>\n",
              "      <th>count</th>\n",
              "      <td>4080</td>\n",
              "      <td>2916</td>\n",
              "      <td>4080</td>\n",
              "    </tr>\n",
              "    <tr>\n",
              "      <th>unique</th>\n",
              "      <td>3696</td>\n",
              "      <td>2460</td>\n",
              "      <td>4</td>\n",
              "    </tr>\n",
              "    <tr>\n",
              "      <th>top</th>\n",
              "      <td>Mais Escuro - Cinquenta Tons Mais Escuros Pel...</td>\n",
              "      <td>JOGO ORIGINAL. NOVO. LACRADO. PRONTA ENTREGA. ...</td>\n",
              "      <td>game</td>\n",
              "    </tr>\n",
              "    <tr>\n",
              "      <th>freq</th>\n",
              "      <td>20</td>\n",
              "      <td>39</td>\n",
              "      <td>1020</td>\n",
              "    </tr>\n",
              "  </tbody>\n",
              "</table>\n",
              "</div>"
            ],
            "text/plain": [
              "                                                     nome  \\\n",
              "count                                                4080   \n",
              "unique                                               3696   \n",
              "top      Mais Escuro - Cinquenta Tons Mais Escuros Pel...   \n",
              "freq                                                   20   \n",
              "\n",
              "                                                descricao categoria  \n",
              "count                                                2916      4080  \n",
              "unique                                               2460         4  \n",
              "top     JOGO ORIGINAL. NOVO. LACRADO. PRONTA ENTREGA. ...      game  \n",
              "freq                                                   39      1020  "
            ]
          },
          "metadata": {
            "tags": []
          },
          "execution_count": 4
        }
      ]
    },
    {
      "cell_type": "code",
      "metadata": {
        "id": "bzdJoltLsMnT",
        "colab_type": "code",
        "outputId": "a1bcd805-b76a-42b6-e3a0-e97fd3feb955",
        "colab": {
          "base_uri": "https://localhost:8080/",
          "height": 35
        }
      },
      "source": [
        "df.dropna(inplace=True)\n",
        "df.shape"
      ],
      "execution_count": 0,
      "outputs": [
        {
          "output_type": "execute_result",
          "data": {
            "text/plain": [
              "(2916, 3)"
            ]
          },
          "metadata": {
            "tags": []
          },
          "execution_count": 5
        }
      ]
    },
    {
      "cell_type": "markdown",
      "metadata": {
        "id": "3b1AsI8DhJN3",
        "colab_type": "text"
      },
      "source": [
        "## Criar uma nova coluna Nome + Descrição"
      ]
    },
    {
      "cell_type": "code",
      "metadata": {
        "id": "C0vbmpsTZ7w2",
        "colab_type": "code",
        "outputId": "5cee5052-55a2-446d-ea8c-04a5961869ae",
        "colab": {
          "base_uri": "https://localhost:8080/",
          "height": 35
        }
      },
      "source": [
        "print(\"Rafael\" + \"Novello\")"
      ],
      "execution_count": 0,
      "outputs": [
        {
          "output_type": "stream",
          "text": [
            "RafaelNovello\n"
          ],
          "name": "stdout"
        }
      ]
    },
    {
      "cell_type": "code",
      "metadata": {
        "id": "5naO2LQHb8c-",
        "colab_type": "code",
        "outputId": "c104a84a-73c5-45b3-8a63-f4bd52118618",
        "colab": {
          "base_uri": "https://localhost:8080/",
          "height": 55
        }
      },
      "source": [
        "df[\"texto\"] = df['nome'] + \" \" + df['descricao']\n",
        "\n",
        "df.texto[0]"
      ],
      "execution_count": 0,
      "outputs": [
        {
          "output_type": "execute_result",
          "data": {
            "text/plain": [
              "' O Hobbit - 7ª Ed. 2013  Produto NovoBilbo Bolseiro é um hobbit que leva uma vida confortável e sem ambições. Mas seu contentamento é perturbado quando Gandalf, o mago, e uma companhia de anões batem à sua porta e levam-no para uma expedição. Eles têm um plano para roubar o tesouro guardado por Smaug, o Magnífico, um grande e perigoso dragão. Bilbo reluta muito em participar da aventura, mas acaba surpreendendo até a si mesmo com sua esperteza e sua habilidade como ladrão!CaracterísticasAutor: Tolkien, J. R. R.Peso: 0.44I.S.B.N.: 9788578277109Altura: 20.000000Largura: 13.000000Profundidade: 1.000000Número de Páginas: 328Idioma: PortuguêsAcabamento: BrochuraNúmero da edição: 7Ano da edição: 2013'"
            ]
          },
          "metadata": {
            "tags": []
          },
          "execution_count": 8
        }
      ]
    },
    {
      "cell_type": "markdown",
      "metadata": {
        "id": "eok0vq2diIFa",
        "colab_type": "text"
      },
      "source": [
        "## Quantos Unigramas existem antes e depois de remover stopwords\n"
      ]
    },
    {
      "cell_type": "code",
      "metadata": {
        "id": "rAz1ZRXwtag-",
        "colab_type": "code",
        "outputId": "11e220a8-1c63-44ec-a7b0-3ab4464b708b",
        "colab": {
          "base_uri": "https://localhost:8080/",
          "height": 69
        }
      },
      "source": [
        "import nltk\n",
        "nltk.download('stopwords')\n",
        "\n"
      ],
      "execution_count": 0,
      "outputs": [
        {
          "output_type": "stream",
          "text": [
            "[nltk_data] Downloading package stopwords to /root/nltk_data...\n",
            "[nltk_data]   Package stopwords is already up-to-date!\n"
          ],
          "name": "stdout"
        },
        {
          "output_type": "execute_result",
          "data": {
            "text/plain": [
              "True"
            ]
          },
          "metadata": {
            "tags": []
          },
          "execution_count": 10
        }
      ]
    },
    {
      "cell_type": "code",
      "metadata": {
        "id": "d7EsxlE8gzY0",
        "colab_type": "code",
        "outputId": "8361410f-c76f-4214-ce54-ee54bfc2e54e",
        "colab": {
          "base_uri": "https://localhost:8080/",
          "height": 35
        }
      },
      "source": [
        "from sklearn.feature_extraction.text import CountVectorizer\n",
        "\n",
        "vect = CountVectorizer(ngram_range=(1,1))\n",
        "vect.fit(df.texto)\n",
        "text_vect = vect.transform(df.texto)\n",
        "\n",
        "#text_vect.shape\n",
        "\n",
        "print('UNIGRAMAS com STOPWORDS', text_vect.shape[1])"
      ],
      "execution_count": 0,
      "outputs": [
        {
          "output_type": "stream",
          "text": [
            "UNIGRAMAS com STOPWORDS 35466\n"
          ],
          "name": "stdout"
        }
      ]
    },
    {
      "cell_type": "code",
      "metadata": {
        "id": "IxswZwj1sXV_",
        "colab_type": "code",
        "outputId": "a1519a4f-74bf-482b-b59d-03f425ff97d1",
        "colab": {
          "base_uri": "https://localhost:8080/",
          "height": 34
        }
      },
      "source": [
        "from sklearn.feature_extraction.text import CountVectorizer\n",
        "\n",
        "stopwords = nltk.corpus.stopwords.words('portuguese')\n",
        "\n",
        "vect = CountVectorizer(ngram_range=(1,1), stop_words=stopwords)\n",
        "vect.fit(df.texto)\n",
        "text_vect = vect.transform(df.texto)\n",
        "\n",
        "print('UNIGRAMAS sem STOPWORDS', text_vect.shape[1])"
      ],
      "execution_count": 0,
      "outputs": [
        {
          "output_type": "stream",
          "text": [
            "UNIGRAMAS sem STOPWORDS 35310\n"
          ],
          "name": "stdout"
        }
      ]
    },
    {
      "cell_type": "markdown",
      "metadata": {
        "id": "XTboWmwxtiXw",
        "colab_type": "text"
      },
      "source": [
        "## Quantos Bigramas existem antes e depois de remover stopwords\n"
      ]
    },
    {
      "cell_type": "code",
      "metadata": {
        "id": "bVWal6nhtlRE",
        "colab_type": "code",
        "outputId": "1beade24-8914-48b3-9cbd-4529fbd19874",
        "colab": {
          "base_uri": "https://localhost:8080/",
          "height": 35
        }
      },
      "source": [
        "from sklearn.feature_extraction.text import CountVectorizer\n",
        "\n",
        "vect = CountVectorizer(ngram_range=(2,2))\n",
        "vect.fit(df.texto)\n",
        "text_vect = vect.transform(df.texto)\n",
        "\n",
        "print('BIGRAMAS com STOPWORDS', text_vect.shape[1])"
      ],
      "execution_count": 0,
      "outputs": [
        {
          "output_type": "stream",
          "text": [
            "BIGRAMAS com STOPWORDS 159553\n"
          ],
          "name": "stdout"
        }
      ]
    },
    {
      "cell_type": "code",
      "metadata": {
        "id": "InldwDGxtlsd",
        "colab_type": "code",
        "outputId": "43f0506f-0d81-4666-f1f9-90ceee8ab983",
        "colab": {
          "base_uri": "https://localhost:8080/",
          "height": 35
        }
      },
      "source": [
        "from sklearn.feature_extraction.text import CountVectorizer\n",
        "\n",
        "stopwords = nltk.corpus.stopwords.words('portuguese')\n",
        "\n",
        "vect = CountVectorizer(ngram_range=(2,2), stop_words=stopwords)\n",
        "vect.fit(df.texto)\n",
        "text_vect = vect.transform(df.texto)\n",
        "\n",
        "print('BIGRAMAS sem STOPWORDS', text_vect.shape[1])"
      ],
      "execution_count": 0,
      "outputs": [
        {
          "output_type": "stream",
          "text": [
            "BIGRAMAS sem STOPWORDS 145409\n"
          ],
          "name": "stdout"
        }
      ]
    },
    {
      "cell_type": "markdown",
      "metadata": {
        "id": "1O85EfGNtzhN",
        "colab_type": "text"
      },
      "source": [
        "## Quantos Trigramas existem antes e depois de remover stopwords\n"
      ]
    },
    {
      "cell_type": "code",
      "metadata": {
        "id": "VM0puN6Jt67t",
        "colab_type": "code",
        "outputId": "98930033-029d-432e-8f4e-e14d8090b311",
        "colab": {
          "base_uri": "https://localhost:8080/",
          "height": 35
        }
      },
      "source": [
        "from sklearn.feature_extraction.text import CountVectorizer\n",
        "\n",
        "vect = CountVectorizer(ngram_range=(3,3))\n",
        "vect.fit(df.texto)\n",
        "text_vect = vect.transform(df.texto)\n",
        "\n",
        "print('TRIGRAMAS com STOPWORDS', text_vect.shape[1])"
      ],
      "execution_count": 0,
      "outputs": [
        {
          "output_type": "stream",
          "text": [
            "TRIGRAMAS com STOPWORDS 228162\n"
          ],
          "name": "stdout"
        }
      ]
    },
    {
      "cell_type": "code",
      "metadata": {
        "id": "DDfuZ3hht7Dh",
        "colab_type": "code",
        "outputId": "cd874c49-9d88-4802-e787-be8d451ee2b9",
        "colab": {
          "base_uri": "https://localhost:8080/",
          "height": 35
        }
      },
      "source": [
        "from sklearn.feature_extraction.text import CountVectorizer\n",
        "\n",
        "stopwords = nltk.corpus.stopwords.words('portuguese')\n",
        "\n",
        "vect = CountVectorizer(ngram_range=(3,3), stop_words=stopwords)\n",
        "vect.fit(df.texto)\n",
        "text_vect = vect.transform(df.texto)\n",
        "\n",
        "print('TRIGRAMAS sem STOPWORDS', text_vect.shape[1])"
      ],
      "execution_count": 0,
      "outputs": [
        {
          "output_type": "stream",
          "text": [
            "TRIGRAMAS sem STOPWORDS 177869\n"
          ],
          "name": "stdout"
        }
      ]
    },
    {
      "cell_type": "markdown",
      "metadata": {
        "id": "7hUJ2U3nj1xt",
        "colab_type": "text"
      },
      "source": [
        "## Quantos verbos e Adverbios existem na nova coluna"
      ]
    },
    {
      "cell_type": "code",
      "metadata": {
        "id": "SWpgtWG0vKS0",
        "colab_type": "code",
        "outputId": "aa984d78-f444-4f40-ac4e-e336148f9c1f",
        "colab": {
          "base_uri": "https://localhost:8080/",
          "height": 191
        }
      },
      "source": [
        "nltk.download('rslp')\n",
        "nltk.download('punkt')\n",
        "nltk.download('universal_tagset')\n",
        "nltk.download('averaged_perceptron_tagger')\n"
      ],
      "execution_count": 0,
      "outputs": [
        {
          "output_type": "stream",
          "text": [
            "[nltk_data] Downloading package rslp to /root/nltk_data...\n",
            "[nltk_data]   Package rslp is already up-to-date!\n",
            "[nltk_data] Downloading package punkt to /root/nltk_data...\n",
            "[nltk_data]   Unzipping tokenizers/punkt.zip.\n",
            "[nltk_data] Downloading package universal_tagset to /root/nltk_data...\n",
            "[nltk_data]   Unzipping taggers/universal_tagset.zip.\n",
            "[nltk_data] Downloading package averaged_perceptron_tagger to\n",
            "[nltk_data]     /root/nltk_data...\n",
            "[nltk_data]   Unzipping taggers/averaged_perceptron_tagger.zip.\n"
          ],
          "name": "stdout"
        },
        {
          "output_type": "execute_result",
          "data": {
            "text/plain": [
              "True"
            ]
          },
          "metadata": {
            "tags": []
          },
          "execution_count": 19
        }
      ]
    },
    {
      "cell_type": "code",
      "metadata": {
        "id": "Ij4J1taKd_DN",
        "colab_type": "code",
        "outputId": "a3928ef5-8a65-4179-99bd-f5d009c0e90a",
        "colab": {
          "base_uri": "https://localhost:8080/",
          "height": 260
        }
      },
      "source": [
        "word_tokenize('O Hobbit - 7ª Ed. 2013  Produto NovoBilbo Bolseiro é um hobbit que')"
      ],
      "execution_count": 0,
      "outputs": [
        {
          "output_type": "execute_result",
          "data": {
            "text/plain": [
              "['O',\n",
              " 'Hobbit',\n",
              " '-',\n",
              " '7ª',\n",
              " 'Ed',\n",
              " '.',\n",
              " '2013',\n",
              " 'Produto',\n",
              " 'NovoBilbo',\n",
              " 'Bolseiro',\n",
              " 'é',\n",
              " 'um',\n",
              " 'hobbit',\n",
              " 'que']"
            ]
          },
          "metadata": {
            "tags": []
          },
          "execution_count": 21
        }
      ]
    },
    {
      "cell_type": "code",
      "metadata": {
        "id": "1Odl4b9aiOnA",
        "colab_type": "code",
        "outputId": "42c021f0-c6d9-4d6c-abcd-0e69714e764e",
        "colab": {
          "base_uri": "https://localhost:8080/",
          "height": 121
        }
      },
      "source": [
        "from nltk.tag import pos_tag\n",
        "from nltk.tokenize import word_tokenize\n",
        "\n",
        "df['tokens'] = df.texto.apply(word_tokenize)\n",
        "df.tokens.head()"
      ],
      "execution_count": 0,
      "outputs": [
        {
          "output_type": "execute_result",
          "data": {
            "text/plain": [
              "0    [O, Hobbit, -, 7ª, Ed, ., 2013, Produto, NovoB...\n",
              "1    [Livro, -, It, A, Coisa, -, Stephen, King, Pro...\n",
              "2    [Box, As, Crônicas, De, Gelo, E, Fogo, Pocket,...\n",
              "3    [Box, Harry, Potter, Produto, Novo, e, Físico,...\n",
              "4    [Livro, Origem, -, Dan, Brown, Produto, NovoDe...\n",
              "Name: tokens, dtype: object"
            ]
          },
          "metadata": {
            "tags": []
          },
          "execution_count": 20
        }
      ]
    },
    {
      "cell_type": "code",
      "metadata": {
        "id": "ohNe2lI6eBWv",
        "colab_type": "code",
        "outputId": "e876e83b-8a2f-424b-edf9-333e024d75c7",
        "colab": {
          "base_uri": "https://localhost:8080/",
          "height": 121
        }
      },
      "source": [
        "df['tags'] = df.tokens.apply(pos_tag, tagset='universal')\n",
        "\n",
        "df.tags.head()"
      ],
      "execution_count": 0,
      "outputs": [
        {
          "output_type": "execute_result",
          "data": {
            "text/plain": [
              "0    [(O, NOUN), (Hobbit, NOUN), (-, .), (7ª, NUM),...\n",
              "1    [(Livro, NOUN), (-, .), (It, PRON), (A, DET), ...\n",
              "2    [(Box, NOUN), (As, ADP), (Crônicas, NOUN), (De...\n",
              "3    [(Box, NOUN), (Harry, NOUN), (Potter, NOUN), (...\n",
              "4    [(Livro, NOUN), (Origem, NOUN), (-, .), (Dan, ...\n",
              "Name: tags, dtype: object"
            ]
          },
          "metadata": {
            "tags": []
          },
          "execution_count": 22
        }
      ]
    },
    {
      "cell_type": "code",
      "metadata": {
        "id": "BUZnYjJ7fLUK",
        "colab_type": "code",
        "outputId": "9afb30c8-4f99-4fbd-8200-674da9703433",
        "colab": {
          "base_uri": "https://localhost:8080/",
          "height": 2219
        }
      },
      "source": [
        "df.tags[0]"
      ],
      "execution_count": 0,
      "outputs": [
        {
          "output_type": "execute_result",
          "data": {
            "text/plain": [
              "[('O', 'NOUN'),\n",
              " ('Hobbit', 'NOUN'),\n",
              " ('-', '.'),\n",
              " ('7ª', 'NUM'),\n",
              " ('Ed', 'NOUN'),\n",
              " ('.', '.'),\n",
              " ('2013', 'NUM'),\n",
              " ('Produto', 'NOUN'),\n",
              " ('NovoBilbo', 'NOUN'),\n",
              " ('Bolseiro', 'NOUN'),\n",
              " ('é', 'NOUN'),\n",
              " ('um', 'ADJ'),\n",
              " ('hobbit', 'NOUN'),\n",
              " ('que', 'ADJ'),\n",
              " ('leva', 'NOUN'),\n",
              " ('uma', 'ADJ'),\n",
              " ('vida', 'NOUN'),\n",
              " ('confortável', 'NOUN'),\n",
              " ('e', 'NOUN'),\n",
              " ('sem', 'NOUN'),\n",
              " ('ambições', 'NOUN'),\n",
              " ('.', '.'),\n",
              " ('Mas', 'NOUN'),\n",
              " ('seu', 'VERB'),\n",
              " ('contentamento', 'ADJ'),\n",
              " ('é', 'NOUN'),\n",
              " ('perturbado', 'NOUN'),\n",
              " ('quando', 'NOUN'),\n",
              " ('Gandalf', 'NOUN'),\n",
              " (',', '.'),\n",
              " ('o', 'NOUN'),\n",
              " ('mago', 'NOUN'),\n",
              " (',', '.'),\n",
              " ('e', 'X'),\n",
              " ('uma', 'ADJ'),\n",
              " ('companhia', 'NOUN'),\n",
              " ('de', 'ADP'),\n",
              " ('anões', 'X'),\n",
              " ('batem', 'NOUN'),\n",
              " ('à', 'NOUN'),\n",
              " ('sua', 'NOUN'),\n",
              " ('porta', 'NOUN'),\n",
              " ('e', 'VERB'),\n",
              " ('levam-no', 'ADJ'),\n",
              " ('para', 'NOUN'),\n",
              " ('uma', 'ADJ'),\n",
              " ('expedição', 'NOUN'),\n",
              " ('.', '.'),\n",
              " ('Eles', 'NOUN'),\n",
              " ('têm', 'VERB'),\n",
              " ('um', 'ADJ'),\n",
              " ('plano', 'NOUN'),\n",
              " ('para', 'NOUN'),\n",
              " ('roubar', 'NOUN'),\n",
              " ('o', 'NOUN'),\n",
              " ('tesouro', 'NOUN'),\n",
              " ('guardado', 'NOUN'),\n",
              " ('por', 'NOUN'),\n",
              " ('Smaug', 'NOUN'),\n",
              " (',', '.'),\n",
              " ('o', 'NOUN'),\n",
              " ('Magnífico', 'NOUN'),\n",
              " (',', '.'),\n",
              " ('um', 'ADJ'),\n",
              " ('grande', 'NOUN'),\n",
              " ('e', 'NOUN'),\n",
              " ('perigoso', 'NOUN'),\n",
              " ('dragão', 'NOUN'),\n",
              " ('.', '.'),\n",
              " ('Bilbo', 'NOUN'),\n",
              " ('reluta', 'NOUN'),\n",
              " ('muito', 'NOUN'),\n",
              " ('em', 'NOUN'),\n",
              " ('participar', 'NOUN'),\n",
              " ('da', 'NOUN'),\n",
              " ('aventura', 'NOUN'),\n",
              " (',', '.'),\n",
              " ('mas', 'X'),\n",
              " ('acaba', 'X'),\n",
              " ('surpreendendo', 'X'),\n",
              " ('até', 'X'),\n",
              " ('a', 'DET'),\n",
              " ('si', 'NOUN'),\n",
              " ('mesmo', 'NOUN'),\n",
              " ('com', 'NOUN'),\n",
              " ('sua', 'NOUN'),\n",
              " ('esperteza', 'NOUN'),\n",
              " ('e', 'NOUN'),\n",
              " ('sua', 'NOUN'),\n",
              " ('habilidade', 'VERB'),\n",
              " ('como', 'ADJ'),\n",
              " ('ladrão', 'NOUN'),\n",
              " ('!', '.'),\n",
              " ('CaracterísticasAutor', 'NOUN'),\n",
              " (':', '.'),\n",
              " ('Tolkien', 'NOUN'),\n",
              " (',', '.'),\n",
              " ('J.', 'NOUN'),\n",
              " ('R.', 'NOUN'),\n",
              " ('R.Peso', 'NOUN'),\n",
              " (':', '.'),\n",
              " ('0.44I.S.B.N', 'NUM'),\n",
              " ('.', '.'),\n",
              " (':', '.'),\n",
              " ('9788578277109Altura', 'NUM'),\n",
              " (':', '.'),\n",
              " ('20.000000Largura', 'NUM'),\n",
              " (':', '.'),\n",
              " ('13.000000Profundidade', 'NUM'),\n",
              " (':', '.'),\n",
              " ('1.000000Número', 'NUM'),\n",
              " ('de', 'ADP'),\n",
              " ('Páginas', 'NOUN'),\n",
              " (':', '.'),\n",
              " ('328Idioma', 'NUM'),\n",
              " (':', '.'),\n",
              " ('PortuguêsAcabamento', 'NOUN'),\n",
              " (':', '.'),\n",
              " ('BrochuraNúmero', 'NOUN'),\n",
              " ('da', 'VERB'),\n",
              " ('edição', 'NOUN'),\n",
              " (':', '.'),\n",
              " ('7Ano', 'NUM'),\n",
              " ('da', 'NOUN'),\n",
              " ('edição', 'NOUN'),\n",
              " (':', '.'),\n",
              " ('2013', 'NUM')]"
            ]
          },
          "metadata": {
            "tags": []
          },
          "execution_count": 24
        }
      ]
    },
    {
      "cell_type": "code",
      "metadata": {
        "id": "8dl5TtRpfvKI",
        "colab_type": "code",
        "outputId": "249f413e-8d9e-4252-c9f5-d4541145950f",
        "colab": {
          "base_uri": "https://localhost:8080/",
          "height": 35
        }
      },
      "source": [
        "from collections import Counter\n",
        "\n",
        "counter = Counter()\n",
        "\n",
        "counter['a'] += 2\n",
        "\n",
        "counter"
      ],
      "execution_count": 0,
      "outputs": [
        {
          "output_type": "execute_result",
          "data": {
            "text/plain": [
              "Counter({'a': 2})"
            ]
          },
          "metadata": {
            "tags": []
          },
          "execution_count": 27
        }
      ]
    },
    {
      "cell_type": "code",
      "metadata": {
        "id": "12xzkR1zz3nC",
        "colab_type": "code",
        "outputId": "8dc70ed6-1e29-4bb6-8ea0-6b1bd9be3c39",
        "colab": {
          "base_uri": "https://localhost:8080/",
          "height": 52
        }
      },
      "source": [
        "from collections import Counter\n",
        "\n",
        "counter = Counter()\n",
        "\n",
        "for tags in df.tags:\n",
        "  for _, tag in tags:\n",
        "    counter[tag] += 1\n",
        "    \n",
        "print('Verbos', counter.get('VERB'))\n",
        "print('Adjetivos', counter.get('ADJ'))"
      ],
      "execution_count": 0,
      "outputs": [
        {
          "output_type": "stream",
          "text": [
            "Verbos 41770\n",
            "Adjetivos 50788\n"
          ],
          "name": "stdout"
        }
      ]
    },
    {
      "cell_type": "code",
      "metadata": {
        "id": "5kuPtf4ME7ks",
        "colab_type": "code",
        "outputId": "87506608-eeab-41df-fb23-f63e850fbe45",
        "colab": {
          "base_uri": "https://localhost:8080/",
          "height": 35
        }
      },
      "source": [
        "counter.get('NOUN')"
      ],
      "execution_count": 0,
      "outputs": [
        {
          "output_type": "execute_result",
          "data": {
            "text/plain": [
              "357181"
            ]
          },
          "metadata": {
            "tags": []
          },
          "execution_count": 29
        }
      ]
    },
    {
      "cell_type": "code",
      "metadata": {
        "id": "Y9E2xjAD7J0Y",
        "colab_type": "code",
        "outputId": "4d665f1a-20f8-4f6f-87ca-528c13913300",
        "colab": {
          "base_uri": "https://localhost:8080/",
          "height": 2219
        }
      },
      "source": [
        "df.tags[0]"
      ],
      "execution_count": 0,
      "outputs": [
        {
          "output_type": "execute_result",
          "data": {
            "text/plain": [
              "[('O', 'NOUN'),\n",
              " ('Hobbit', 'NOUN'),\n",
              " ('-', '.'),\n",
              " ('7ª', 'NUM'),\n",
              " ('Ed', 'NOUN'),\n",
              " ('.', '.'),\n",
              " ('2013', 'NUM'),\n",
              " ('Produto', 'NOUN'),\n",
              " ('NovoBilbo', 'NOUN'),\n",
              " ('Bolseiro', 'NOUN'),\n",
              " ('é', 'NOUN'),\n",
              " ('um', 'ADJ'),\n",
              " ('hobbit', 'NOUN'),\n",
              " ('que', 'ADJ'),\n",
              " ('leva', 'NOUN'),\n",
              " ('uma', 'ADJ'),\n",
              " ('vida', 'NOUN'),\n",
              " ('confortável', 'NOUN'),\n",
              " ('e', 'NOUN'),\n",
              " ('sem', 'NOUN'),\n",
              " ('ambições', 'NOUN'),\n",
              " ('.', '.'),\n",
              " ('Mas', 'NOUN'),\n",
              " ('seu', 'VERB'),\n",
              " ('contentamento', 'ADJ'),\n",
              " ('é', 'NOUN'),\n",
              " ('perturbado', 'NOUN'),\n",
              " ('quando', 'NOUN'),\n",
              " ('Gandalf', 'NOUN'),\n",
              " (',', '.'),\n",
              " ('o', 'NOUN'),\n",
              " ('mago', 'NOUN'),\n",
              " (',', '.'),\n",
              " ('e', 'X'),\n",
              " ('uma', 'ADJ'),\n",
              " ('companhia', 'NOUN'),\n",
              " ('de', 'ADP'),\n",
              " ('anões', 'X'),\n",
              " ('batem', 'NOUN'),\n",
              " ('à', 'NOUN'),\n",
              " ('sua', 'NOUN'),\n",
              " ('porta', 'NOUN'),\n",
              " ('e', 'VERB'),\n",
              " ('levam-no', 'ADJ'),\n",
              " ('para', 'NOUN'),\n",
              " ('uma', 'ADJ'),\n",
              " ('expedição', 'NOUN'),\n",
              " ('.', '.'),\n",
              " ('Eles', 'NOUN'),\n",
              " ('têm', 'VERB'),\n",
              " ('um', 'ADJ'),\n",
              " ('plano', 'NOUN'),\n",
              " ('para', 'NOUN'),\n",
              " ('roubar', 'NOUN'),\n",
              " ('o', 'NOUN'),\n",
              " ('tesouro', 'NOUN'),\n",
              " ('guardado', 'NOUN'),\n",
              " ('por', 'NOUN'),\n",
              " ('Smaug', 'NOUN'),\n",
              " (',', '.'),\n",
              " ('o', 'NOUN'),\n",
              " ('Magnífico', 'NOUN'),\n",
              " (',', '.'),\n",
              " ('um', 'ADJ'),\n",
              " ('grande', 'NOUN'),\n",
              " ('e', 'NOUN'),\n",
              " ('perigoso', 'NOUN'),\n",
              " ('dragão', 'NOUN'),\n",
              " ('.', '.'),\n",
              " ('Bilbo', 'NOUN'),\n",
              " ('reluta', 'NOUN'),\n",
              " ('muito', 'NOUN'),\n",
              " ('em', 'NOUN'),\n",
              " ('participar', 'NOUN'),\n",
              " ('da', 'NOUN'),\n",
              " ('aventura', 'NOUN'),\n",
              " (',', '.'),\n",
              " ('mas', 'X'),\n",
              " ('acaba', 'X'),\n",
              " ('surpreendendo', 'X'),\n",
              " ('até', 'X'),\n",
              " ('a', 'DET'),\n",
              " ('si', 'NOUN'),\n",
              " ('mesmo', 'NOUN'),\n",
              " ('com', 'NOUN'),\n",
              " ('sua', 'NOUN'),\n",
              " ('esperteza', 'NOUN'),\n",
              " ('e', 'NOUN'),\n",
              " ('sua', 'NOUN'),\n",
              " ('habilidade', 'VERB'),\n",
              " ('como', 'ADJ'),\n",
              " ('ladrão', 'NOUN'),\n",
              " ('!', '.'),\n",
              " ('CaracterísticasAutor', 'NOUN'),\n",
              " (':', '.'),\n",
              " ('Tolkien', 'NOUN'),\n",
              " (',', '.'),\n",
              " ('J.', 'NOUN'),\n",
              " ('R.', 'NOUN'),\n",
              " ('R.Peso', 'NOUN'),\n",
              " (':', '.'),\n",
              " ('0.44I.S.B.N', 'NUM'),\n",
              " ('.', '.'),\n",
              " (':', '.'),\n",
              " ('9788578277109Altura', 'NUM'),\n",
              " (':', '.'),\n",
              " ('20.000000Largura', 'NUM'),\n",
              " (':', '.'),\n",
              " ('13.000000Profundidade', 'NUM'),\n",
              " (':', '.'),\n",
              " ('1.000000Número', 'NUM'),\n",
              " ('de', 'ADP'),\n",
              " ('Páginas', 'NOUN'),\n",
              " (':', '.'),\n",
              " ('328Idioma', 'NUM'),\n",
              " (':', '.'),\n",
              " ('PortuguêsAcabamento', 'NOUN'),\n",
              " (':', '.'),\n",
              " ('BrochuraNúmero', 'NOUN'),\n",
              " ('da', 'VERB'),\n",
              " ('edição', 'NOUN'),\n",
              " (':', '.'),\n",
              " ('7Ano', 'NUM'),\n",
              " ('da', 'NOUN'),\n",
              " ('edição', 'NOUN'),\n",
              " (':', '.'),\n",
              " ('2013', 'NUM')]"
            ]
          },
          "metadata": {
            "tags": []
          },
          "execution_count": 30
        }
      ]
    },
    {
      "cell_type": "markdown",
      "metadata": {
        "id": "bVDjrt-eT4MV",
        "colab_type": "text"
      },
      "source": [
        "## Aplicar Stemmer em uma frase"
      ]
    },
    {
      "cell_type": "code",
      "metadata": {
        "id": "HBJ-oLU9T3jT",
        "colab_type": "code",
        "outputId": "ee892949-595d-4bbb-eeb6-34395a3a1a28",
        "colab": {
          "base_uri": "https://localhost:8080/",
          "height": 2239
        }
      },
      "source": [
        "from nltk.stem import PorterStemmer\n",
        "from nltk.stem.rslp import RSLPStemmer\n",
        "\n",
        "\n",
        "tokens = df.tokens[0]\n",
        "\n",
        "\n",
        "ps = PorterStemmer()\n",
        "rslp = RSLPStemmer()\n",
        "\n",
        "for tok in tokens:\n",
        "  print('PorterStemmer: %s \\t\\t RSLPStemmer: %s' % (ps.stem(tok), rslp.stem(tok)))\n"
      ],
      "execution_count": 0,
      "outputs": [
        {
          "output_type": "stream",
          "text": [
            "PorterStemmer: O \t\t RSLPStemmer: o\n",
            "PorterStemmer: hobbit \t\t RSLPStemmer: hobbit\n",
            "PorterStemmer: - \t\t RSLPStemmer: -\n",
            "PorterStemmer: 7ª \t\t RSLPStemmer: 7ª\n",
            "PorterStemmer: Ed \t\t RSLPStemmer: ed\n",
            "PorterStemmer: . \t\t RSLPStemmer: .\n",
            "PorterStemmer: 2013 \t\t RSLPStemmer: 2013\n",
            "PorterStemmer: produto \t\t RSLPStemmer: produt\n",
            "PorterStemmer: novobilbo \t\t RSLPStemmer: novobilb\n",
            "PorterStemmer: bolseiro \t\t RSLPStemmer: bols\n",
            "PorterStemmer: é \t\t RSLPStemmer: é\n",
            "PorterStemmer: um \t\t RSLPStemmer: um\n",
            "PorterStemmer: hobbit \t\t RSLPStemmer: hobbit\n",
            "PorterStemmer: que \t\t RSLPStemmer: que\n",
            "PorterStemmer: leva \t\t RSLPStemmer: lev\n",
            "PorterStemmer: uma \t\t RSLPStemmer: uma\n",
            "PorterStemmer: vida \t\t RSLPStemmer: vid\n",
            "PorterStemmer: confortável \t\t RSLPStemmer: confort\n",
            "PorterStemmer: e \t\t RSLPStemmer: e\n",
            "PorterStemmer: sem \t\t RSLPStemmer: sem\n",
            "PorterStemmer: ambiçõ \t\t RSLPStemmer: amb\n",
            "PorterStemmer: . \t\t RSLPStemmer: .\n",
            "PorterStemmer: ma \t\t RSLPStemmer: mas\n",
            "PorterStemmer: seu \t\t RSLPStemmer: seu\n",
            "PorterStemmer: contentamento \t\t RSLPStemmer: content\n",
            "PorterStemmer: é \t\t RSLPStemmer: é\n",
            "PorterStemmer: perturbado \t\t RSLPStemmer: perturb\n",
            "PorterStemmer: quando \t\t RSLPStemmer: qu\n",
            "PorterStemmer: gandalf \t\t RSLPStemmer: gandalf\n",
            "PorterStemmer: , \t\t RSLPStemmer: ,\n",
            "PorterStemmer: o \t\t RSLPStemmer: o\n",
            "PorterStemmer: mago \t\t RSLPStemmer: mag\n",
            "PorterStemmer: , \t\t RSLPStemmer: ,\n",
            "PorterStemmer: e \t\t RSLPStemmer: e\n",
            "PorterStemmer: uma \t\t RSLPStemmer: uma\n",
            "PorterStemmer: companhia \t\t RSLPStemmer: companh\n",
            "PorterStemmer: de \t\t RSLPStemmer: de\n",
            "PorterStemmer: anõ \t\t RSLPStemmer: anõ\n",
            "PorterStemmer: batem \t\t RSLPStemmer: bat\n",
            "PorterStemmer: à \t\t RSLPStemmer: à\n",
            "PorterStemmer: sua \t\t RSLPStemmer: sua\n",
            "PorterStemmer: porta \t\t RSLPStemmer: port\n",
            "PorterStemmer: e \t\t RSLPStemmer: e\n",
            "PorterStemmer: levam-no \t\t RSLPStemmer: levam-n\n",
            "PorterStemmer: para \t\t RSLPStemmer: par\n",
            "PorterStemmer: uma \t\t RSLPStemmer: uma\n",
            "PorterStemmer: expedição \t\t RSLPStemmer: exped\n",
            "PorterStemmer: . \t\t RSLPStemmer: .\n",
            "PorterStemmer: ele \t\t RSLPStemmer: ele\n",
            "PorterStemmer: têm \t\t RSLPStemmer: têm\n",
            "PorterStemmer: um \t\t RSLPStemmer: um\n",
            "PorterStemmer: plano \t\t RSLPStemmer: plan\n",
            "PorterStemmer: para \t\t RSLPStemmer: par\n",
            "PorterStemmer: roubar \t\t RSLPStemmer: roub\n",
            "PorterStemmer: o \t\t RSLPStemmer: o\n",
            "PorterStemmer: tesouro \t\t RSLPStemmer: tesour\n",
            "PorterStemmer: guardado \t\t RSLPStemmer: guard\n",
            "PorterStemmer: por \t\t RSLPStemmer: por\n",
            "PorterStemmer: smaug \t\t RSLPStemmer: smaug\n",
            "PorterStemmer: , \t\t RSLPStemmer: ,\n",
            "PorterStemmer: o \t\t RSLPStemmer: o\n",
            "PorterStemmer: magnífico \t\t RSLPStemmer: magníf\n",
            "PorterStemmer: , \t\t RSLPStemmer: ,\n",
            "PorterStemmer: um \t\t RSLPStemmer: um\n",
            "PorterStemmer: grand \t\t RSLPStemmer: grand\n",
            "PorterStemmer: e \t\t RSLPStemmer: e\n",
            "PorterStemmer: perigoso \t\t RSLPStemmer: perig\n",
            "PorterStemmer: dragão \t\t RSLPStemmer: drag\n",
            "PorterStemmer: . \t\t RSLPStemmer: .\n",
            "PorterStemmer: bilbo \t\t RSLPStemmer: bilb\n",
            "PorterStemmer: reluta \t\t RSLPStemmer: relut\n",
            "PorterStemmer: muito \t\t RSLPStemmer: muit\n",
            "PorterStemmer: em \t\t RSLPStemmer: em\n",
            "PorterStemmer: participar \t\t RSLPStemmer: particip\n",
            "PorterStemmer: da \t\t RSLPStemmer: da\n",
            "PorterStemmer: aventura \t\t RSLPStemmer: avent\n",
            "PorterStemmer: , \t\t RSLPStemmer: ,\n",
            "PorterStemmer: ma \t\t RSLPStemmer: mas\n",
            "PorterStemmer: acaba \t\t RSLPStemmer: acab\n",
            "PorterStemmer: surpreendendo \t\t RSLPStemmer: surpreend\n",
            "PorterStemmer: até \t\t RSLPStemmer: até\n",
            "PorterStemmer: a \t\t RSLPStemmer: a\n",
            "PorterStemmer: si \t\t RSLPStemmer: si\n",
            "PorterStemmer: mesmo \t\t RSLPStemmer: mesm\n",
            "PorterStemmer: com \t\t RSLPStemmer: com\n",
            "PorterStemmer: sua \t\t RSLPStemmer: sua\n",
            "PorterStemmer: esperteza \t\t RSLPStemmer: espert\n",
            "PorterStemmer: e \t\t RSLPStemmer: e\n",
            "PorterStemmer: sua \t\t RSLPStemmer: sua\n",
            "PorterStemmer: habilidad \t\t RSLPStemmer: habil\n",
            "PorterStemmer: como \t\t RSLPStemmer: com\n",
            "PorterStemmer: ladrão \t\t RSLPStemmer: ladr\n",
            "PorterStemmer: ! \t\t RSLPStemmer: !\n",
            "PorterStemmer: característicasautor \t\t RSLPStemmer: característicasau\n",
            "PorterStemmer: : \t\t RSLPStemmer: :\n",
            "PorterStemmer: tolkien \t\t RSLPStemmer: tolkien\n",
            "PorterStemmer: , \t\t RSLPStemmer: ,\n",
            "PorterStemmer: J. \t\t RSLPStemmer: j.\n",
            "PorterStemmer: R. \t\t RSLPStemmer: r.\n",
            "PorterStemmer: r.peso \t\t RSLPStemmer: r.pes\n",
            "PorterStemmer: : \t\t RSLPStemmer: :\n",
            "PorterStemmer: 0.44i.s.b.n \t\t RSLPStemmer: 0.44i.s.b.n\n",
            "PorterStemmer: . \t\t RSLPStemmer: .\n",
            "PorterStemmer: : \t\t RSLPStemmer: :\n",
            "PorterStemmer: 9788578277109altura \t\t RSLPStemmer: 9788578277109alt\n",
            "PorterStemmer: : \t\t RSLPStemmer: :\n",
            "PorterStemmer: 20.000000largura \t\t RSLPStemmer: 20.000000larg\n",
            "PorterStemmer: : \t\t RSLPStemmer: :\n",
            "PorterStemmer: 13.000000profundidad \t\t RSLPStemmer: 13.000000profund\n",
            "PorterStemmer: : \t\t RSLPStemmer: :\n",
            "PorterStemmer: 1.000000número \t\t RSLPStemmer: 1.000000númer\n",
            "PorterStemmer: de \t\t RSLPStemmer: de\n",
            "PorterStemmer: página \t\t RSLPStemmer: págin\n",
            "PorterStemmer: : \t\t RSLPStemmer: :\n",
            "PorterStemmer: 328idioma \t\t RSLPStemmer: 328idiom\n",
            "PorterStemmer: : \t\t RSLPStemmer: :\n",
            "PorterStemmer: portuguêsacabamento \t\t RSLPStemmer: portuguêsacab\n",
            "PorterStemmer: : \t\t RSLPStemmer: :\n",
            "PorterStemmer: brochuranúmero \t\t RSLPStemmer: brochuranúmer\n",
            "PorterStemmer: da \t\t RSLPStemmer: da\n",
            "PorterStemmer: edição \t\t RSLPStemmer: ediç\n",
            "PorterStemmer: : \t\t RSLPStemmer: :\n",
            "PorterStemmer: 7ano \t\t RSLPStemmer: 7an\n",
            "PorterStemmer: da \t\t RSLPStemmer: da\n",
            "PorterStemmer: edição \t\t RSLPStemmer: ediç\n",
            "PorterStemmer: : \t\t RSLPStemmer: :\n",
            "PorterStemmer: 2013 \t\t RSLPStemmer: 2013\n"
          ],
          "name": "stdout"
        }
      ]
    },
    {
      "cell_type": "markdown",
      "metadata": {
        "id": "zhTMo3h0oFA7",
        "colab_type": "text"
      },
      "source": [
        "## Quantos unigramas existem após aplicar Stemmer"
      ]
    },
    {
      "cell_type": "code",
      "metadata": {
        "id": "YlUI2NgDhufq",
        "colab_type": "code",
        "outputId": "27c30298-6079-4270-eb2c-460af471ff2d",
        "colab": {
          "base_uri": "https://localhost:8080/",
          "height": 35
        }
      },
      "source": [
        "','.join(['Rafael', 'Novello'])"
      ],
      "execution_count": 0,
      "outputs": [
        {
          "output_type": "execute_result",
          "data": {
            "text/plain": [
              "'Rafael,Novello'"
            ]
          },
          "metadata": {
            "tags": []
          },
          "execution_count": 33
        }
      ]
    },
    {
      "cell_type": "code",
      "metadata": {
        "id": "k_3LR9sO0hRm",
        "colab_type": "code",
        "outputId": "0ce75a6b-36c3-4130-9d72-7b0032124ecb",
        "colab": {
          "base_uri": "https://localhost:8080/",
          "height": 121
        }
      },
      "source": [
        "from nltk.stem.rslp import RSLPStemmer\n",
        "from sklearn.feature_extraction.text import CountVectorizer\n",
        "\n",
        "\n",
        "rslp = RSLPStemmer()\n",
        "\n",
        "def stem_pandas(line):\n",
        "  return ' '.join([rslp.stem(token) for token in line])\n",
        "\n",
        "df['stemmer'] = df.tokens.apply(stem_pandas)\n",
        "\n",
        "df.stemmer.head()"
      ],
      "execution_count": 0,
      "outputs": [
        {
          "output_type": "execute_result",
          "data": {
            "text/plain": [
              "0    o hobbit - 7ª ed . 2013 produt novobilb bols é...\n",
              "1    livr - it a cois - stephen king produt novodur...\n",
              "2    box as crôn de gel e fog pocket 5 livr produt ...\n",
              "3    box harry pott produt nov e físic a séri harry...\n",
              "4    livr orig - dan brown produt novod ond vi ? pa...\n",
              "Name: stemmer, dtype: object"
            ]
          },
          "metadata": {
            "tags": []
          },
          "execution_count": 34
        }
      ]
    },
    {
      "cell_type": "code",
      "metadata": {
        "id": "NFiA2cAORmpc",
        "colab_type": "code",
        "outputId": "69e57119-5580-4b18-8966-e1b32776c2df",
        "colab": {
          "base_uri": "https://localhost:8080/",
          "height": 35
        }
      },
      "source": [
        "stopwords = nltk.corpus.stopwords.words('portuguese')\n",
        "vect = CountVectorizer(ngram_range=(1,1), stop_words=stopwords)\n",
        "vect.fit(df.stemmer)\n",
        "\n",
        "text_vect = vect.transform(df.stemmer)\n",
        "\n",
        "print('UNIGRAMAS sem STOPWORDS', text_vect.shape[1])"
      ],
      "execution_count": 0,
      "outputs": [
        {
          "output_type": "stream",
          "text": [
            "UNIGRAMAS sem STOPWORDS 26528\n"
          ],
          "name": "stdout"
        }
      ]
    },
    {
      "cell_type": "code",
      "metadata": {
        "id": "U01-FBXmiYRN",
        "colab_type": "code",
        "colab": {}
      },
      "source": [
        ""
      ],
      "execution_count": 0,
      "outputs": []
    }
  ]
}