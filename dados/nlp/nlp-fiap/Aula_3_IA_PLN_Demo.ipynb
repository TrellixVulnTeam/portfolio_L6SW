{
  "nbformat": 4,
  "nbformat_minor": 0,
  "metadata": {
    "colab": {
      "name": "Aula 3 IA PLN - Demo.ipynb",
      "version": "0.3.2",
      "provenance": [],
      "collapsed_sections": []
    },
    "kernelspec": {
      "name": "python3",
      "display_name": "Python 3"
    }
  },
  "cells": [
    {
      "cell_type": "markdown",
      "metadata": {
        "id": "JdelQOET5rDj",
        "colab_type": "text"
      },
      "source": [
        "# Processamento de Linguagem Natural\n",
        "\n",
        "---\n"
      ]
    },
    {
      "cell_type": "markdown",
      "metadata": {
        "id": "K0wg8wf1GSeD",
        "colab_type": "text"
      },
      "source": [
        "## Stemmer"
      ]
    },
    {
      "cell_type": "code",
      "metadata": {
        "id": "yfwMue5RGR8B",
        "colab_type": "code",
        "colab": {}
      },
      "source": [
        "from nltk.stem import PorterStemmer\n",
        "\n",
        "examples = [\n",
        "    \"connection\",\"connections\",\n",
        "    \"connective\",\"connecting\",\"connected\"\n",
        "]\n",
        "\n",
        "ps = PorterStemmer()\n",
        "\n",
        "for word in examples:\n",
        "  print(ps.stem(word))"
      ],
      "execution_count": 0,
      "outputs": []
    },
    {
      "cell_type": "code",
      "metadata": {
        "id": "d4CKjpwJ2DD2",
        "colab_type": "code",
        "outputId": "7b16d230-ec0c-4563-906f-fc45b5bc89f2",
        "colab": {
          "base_uri": "https://localhost:8080/",
          "height": 110
        }
      },
      "source": [
        "import pandas as pd\n",
        "\n",
        "df = pd.DataFrame({\n",
        "    'text': [\n",
        "      'Sobre MBA ? Eu gostei muito do MBA da FIAP',\n",
        "      'O MBA da FIAP pode melhorar, não gostei muito'\n",
        "    ],\n",
        "    'class': [\n",
        "        'positivo',\n",
        "        'negativo'\n",
        "    ]})\n",
        "\n",
        "df.head()"
      ],
      "execution_count": 0,
      "outputs": [
        {
          "output_type": "execute_result",
          "data": {
            "text/html": [
              "<div>\n",
              "<style scoped>\n",
              "    .dataframe tbody tr th:only-of-type {\n",
              "        vertical-align: middle;\n",
              "    }\n",
              "\n",
              "    .dataframe tbody tr th {\n",
              "        vertical-align: top;\n",
              "    }\n",
              "\n",
              "    .dataframe thead th {\n",
              "        text-align: right;\n",
              "    }\n",
              "</style>\n",
              "<table border=\"1\" class=\"dataframe\">\n",
              "  <thead>\n",
              "    <tr style=\"text-align: right;\">\n",
              "      <th></th>\n",
              "      <th>class</th>\n",
              "      <th>text</th>\n",
              "    </tr>\n",
              "  </thead>\n",
              "  <tbody>\n",
              "    <tr>\n",
              "      <th>0</th>\n",
              "      <td>positivo</td>\n",
              "      <td>Sobre MBA ? Eu gostei muito do MBA da FIAP</td>\n",
              "    </tr>\n",
              "    <tr>\n",
              "      <th>1</th>\n",
              "      <td>negativo</td>\n",
              "      <td>O MBA da FIAP pode melhorar, não gostei muito</td>\n",
              "    </tr>\n",
              "  </tbody>\n",
              "</table>\n",
              "</div>"
            ],
            "text/plain": [
              "      class                                           text\n",
              "0  positivo     Sobre MBA ? Eu gostei muito do MBA da FIAP\n",
              "1  negativo  O MBA da FIAP pode melhorar, não gostei muito"
            ]
          },
          "metadata": {
            "tags": []
          },
          "execution_count": 1
        }
      ]
    },
    {
      "cell_type": "markdown",
      "metadata": {
        "id": "IqCkOL0C5-FC",
        "colab_type": "text"
      },
      "source": [
        "## Contagem de Termos - UNIGRAMA\n",
        "\n",
        "---"
      ]
    },
    {
      "cell_type": "code",
      "metadata": {
        "id": "G6kSv69h2jKs",
        "colab_type": "code",
        "outputId": "3f84363b-8ac7-490a-aaeb-f11260c3db4c",
        "colab": {
          "base_uri": "https://localhost:8080/",
          "height": 240
        }
      },
      "source": [
        "from sklearn.feature_extraction.text import CountVectorizer\n",
        "\n",
        "vect = CountVectorizer(ngram_range=(2,2))\n",
        "vect.fit(df.text)\n",
        "count_vect = vect.transform(df.text)\n",
        "\n",
        "print(pd.DataFrame(count_vect.A, columns=vect.get_feature_names()).T.to_string())"
      ],
      "execution_count": 0,
      "outputs": [
        {
          "output_type": "stream",
          "text": [
            "               0  1\n",
            "da fiap        1  1\n",
            "do mba         1  0\n",
            "eu gostei      1  0\n",
            "fiap pode      0  1\n",
            "gostei muito   1  1\n",
            "mba da         1  1\n",
            "mba eu         1  0\n",
            "melhorar não   0  1\n",
            "muito do       1  0\n",
            "não gostei     0  1\n",
            "pode melhorar  0  1\n",
            "sobre mba      1  0\n"
          ],
          "name": "stdout"
        }
      ]
    },
    {
      "cell_type": "markdown",
      "metadata": {
        "id": "TUTv5MDZE0jr",
        "colab_type": "text"
      },
      "source": [
        "## TF"
      ]
    },
    {
      "cell_type": "code",
      "metadata": {
        "id": "Wp4frwerLyx8",
        "colab_type": "code",
        "outputId": "18267065-4924-4177-faa9-6630ed0d9391",
        "colab": {
          "base_uri": "https://localhost:8080/",
          "height": 223
        }
      },
      "source": [
        "from sklearn.feature_extraction.text import TfidfVectorizer\n",
        "\n",
        "vect = TfidfVectorizer(\n",
        "    ngram_range=(1,1), use_idf=False, norm='l1'\n",
        ")\n",
        "vect.fit(df.text)\n",
        "tf_vect = vect.transform(df.text)\n",
        "\n",
        "print(pd.DataFrame(tf_vect.A, columns=vect.get_feature_names()).T.to_string())"
      ],
      "execution_count": 0,
      "outputs": [
        {
          "output_type": "stream",
          "text": [
            "                 0      1\n",
            "da        0.111111  0.125\n",
            "do        0.111111  0.000\n",
            "eu        0.111111  0.000\n",
            "fiap      0.111111  0.125\n",
            "gostei    0.111111  0.125\n",
            "mba       0.222222  0.125\n",
            "melhorar  0.000000  0.125\n",
            "muito     0.111111  0.125\n",
            "não       0.000000  0.125\n",
            "pode      0.000000  0.125\n",
            "sobre     0.111111  0.000\n"
          ],
          "name": "stdout"
        }
      ]
    },
    {
      "cell_type": "markdown",
      "metadata": {
        "id": "dxG2g5mInypI",
        "colab_type": "text"
      },
      "source": [
        "## TF-IDF"
      ]
    },
    {
      "cell_type": "code",
      "metadata": {
        "id": "XcJsUXuHFTnM",
        "colab_type": "code",
        "outputId": "c2f03fec-a28b-42ed-a50f-a64a2c2d43d4",
        "colab": {
          "base_uri": "https://localhost:8080/",
          "height": 227
        }
      },
      "source": [
        "from sklearn.feature_extraction.text import TfidfVectorizer\n",
        "\n",
        "vect = TfidfVectorizer(\n",
        "    ngram_range=(1,1), use_idf=True, norm='l1'\n",
        ")\n",
        "vect.fit(df.text)\n",
        "tfidf_vect = vect.transform(df.text)\n",
        "\n",
        "print(pd.DataFrame(tfidf_vect.A, columns=vect.get_feature_names()).T.to_string())"
      ],
      "execution_count": 0,
      "outputs": [
        {
          "output_type": "stream",
          "text": [
            "                 0         1\n",
            "da        0.097882  0.108502\n",
            "do        0.137570  0.000000\n",
            "eu        0.137570  0.000000\n",
            "fiap      0.097882  0.108502\n",
            "gostei    0.097882  0.108502\n",
            "mba       0.195764  0.108502\n",
            "melhorar  0.000000  0.152496\n",
            "muito     0.097882  0.108502\n",
            "não       0.000000  0.152496\n",
            "pode      0.000000  0.152496\n",
            "sobre     0.137570  0.000000\n"
          ],
          "name": "stdout"
        }
      ]
    },
    {
      "cell_type": "markdown",
      "metadata": {
        "id": "owZf_DaUomwT",
        "colab_type": "text"
      },
      "source": [
        "## Modelo com n-grama"
      ]
    },
    {
      "cell_type": "code",
      "metadata": {
        "id": "M4lp9qev2BwO",
        "colab_type": "code",
        "outputId": "79b59a20-1e92-4b2d-9cbe-0172b4bc611d",
        "colab": {
          "base_uri": "https://localhost:8080/",
          "height": 68
        }
      },
      "source": [
        "df['class']"
      ],
      "execution_count": 0,
      "outputs": [
        {
          "output_type": "execute_result",
          "data": {
            "text/plain": [
              "0    positivo\n",
              "1    negativo\n",
              "Name: class, dtype: object"
            ]
          },
          "metadata": {
            "tags": []
          },
          "execution_count": 7
        }
      ]
    },
    {
      "cell_type": "code",
      "metadata": {
        "id": "A3p0_VlNmzAY",
        "colab_type": "code",
        "outputId": "055d5c1a-1f3b-461d-a512-83c1bf6de605",
        "colab": {
          "base_uri": "https://localhost:8080/",
          "height": 34
        }
      },
      "source": [
        "from sklearn.tree import DecisionTreeClassifier\n",
        "\n",
        "\n",
        "tree = DecisionTreeClassifier()\n",
        "tree.fit(count_vect, df['class'])\n",
        "\n",
        "print('D Tree: ', tree.score(count_vect, df['class']))"
      ],
      "execution_count": 0,
      "outputs": [
        {
          "output_type": "stream",
          "text": [
            "D Tree:  1.0\n"
          ],
          "name": "stdout"
        }
      ]
    },
    {
      "cell_type": "code",
      "metadata": {
        "id": "MD07UNay3hA5",
        "colab_type": "code",
        "colab": {}
      },
      "source": [
        ""
      ],
      "execution_count": 0,
      "outputs": []
    },
    {
      "cell_type": "code",
      "metadata": {
        "id": "OuGLwdhUpuIZ",
        "colab_type": "code",
        "outputId": "75fe17a1-8e66-471d-efc7-2876e143809e",
        "colab": {
          "base_uri": "https://localhost:8080/",
          "height": 34
        }
      },
      "source": [
        "texto = vect.transform(['gostei do mba'])\n",
        "\n",
        "print('D Tree: ', tree.predict(texto))"
      ],
      "execution_count": 0,
      "outputs": [
        {
          "output_type": "stream",
          "text": [
            "D Tree:  ['negativo']\n"
          ],
          "name": "stdout"
        }
      ]
    },
    {
      "cell_type": "code",
      "metadata": {
        "id": "2R6-1s4wqEiq",
        "colab_type": "code",
        "colab": {}
      },
      "source": [
        ""
      ],
      "execution_count": 0,
      "outputs": []
    }
  ]
}