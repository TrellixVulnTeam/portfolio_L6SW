{
  "nbformat": 4,
  "nbformat_minor": 0,
  "metadata": {
    "colab": {
      "name": "Aula 1.1 IA PLN - Exercício.ipynb",
      "version": "0.3.2",
      "provenance": [],
      "collapsed_sections": []
    },
    "kernelspec": {
      "name": "python3",
      "display_name": "Python 3"
    }
  },
  "cells": [
    {
      "cell_type": "markdown",
      "metadata": {
        "id": "a2BT_ZwvhEKF",
        "colab_type": "text"
      },
      "source": [
        "## Carregando o dataset"
      ]
    },
    {
      "cell_type": "code",
      "metadata": {
        "id": "MbxTY0CHaaDl",
        "colab_type": "code",
        "outputId": "cb977535-e80a-4858-f9da-9f3f8ab1d76b",
        "colab": {
          "base_uri": "https://localhost:8080/",
          "height": 189
        }
      },
      "source": [
        "import pandas as pd\n",
        "\n",
        "df = pd.read_csv(\n",
        "    \"https://s3.amazonaws.com/automl-example/produtos.csv\",\n",
        "    delimiter=\";\",\n",
        "    encoding='utf-8'\n",
        ")\n",
        "\n",
        "df.describe()"
      ],
      "execution_count": 0,
      "outputs": [
        {
          "output_type": "execute_result",
          "data": {
            "text/html": [
              "<div>\n",
              "<style scoped>\n",
              "    .dataframe tbody tr th:only-of-type {\n",
              "        vertical-align: middle;\n",
              "    }\n",
              "\n",
              "    .dataframe tbody tr th {\n",
              "        vertical-align: top;\n",
              "    }\n",
              "\n",
              "    .dataframe thead th {\n",
              "        text-align: right;\n",
              "    }\n",
              "</style>\n",
              "<table border=\"1\" class=\"dataframe\">\n",
              "  <thead>\n",
              "    <tr style=\"text-align: right;\">\n",
              "      <th></th>\n",
              "      <th>nome</th>\n",
              "      <th>descricao</th>\n",
              "      <th>categoria</th>\n",
              "    </tr>\n",
              "  </thead>\n",
              "  <tbody>\n",
              "    <tr>\n",
              "      <th>count</th>\n",
              "      <td>4080</td>\n",
              "      <td>2916</td>\n",
              "      <td>4080</td>\n",
              "    </tr>\n",
              "    <tr>\n",
              "      <th>unique</th>\n",
              "      <td>3696</td>\n",
              "      <td>2460</td>\n",
              "      <td>4</td>\n",
              "    </tr>\n",
              "    <tr>\n",
              "      <th>top</th>\n",
              "      <td>Mais Escuro - Cinquenta Tons Mais Escuros Pel...</td>\n",
              "      <td>JOGO ORIGINAL. NOVO. LACRADO. PRONTA ENTREGA. ...</td>\n",
              "      <td>brinquedo</td>\n",
              "    </tr>\n",
              "    <tr>\n",
              "      <th>freq</th>\n",
              "      <td>20</td>\n",
              "      <td>39</td>\n",
              "      <td>1020</td>\n",
              "    </tr>\n",
              "  </tbody>\n",
              "</table>\n",
              "</div>"
            ],
            "text/plain": [
              "                                                     nome  \\\n",
              "count                                                4080   \n",
              "unique                                               3696   \n",
              "top      Mais Escuro - Cinquenta Tons Mais Escuros Pel...   \n",
              "freq                                                   20   \n",
              "\n",
              "                                                descricao  categoria  \n",
              "count                                                2916       4080  \n",
              "unique                                               2460          4  \n",
              "top     JOGO ORIGINAL. NOVO. LACRADO. PRONTA ENTREGA. ...  brinquedo  \n",
              "freq                                                   39       1020  "
            ]
          },
          "metadata": {
            "tags": []
          },
          "execution_count": 1
        }
      ]
    },
    {
      "cell_type": "code",
      "metadata": {
        "id": "TQwrws_rmaau",
        "colab_type": "code",
        "outputId": "4473f98e-ebd4-4dce-f3e0-8cbb73148152",
        "colab": {
          "base_uri": "https://localhost:8080/",
          "height": 288
        }
      },
      "source": [
        "df.head()"
      ],
      "execution_count": 0,
      "outputs": [
        {
          "output_type": "execute_result",
          "data": {
            "text/html": [
              "<div>\n",
              "<style scoped>\n",
              "    .dataframe tbody tr th:only-of-type {\n",
              "        vertical-align: middle;\n",
              "    }\n",
              "\n",
              "    .dataframe tbody tr th {\n",
              "        vertical-align: top;\n",
              "    }\n",
              "\n",
              "    .dataframe thead th {\n",
              "        text-align: right;\n",
              "    }\n",
              "</style>\n",
              "<table border=\"1\" class=\"dataframe\">\n",
              "  <thead>\n",
              "    <tr style=\"text-align: right;\">\n",
              "      <th></th>\n",
              "      <th>nome</th>\n",
              "      <th>descricao</th>\n",
              "      <th>categoria</th>\n",
              "    </tr>\n",
              "  </thead>\n",
              "  <tbody>\n",
              "    <tr>\n",
              "      <th>0</th>\n",
              "      <td>O Hobbit - 7ª Ed. 2013</td>\n",
              "      <td>Produto NovoBilbo Bolseiro é um hobbit que lev...</td>\n",
              "      <td>livro</td>\n",
              "    </tr>\n",
              "    <tr>\n",
              "      <th>1</th>\n",
              "      <td>Livro - It A Coisa - Stephen King</td>\n",
              "      <td>Produto NovoDurante as férias escolares de 195...</td>\n",
              "      <td>livro</td>\n",
              "    </tr>\n",
              "    <tr>\n",
              "      <th>2</th>\n",
              "      <td>Box  As Crônicas De Gelo E Fogo  Pocket  5 Li...</td>\n",
              "      <td>Produto NovoTodo o reino de Westeros ao alcanc...</td>\n",
              "      <td>livro</td>\n",
              "    </tr>\n",
              "    <tr>\n",
              "      <th>3</th>\n",
              "      <td>Box Harry Potter</td>\n",
              "      <td>Produto Novo e Físico  A série Harry Potter ch...</td>\n",
              "      <td>livro</td>\n",
              "    </tr>\n",
              "    <tr>\n",
              "      <th>4</th>\n",
              "      <td>Livro Origem - Dan Brown</td>\n",
              "      <td>Produto NovoDe Onde Viemos? Para Onde Vamos? R...</td>\n",
              "      <td>livro</td>\n",
              "    </tr>\n",
              "  </tbody>\n",
              "</table>\n",
              "</div>"
            ],
            "text/plain": [
              "                                                nome  \\\n",
              "0                            O Hobbit - 7ª Ed. 2013    \n",
              "1                 Livro - It A Coisa - Stephen King    \n",
              "2   Box  As Crônicas De Gelo E Fogo  Pocket  5 Li...   \n",
              "3                                  Box Harry Potter    \n",
              "4                          Livro Origem - Dan Brown    \n",
              "\n",
              "                                           descricao categoria  \n",
              "0  Produto NovoBilbo Bolseiro é um hobbit que lev...     livro  \n",
              "1  Produto NovoDurante as férias escolares de 195...     livro  \n",
              "2  Produto NovoTodo o reino de Westeros ao alcanc...     livro  \n",
              "3  Produto Novo e Físico  A série Harry Potter ch...     livro  \n",
              "4  Produto NovoDe Onde Viemos? Para Onde Vamos? R...     livro  "
            ]
          },
          "metadata": {
            "tags": []
          },
          "execution_count": 2
        }
      ]
    },
    {
      "cell_type": "markdown",
      "metadata": {
        "id": "3b1AsI8DhJN3",
        "colab_type": "text"
      },
      "source": [
        "## Quais valores são nulos e qual a porcentagem"
      ]
    },
    {
      "cell_type": "code",
      "metadata": {
        "id": "5naO2LQHb8c-",
        "colab_type": "code",
        "outputId": "79d3c6ad-c908-45f0-e164-b2e38dc334a0",
        "colab": {
          "base_uri": "https://localhost:8080/",
          "height": 154
        }
      },
      "source": [
        "df.info()"
      ],
      "execution_count": 0,
      "outputs": [
        {
          "output_type": "stream",
          "text": [
            "<class 'pandas.core.frame.DataFrame'>\n",
            "RangeIndex: 4080 entries, 0 to 4079\n",
            "Data columns (total 3 columns):\n",
            "nome         4080 non-null object\n",
            "descricao    2916 non-null object\n",
            "categoria    4080 non-null object\n",
            "dtypes: object(3)\n",
            "memory usage: 95.7+ KB\n"
          ],
          "name": "stdout"
        }
      ]
    },
    {
      "cell_type": "code",
      "metadata": {
        "id": "clrV3b7g144v",
        "colab_type": "code",
        "outputId": "66de90be-018f-44c2-d5b0-fc3c688b6d4c",
        "colab": {
          "base_uri": "https://localhost:8080/",
          "height": 34
        }
      },
      "source": [
        "df.shape"
      ],
      "execution_count": 0,
      "outputs": [
        {
          "output_type": "execute_result",
          "data": {
            "text/plain": [
              "(4080, 3)"
            ]
          },
          "metadata": {
            "tags": []
          },
          "execution_count": 4
        }
      ]
    },
    {
      "cell_type": "code",
      "metadata": {
        "id": "eApVJ845oDdy",
        "colab_type": "code",
        "outputId": "de1cd2be-a778-4285-bb02-e2f5b0eea79b",
        "colab": {
          "base_uri": "https://localhost:8080/",
          "height": 86
        }
      },
      "source": [
        "df.isnull().sum()"
      ],
      "execution_count": 0,
      "outputs": [
        {
          "output_type": "execute_result",
          "data": {
            "text/plain": [
              "nome            0\n",
              "descricao    1164\n",
              "categoria       0\n",
              "dtype: int64"
            ]
          },
          "metadata": {
            "tags": []
          },
          "execution_count": 7
        }
      ]
    },
    {
      "cell_type": "code",
      "metadata": {
        "id": "YUWD23RhbsvS",
        "colab_type": "code",
        "outputId": "4c7076d0-b54a-4b05-de92-b71f9ea6270f",
        "colab": {
          "base_uri": "https://localhost:8080/",
          "height": 86
        }
      },
      "source": [
        "df.isnull().sum()/df.shape[0]"
      ],
      "execution_count": 0,
      "outputs": [
        {
          "output_type": "execute_result",
          "data": {
            "text/plain": [
              "nome         0.000000\n",
              "descricao    0.285294\n",
              "categoria    0.000000\n",
              "dtype: float64"
            ]
          },
          "metadata": {
            "tags": []
          },
          "execution_count": 5
        }
      ]
    },
    {
      "cell_type": "markdown",
      "metadata": {
        "id": "eok0vq2diIFa",
        "colab_type": "text"
      },
      "source": [
        "## Remover as linhas com valores nulos"
      ]
    },
    {
      "cell_type": "code",
      "metadata": {
        "id": "d7EsxlE8gzY0",
        "colab_type": "code",
        "outputId": "7840c717-76c9-4739-dec4-c3ab5e9a11c6",
        "colab": {
          "base_uri": "https://localhost:8080/",
          "height": 154
        }
      },
      "source": [
        "df.dropna(inplace=True)\n",
        "df.info()"
      ],
      "execution_count": 0,
      "outputs": [
        {
          "output_type": "stream",
          "text": [
            "<class 'pandas.core.frame.DataFrame'>\n",
            "Int64Index: 2916 entries, 0 to 4079\n",
            "Data columns (total 3 columns):\n",
            "nome         2916 non-null object\n",
            "descricao    2916 non-null object\n",
            "categoria    2916 non-null object\n",
            "dtypes: object(3)\n",
            "memory usage: 91.1+ KB\n"
          ],
          "name": "stdout"
        }
      ]
    },
    {
      "cell_type": "markdown",
      "metadata": {
        "id": "7hUJ2U3nj1xt",
        "colab_type": "text"
      },
      "source": [
        "## Distribuição das categorias"
      ]
    },
    {
      "cell_type": "code",
      "metadata": {
        "id": "1Odl4b9aiOnA",
        "colab_type": "code",
        "outputId": "c0318127-a0bf-4322-a3f3-5bee4824a97f",
        "colab": {
          "base_uri": "https://localhost:8080/",
          "height": 103
        }
      },
      "source": [
        "df.categoria.value_counts()"
      ],
      "execution_count": 0,
      "outputs": [
        {
          "output_type": "execute_result",
          "data": {
            "text/plain": [
              "livro        838\n",
              "maquiagem    788\n",
              "brinquedo    668\n",
              "game         622\n",
              "Name: categoria, dtype: int64"
            ]
          },
          "metadata": {
            "tags": []
          },
          "execution_count": 13
        }
      ]
    },
    {
      "cell_type": "code",
      "metadata": {
        "id": "r-wbgpGck87D",
        "colab_type": "code",
        "outputId": "4a29828c-b1ed-49ef-aba2-1573db786466",
        "colab": {
          "base_uri": "https://localhost:8080/",
          "height": 270
        }
      },
      "source": [
        "df.categoria.value_counts().plot(kind='bar', figsize=(3,3))"
      ],
      "execution_count": 0,
      "outputs": [
        {
          "output_type": "execute_result",
          "data": {
            "text/plain": [
              "<matplotlib.axes._subplots.AxesSubplot at 0x7ff0ea9561d0>"
            ]
          },
          "metadata": {
            "tags": []
          },
          "execution_count": 8
        },
        {
          "output_type": "display_data",
          "data": {
            "image/png": "[encoded data removed]",
            "text/plain": [
              "<Figure size 216x216 with 1 Axes>"
            ]
          },
          "metadata": {
            "tags": []
          }
        }
      ]
    },
    {
      "cell_type": "markdown",
      "metadata": {
        "id": "zhTMo3h0oFA7",
        "colab_type": "text"
      },
      "source": [
        "## Mostrar as 10 palavras que mais ocorrem"
      ]
    },
    {
      "cell_type": "code",
      "metadata": {
        "id": "DhnC6t6Ilafr",
        "colab_type": "code",
        "colab": {}
      },
      "source": [
        "from collections import Counter\n",
        "\n",
        "c = Counter()\n"
      ],
      "execution_count": 0,
      "outputs": []
    },
    {
      "cell_type": "code",
      "metadata": {
        "id": "vaLAnprh6KPa",
        "colab_type": "code",
        "outputId": "dd214852-32c6-447d-d7ff-8adca2304451",
        "colab": {
          "base_uri": "https://localhost:8080/",
          "height": 188
        }
      },
      "source": [
        "df.descricao.str.lower().str.split(\" \").apply(c.update)\n",
        "c.most_common(10)"
      ],
      "execution_count": 0,
      "outputs": [
        {
          "output_type": "execute_result",
          "data": {
            "text/plain": [
              "[('de', 23835),\n",
              " ('e', 15774),\n",
              " ('o', 12238),\n",
              " ('a', 11905),\n",
              " ('do', 8657),\n",
              " ('para', 7913),\n",
              " ('em', 6798),\n",
              " ('que', 6770),\n",
              " ('-', 6220),\n",
              " ('com', 6099)]"
            ]
          },
          "metadata": {
            "tags": []
          },
          "execution_count": 22
        }
      ]
    },
    {
      "cell_type": "code",
      "metadata": {
        "id": "GIs6b-70qKVv",
        "colab_type": "code",
        "outputId": "75f64f43-69c3-42a9-9b93-114e68b8b360",
        "colab": {
          "base_uri": "https://localhost:8080/",
          "height": 86
        }
      },
      "source": [
        "print('Livro: ', c.get('livro'))\n",
        "print('Game: ', c.get('game'))\n",
        "print('Brinquedo: ', c.get('brinquedo'))\n",
        "print('Maquiagem: ', c.get('maquiagem'))"
      ],
      "execution_count": 0,
      "outputs": [
        {
          "output_type": "stream",
          "text": [
            "Livro:  545\n",
            "Game:  138\n",
            "Brinquedo:  50\n",
            "Maquiagem:  493\n"
          ],
          "name": "stdout"
        }
      ]
    },
    {
      "cell_type": "code",
      "metadata": {
        "id": "k4zCstDesUSy",
        "colab_type": "code",
        "outputId": "0a13126e-d364-4e3b-b44d-056ac449251a",
        "colab": {
          "base_uri": "https://localhost:8080/",
          "height": 34
        }
      },
      "source": [
        "c.get('batom')"
      ],
      "execution_count": 0,
      "outputs": [
        {
          "output_type": "execute_result",
          "data": {
            "text/plain": [
              "202"
            ]
          },
          "metadata": {
            "tags": []
          },
          "execution_count": 29
        }
      ]
    },
    {
      "cell_type": "markdown",
      "metadata": {
        "id": "HFw7pB_-uVZX",
        "colab_type": "text"
      },
      "source": [
        "## Nuvem de palavras"
      ]
    },
    {
      "cell_type": "code",
      "metadata": {
        "id": "npyDF0IGs8RG",
        "colab_type": "code",
        "outputId": "5dd85f4e-1d49-4ae4-cd79-ee80eec81f10",
        "colab": {
          "base_uri": "https://localhost:8080/",
          "height": 223
        }
      },
      "source": [
        "import nltk\n",
        "import matplotlib.pyplot as plt\n",
        "\n",
        "try:\n",
        "  from wordcloud import WordCloud\n",
        "except:\n",
        "  !pip install wordcloud\n",
        "  \n",
        "\n",
        "livro_words = ''\n",
        "\n",
        "livro = df[df.categoria == 'maquiagem']\n",
        "\n",
        "\n",
        "for val in livro.descricao:\n",
        "    text = val.lower()\n",
        "    for words in text:\n",
        "        livro_words = livro_words + words\n",
        "\n",
        "# Generate a word cloud image\n",
        "livro_wordcloud = WordCloud(width=600, height=400).generate(livro_words)\n",
        "\n",
        "\n",
        "#Livro Word cloud\n",
        "plt.figure( figsize=(4,4), facecolor='k')\n",
        "plt.imshow(livro_wordcloud)\n",
        "plt.axis(\"off\")\n",
        "plt.tight_layout(pad=0)\n",
        "plt.show()"
      ],
      "execution_count": 0,
      "outputs": [
        {
          "output_type": "display_data",
          "data": {
            "image/png": "[encoded data removed]",
            "text/plain": [
              "<Figure size 288x288 with 1 Axes>"
            ]
          },
          "metadata": {
            "tags": []
          }
        }
      ]
    },
    {
      "cell_type": "code",
      "metadata": {
        "id": "GvKp3Rt2t_1s",
        "colab_type": "code",
        "colab": {}
      },
      "source": [
        ""
      ],
      "execution_count": 0,
      "outputs": []
    },
    {
      "cell_type": "code",
      "metadata": {
        "id": "ZqyqYSHWveQc",
        "colab_type": "code",
        "colab": {}
      },
      "source": [
        ""
      ],
      "execution_count": 0,
      "outputs": []
    }
  ]
}