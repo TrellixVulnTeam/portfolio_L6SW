{
  "nbformat": 4,
  "nbformat_minor": 0,
  "metadata": {
    "colab": {
      "name": "Aula 5 PLN.ipynb",
      "provenance": [],
      "collapsed_sections": []
    },
    "kernelspec": {
      "name": "python3",
      "display_name": "Python 3"
    }
  },
  "cells": [
    {
      "cell_type": "markdown",
      "metadata": {
        "id": "whSxQebybMcH",
        "colab_type": "text"
      },
      "source": [
        "# Revisão!\n",
        "\n",
        "\n",
        "<font size=5>Até o momento nos consentramos nas análises morfológica (classe gramatical) e sintática (estrutura das frases) dos textos com o objetivo de entender a construção das frases e o papel de cada palavra nas sentenças.</font>\n",
        "\n",
        "\n",
        "## Exemplos de análises morfológicas e sintáticas"
      ]
    },
    {
      "cell_type": "code",
      "metadata": {
        "id": "9tis68GOcB8F",
        "colab_type": "code",
        "cellView": "both",
        "outputId": "497c4ce7-1272-4aba-e91b-a24bf08b33d7",
        "colab": {
          "base_uri": "https://localhost:8080/",
          "height": 311
        }
      },
      "source": [
        "#@title\n",
        "!python -m spacy download pt\n",
        "\n",
        "import spacy\n",
        "\n",
        "pt = spacy.load('pt')"
      ],
      "execution_count": 1,
      "outputs": [
        {
          "output_type": "stream",
          "text": [
            "Collecting pt_core_news_sm==2.1.0 from https://github.com/explosion/spacy-models/releases/download/pt_core_news_sm-2.1.0/pt_core_news_sm-2.1.0.tar.gz#egg=pt_core_news_sm==2.1.0\n",
            "\u001b[?25l  Downloading https://github.com/explosion/spacy-models/releases/download/pt_core_news_sm-2.1.0/pt_core_news_sm-2.1.0.tar.gz (12.8MB)\n",
            "\u001b[K     |████████████████████████████████| 12.9MB 759kB/s \n",
            "\u001b[?25hBuilding wheels for collected packages: pt-core-news-sm\n",
            "  Building wheel for pt-core-news-sm (setup.py) ... \u001b[?25l\u001b[?25hdone\n",
            "  Created wheel for pt-core-news-sm: filename=pt_core_news_sm-2.1.0-cp36-none-any.whl size=12843677 sha256=580bded6291289209ff65d8e53b550d889b65337476e326c10ee2381d3be9d09\n",
            "  Stored in directory: /tmp/pip-ephem-wheel-cache-b9m367za/wheels/a3/8f/c1/f036e3a7f1aa44fb06a534c6c4b1c2b773f101fdb1f163c08c\n",
            "Successfully built pt-core-news-sm\n",
            "Installing collected packages: pt-core-news-sm\n",
            "Successfully installed pt-core-news-sm-2.1.0\n",
            "\u001b[38;5;2m✔ Download and installation successful\u001b[0m\n",
            "You can now load the model via spacy.load('pt_core_news_sm')\n",
            "\u001b[38;5;2m✔ Linking successful\u001b[0m\n",
            "/usr/local/lib/python3.6/dist-packages/pt_core_news_sm -->\n",
            "/usr/local/lib/python3.6/dist-packages/spacy/data/pt\n",
            "You can now load the model via spacy.load('pt')\n"
          ],
          "name": "stdout"
        }
      ]
    },
    {
      "cell_type": "code",
      "metadata": {
        "id": "V_X0GrT0cmpX",
        "colab_type": "code",
        "cellView": "both",
        "outputId": "dd79ca30-68f1-4769-cb57-8a054330256a",
        "colab": {
          "base_uri": "https://localhost:8080/",
          "height": 258
        }
      },
      "source": [
        "#@title\n",
        "from spacy import displacy\n",
        "\n",
        "doc = pt('O gato perseguiu o rato')\n",
        "\n",
        "displacy.render(doc, style='dep', jupyter=True, options={'distance':100})"
      ],
      "execution_count": 0,
      "outputs": [
        {
          "output_type": "display_data",
          "data": {
            "text/html": [
              "<svg xmlns=\"http://www.w3.org/2000/svg\" xmlns:xlink=\"http://www.w3.org/1999/xlink\" xml:lang=\"pt\" id=\"2741e7663ea44f16a7f1dd80de2a1199-0\" class=\"displacy\" width=\"550\" height=\"237.0\" direction=\"ltr\" style=\"max-width: none; height: 237.0px; color: #000000; background: #ffffff; font-family: Arial; direction: ltr\">\n",
              "<text class=\"displacy-token\" fill=\"currentColor\" text-anchor=\"middle\" y=\"147.0\">\n",
              "    <tspan class=\"displacy-word\" fill=\"currentColor\" x=\"50\">O</tspan>\n",
              "    <tspan class=\"displacy-tag\" dy=\"2em\" fill=\"currentColor\" x=\"50\">DET</tspan>\n",
              "</text>\n",
              "\n",
              "<text class=\"displacy-token\" fill=\"currentColor\" text-anchor=\"middle\" y=\"147.0\">\n",
              "    <tspan class=\"displacy-word\" fill=\"currentColor\" x=\"150\">gato</tspan>\n",
              "    <tspan class=\"displacy-tag\" dy=\"2em\" fill=\"currentColor\" x=\"150\">NOUN</tspan>\n",
              "</text>\n",
              "\n",
              "<text class=\"displacy-token\" fill=\"currentColor\" text-anchor=\"middle\" y=\"147.0\">\n",
              "    <tspan class=\"displacy-word\" fill=\"currentColor\" x=\"250\">perseguiu</tspan>\n",
              "    <tspan class=\"displacy-tag\" dy=\"2em\" fill=\"currentColor\" x=\"250\">VERB</tspan>\n",
              "</text>\n",
              "\n",
              "<text class=\"displacy-token\" fill=\"currentColor\" text-anchor=\"middle\" y=\"147.0\">\n",
              "    <tspan class=\"displacy-word\" fill=\"currentColor\" x=\"350\">o</tspan>\n",
              "    <tspan class=\"displacy-tag\" dy=\"2em\" fill=\"currentColor\" x=\"350\">DET</tspan>\n",
              "</text>\n",
              "\n",
              "<text class=\"displacy-token\" fill=\"currentColor\" text-anchor=\"middle\" y=\"147.0\">\n",
              "    <tspan class=\"displacy-word\" fill=\"currentColor\" x=\"450\">rato</tspan>\n",
              "    <tspan class=\"displacy-tag\" dy=\"2em\" fill=\"currentColor\" x=\"450\">NOUN</tspan>\n",
              "</text>\n",
              "\n",
              "<g class=\"displacy-arrow\">\n",
              "    <path class=\"displacy-arc\" id=\"arrow-2741e7663ea44f16a7f1dd80de2a1199-0-0\" stroke-width=\"2px\" d=\"M70,102.0 C70,52.0 145.0,52.0 145.0,102.0\" fill=\"none\" stroke=\"currentColor\"/>\n",
              "    <text dy=\"1.25em\" style=\"font-size: 0.8em; letter-spacing: 1px\">\n",
              "        <textPath xlink:href=\"#arrow-2741e7663ea44f16a7f1dd80de2a1199-0-0\" class=\"displacy-label\" startOffset=\"50%\" side=\"left\" fill=\"currentColor\" text-anchor=\"middle\">det</textPath>\n",
              "    </text>\n",
              "    <path class=\"displacy-arrowhead\" d=\"M70,104.0 L62,92.0 78,92.0\" fill=\"currentColor\"/>\n",
              "</g>\n",
              "\n",
              "<g class=\"displacy-arrow\">\n",
              "    <path class=\"displacy-arc\" id=\"arrow-2741e7663ea44f16a7f1dd80de2a1199-0-1\" stroke-width=\"2px\" d=\"M170,102.0 C170,52.0 245.0,52.0 245.0,102.0\" fill=\"none\" stroke=\"currentColor\"/>\n",
              "    <text dy=\"1.25em\" style=\"font-size: 0.8em; letter-spacing: 1px\">\n",
              "        <textPath xlink:href=\"#arrow-2741e7663ea44f16a7f1dd80de2a1199-0-1\" class=\"displacy-label\" startOffset=\"50%\" side=\"left\" fill=\"currentColor\" text-anchor=\"middle\">nsubj</textPath>\n",
              "    </text>\n",
              "    <path class=\"displacy-arrowhead\" d=\"M170,104.0 L162,92.0 178,92.0\" fill=\"currentColor\"/>\n",
              "</g>\n",
              "\n",
              "<g class=\"displacy-arrow\">\n",
              "    <path class=\"displacy-arc\" id=\"arrow-2741e7663ea44f16a7f1dd80de2a1199-0-2\" stroke-width=\"2px\" d=\"M370,102.0 C370,52.0 445.0,52.0 445.0,102.0\" fill=\"none\" stroke=\"currentColor\"/>\n",
              "    <text dy=\"1.25em\" style=\"font-size: 0.8em; letter-spacing: 1px\">\n",
              "        <textPath xlink:href=\"#arrow-2741e7663ea44f16a7f1dd80de2a1199-0-2\" class=\"displacy-label\" startOffset=\"50%\" side=\"left\" fill=\"currentColor\" text-anchor=\"middle\">det</textPath>\n",
              "    </text>\n",
              "    <path class=\"displacy-arrowhead\" d=\"M370,104.0 L362,92.0 378,92.0\" fill=\"currentColor\"/>\n",
              "</g>\n",
              "\n",
              "<g class=\"displacy-arrow\">\n",
              "    <path class=\"displacy-arc\" id=\"arrow-2741e7663ea44f16a7f1dd80de2a1199-0-3\" stroke-width=\"2px\" d=\"M270,102.0 C270,2.0 450.0,2.0 450.0,102.0\" fill=\"none\" stroke=\"currentColor\"/>\n",
              "    <text dy=\"1.25em\" style=\"font-size: 0.8em; letter-spacing: 1px\">\n",
              "        <textPath xlink:href=\"#arrow-2741e7663ea44f16a7f1dd80de2a1199-0-3\" class=\"displacy-label\" startOffset=\"50%\" side=\"left\" fill=\"currentColor\" text-anchor=\"middle\">obj</textPath>\n",
              "    </text>\n",
              "    <path class=\"displacy-arrowhead\" d=\"M450.0,104.0 L458.0,92.0 442.0,92.0\" fill=\"currentColor\"/>\n",
              "</g>\n",
              "</svg>"
            ],
            "text/plain": [
              "<IPython.core.display.HTML object>"
            ]
          },
          "metadata": {
            "tags": []
          }
        }
      ]
    },
    {
      "cell_type": "code",
      "metadata": {
        "id": "Y7LBuRswc6OD",
        "colab_type": "code",
        "outputId": "752f4c63-d417-4a2e-b2dd-8d6005f2e2f3",
        "colab": {
          "base_uri": "https://localhost:8080/",
          "height": 103
        }
      },
      "source": [
        "for token in doc:\n",
        "    print(f'{token.text:{10}} {token.pos_:{8}} {token.tag_:30} {spacy.explain(token.pos_)}')"
      ],
      "execution_count": 0,
      "outputs": [
        {
          "output_type": "stream",
          "text": [
            "O          DET      <artd>|ART|M|S|@>N             determiner\n",
            "gato       NOUN     <np-def>|N|M|S|@SUBJ>          noun\n",
            "perseguiu  VERB     <mv>|V|PS|3S|IND|@FS-STA       verb\n",
            "o          DET      <artd>|ART|M|S|@>N             determiner\n",
            "rato       NOUN     <np-def>|N|M|S|@<ACC           noun\n"
          ],
          "name": "stdout"
        }
      ]
    },
    {
      "cell_type": "markdown",
      "metadata": {
        "id": "9AsBjuXLptM4",
        "colab_type": "text"
      },
      "source": [
        "## Part-of-speech Tags \"Super Categorias\""
      ]
    },
    {
      "cell_type": "markdown",
      "metadata": {
        "id": "fiAX65_7mTu1",
        "colab_type": "text"
      },
      "source": [
        "<font size=5>Abaixo esta uma tabela com as principais POS Tags mas, para pesquisar e entender mais sobre cada tag, uma boa forte é o site https://universaldependencies.org/treebanks/pt_gsd/index.html\n",
        "</font> \n",
        "<br>\n",
        "\n",
        "---\n",
        "\n",
        "<br>\n",
        "<table><tr><th>POS</th><th>DESCRIÇÃO</th><th>EXEMPLOS</th></tr>\n",
        "    \n",
        "<tr><td>ADJ</td><td>adjective</td><td>*big, old, green, incomprehensible, first*</td></tr>\n",
        "<tr><td>ADP</td><td>adposition</td><td>*in, to, during*</td></tr>\n",
        "<tr><td>ADV</td><td>adverb</td><td>*very, tomorrow, down, where, there*</td></tr>\n",
        "<tr><td>AUX</td><td>auxiliary</td><td>*is, has (done), will (do), should (do)*</td></tr>\n",
        "<tr><td>CONJ</td><td>conjunction</td><td>*and, or, but*</td></tr>\n",
        "<tr><td>CCONJ</td><td>coordinating conjunction</td><td>*and, or, but*</td></tr>\n",
        "<tr><td>DET</td><td>determiner</td><td>*a, an, the*</td></tr>\n",
        "<tr><td>INTJ</td><td>interjection</td><td>*psst, ouch, bravo, hello*</td></tr>\n",
        "<tr><td>NOUN</td><td>noun</td><td>*girl, cat, tree, air, beauty*</td></tr>\n",
        "<tr><td>NUM</td><td>numeral</td><td>*1, 2017, one, seventy-seven, IV, MMXIV*</td></tr>\n",
        "<tr><td>PART</td><td>particle</td><td>*'s, not,*</td></tr>\n",
        "<tr><td>PRON</td><td>pronoun</td><td>*I, you, he, she, myself, themselves, somebody*</td></tr>\n",
        "<tr><td>PROPN</td><td>proper noun</td><td>*Mary, John, London, NATO, HBO*</td></tr>\n",
        "<tr><td>PUNCT</td><td>punctuation</td><td>*., (, ), ?*</td></tr>\n",
        "<tr><td>SCONJ</td><td>subordinating conjunction</td><td>*if, while, that*</td></tr>\n",
        "<tr><td>SYM</td><td>symbol</td><td>*$, %, §, ©, +, −, ×, ÷, =, :), 😝*</td></tr>\n",
        "<tr><td>VERB</td><td>verb</td><td>*run, runs, running, eat, ate, eating*</td></tr>\n",
        "<tr><td>X</td><td>other</td><td>*sfpksdpsxmsa*</td></tr>\n",
        "<tr><td>SPACE</td><td>space</td></tr>\n",
        "</table>\n"
      ]
    },
    {
      "cell_type": "markdown",
      "metadata": {
        "id": "M2lgfemc9-8M",
        "colab_type": "text"
      },
      "source": [
        "## Classificação\n",
        "\n",
        "<font size=5>\n",
        "Unindo esse conhecimento, técnicas de extração de features como vetorizadores (CounterVec e TF-IDF) e técnicas de machine learning somos capazes de classificar textos, como o exercício de classificar categorias de produtos!\n",
        "<br><br>\n",
        " \n",
        "Muito se fala sobre análise de sentimentos mas, a priori, não existe muita diferença\\* entre o exercício de classificação de produtos e a classificação de textos entre sentimentos positivos e negativos.\n",
        "<br><br>\n",
        "  \n",
        "\\* A principal diferença a se destacar seria o uso de ironias, sarcasmo e figuras de linguagem quando trabalhamos com análise de sentimentos.\n",
        "<br><br>  \n",
        "\n",
        "</font>\n"
      ]
    },
    {
      "cell_type": "markdown",
      "metadata": {
        "id": "66IXccELsHdf",
        "colab_type": "text"
      },
      "source": [
        "<font size=5>\n",
        "  **Exercício!**<br/>\n",
        " \n",
        "\n",
        "1.   Com base no dataset disponibilizado para download, carrege 10 mil linhas de forma randômica.<br/>\n",
        "2.   Crie um classificador que consiga predizer o sentimeto associado a um texto novo (não pertencente a amostra)<br/>\n",
        "\n",
        "</font>"
      ]
    },
    {
      "cell_type": "markdown",
      "metadata": {
        "id": "SMF40Fw9x7dG",
        "colab_type": "text"
      },
      "source": [
        "# Exemplo de classificador de sentimentos"
      ]
    },
    {
      "cell_type": "code",
      "metadata": {
        "id": "sTsTcFHYLgq7",
        "colab_type": "code",
        "colab": {}
      },
      "source": [
        "#from google.colab import drive\n",
        "#drive.mount('/content/gdrive', force_remount=True)"
      ],
      "execution_count": 0,
      "outputs": []
    },
    {
      "cell_type": "code",
      "metadata": {
        "id": "2UuO4_4Ddodk",
        "colab_type": "code",
        "outputId": "895430bd-17af-4558-a84d-6d041c341e84",
        "colab": {
          "base_uri": "https://localhost:8080/",
          "height": 68
        }
      },
      "source": [
        "import pandas as pd\n",
        "\n",
        "df = pd.read_csv(\n",
        "    'https://s3.amazonaws.com/aulas-fiap/imdb-reviews-pt-br.csv'\n",
        ").sample(10000)\n",
        "\n",
        "df.sentiment.value_counts()"
      ],
      "execution_count": 0,
      "outputs": [
        {
          "output_type": "execute_result",
          "data": {
            "text/plain": [
              "neg    5042\n",
              "pos    4958\n",
              "Name: sentiment, dtype: int64"
            ]
          },
          "metadata": {
            "tags": []
          },
          "execution_count": 34
        }
      ]
    },
    {
      "cell_type": "code",
      "metadata": {
        "id": "lyFHlEO5eDNM",
        "colab_type": "code",
        "outputId": "6004cb0d-d5b2-4c3f-cd01-9ecd73b2d10e",
        "colab": {
          "base_uri": "https://localhost:8080/",
          "height": 288
        }
      },
      "source": [
        "df.head()"
      ],
      "execution_count": 0,
      "outputs": [
        {
          "output_type": "execute_result",
          "data": {
            "text/html": [
              "<div>\n",
              "<style scoped>\n",
              "    .dataframe tbody tr th:only-of-type {\n",
              "        vertical-align: middle;\n",
              "    }\n",
              "\n",
              "    .dataframe tbody tr th {\n",
              "        vertical-align: top;\n",
              "    }\n",
              "\n",
              "    .dataframe thead th {\n",
              "        text-align: right;\n",
              "    }\n",
              "</style>\n",
              "<table border=\"1\" class=\"dataframe\">\n",
              "  <thead>\n",
              "    <tr style=\"text-align: right;\">\n",
              "      <th></th>\n",
              "      <th>id</th>\n",
              "      <th>text_en</th>\n",
              "      <th>text_pt</th>\n",
              "      <th>sentiment</th>\n",
              "    </tr>\n",
              "  </thead>\n",
              "  <tbody>\n",
              "    <tr>\n",
              "      <th>32276</th>\n",
              "      <td>32278</td>\n",
              "      <td>Saw it at the Philadelphia Gay and Lesbian Fil...</td>\n",
              "      <td>Vi no Festival Gay e Lésbico de Filadélfia. O ...</td>\n",
              "      <td>neg</td>\n",
              "    </tr>\n",
              "    <tr>\n",
              "      <th>26566</th>\n",
              "      <td>26568</td>\n",
              "      <td>\"Scary Movie 2\" is a let down to the Scary Mov...</td>\n",
              "      <td>\"Scary Movie 2\" é uma decepção para a franquia...</td>\n",
              "      <td>neg</td>\n",
              "    </tr>\n",
              "    <tr>\n",
              "      <th>26321</th>\n",
              "      <td>26323</td>\n",
              "      <td>The first half of this movie is a pure delight...</td>\n",
              "      <td>A primeira metade deste filme é uma delícia pu...</td>\n",
              "      <td>neg</td>\n",
              "    </tr>\n",
              "    <tr>\n",
              "      <th>18859</th>\n",
              "      <td>18861</td>\n",
              "      <td>Hilarious, clean, light-hearted, and quote-wor...</td>\n",
              "      <td>Hilário, limpo, despreocupado e digno de citaç...</td>\n",
              "      <td>pos</td>\n",
              "    </tr>\n",
              "    <tr>\n",
              "      <th>49357</th>\n",
              "      <td>49359</td>\n",
              "      <td>A serious comedy. Ross Hunter-produced movie v...</td>\n",
              "      <td>Uma comédia séria. A versão cinematográfica pr...</td>\n",
              "      <td>pos</td>\n",
              "    </tr>\n",
              "  </tbody>\n",
              "</table>\n",
              "</div>"
            ],
            "text/plain": [
              "          id  ... sentiment\n",
              "32276  32278  ...       neg\n",
              "26566  26568  ...       neg\n",
              "26321  26323  ...       neg\n",
              "18859  18861  ...       pos\n",
              "49357  49359  ...       pos\n",
              "\n",
              "[5 rows x 4 columns]"
            ]
          },
          "metadata": {
            "tags": []
          },
          "execution_count": 35
        }
      ]
    },
    {
      "cell_type": "code",
      "metadata": {
        "id": "SX2h7R5DfRF8",
        "colab_type": "code",
        "colab": {}
      },
      "source": [
        "from sklearn.feature_extraction.text import CountVectorizer\n",
        "\n",
        "vect = CountVectorizer(ngram_range=(1,1))\n",
        "vect.fit(df.text_pt)\n",
        "text_vect = vect.transform(df.text_pt)"
      ],
      "execution_count": 0,
      "outputs": []
    },
    {
      "cell_type": "code",
      "metadata": {
        "id": "_uD4m1hwfUT8",
        "colab_type": "code",
        "outputId": "24a42854-9cc4-4f61-ebbc-06cd8b65cf7e",
        "colab": {
          "base_uri": "https://localhost:8080/",
          "height": 34
        }
      },
      "source": [
        "text_vect.shape"
      ],
      "execution_count": 0,
      "outputs": [
        {
          "output_type": "execute_result",
          "data": {
            "text/plain": [
              "(10000, 66292)"
            ]
          },
          "metadata": {
            "tags": []
          },
          "execution_count": 37
        }
      ]
    },
    {
      "cell_type": "code",
      "metadata": {
        "id": "3TNcZ49UhkEG",
        "colab_type": "code",
        "colab": {}
      },
      "source": [
        "from sklearn.model_selection import train_test_split\n",
        "\n",
        "X_train,X_test,y_train,y_test = train_test_split(\n",
        "    text_vect, \n",
        "    df.sentiment,\n",
        "    test_size = 0.2, \n",
        "    random_state = 13\n",
        ")"
      ],
      "execution_count": 0,
      "outputs": []
    },
    {
      "cell_type": "code",
      "metadata": {
        "id": "5QsES06CgYH1",
        "colab_type": "code",
        "outputId": "abf241b5-bac9-4fe4-b4b5-a7a78165df56",
        "colab": {
          "base_uri": "https://localhost:8080/",
          "height": 34
        }
      },
      "source": [
        "from sklearn.tree import DecisionTreeClassifier\n",
        "from sklearn.metrics import accuracy_score\n",
        "\n",
        "tree = DecisionTreeClassifier(random_state=13)\n",
        "tree.fit(X_train, y_train)\n",
        "\n",
        "y_prediction = tree.predict(X_test)\n",
        "\n",
        "acc = accuracy_score(y_prediction, y_test)\n",
        "\n",
        "print(acc)"
      ],
      "execution_count": 0,
      "outputs": [
        {
          "output_type": "stream",
          "text": [
            "0.661\n"
          ],
          "name": "stdout"
        }
      ]
    },
    {
      "cell_type": "code",
      "metadata": {
        "id": "k3ipOOdePtPx",
        "colab_type": "code",
        "outputId": "0c04ba14-4e17-4c5c-a7e0-bfa91c1dd524",
        "colab": {
          "base_uri": "https://localhost:8080/",
          "height": 34
        }
      },
      "source": [
        "text = vect.transform([\n",
        "    'Esse filme é muito legal! Mas eu não consegui assistir até o fim.'\n",
        "])\n",
        "tree.predict(text)[0]"
      ],
      "execution_count": 0,
      "outputs": [
        {
          "output_type": "execute_result",
          "data": {
            "text/plain": [
              "'pos'"
            ]
          },
          "metadata": {
            "tags": []
          },
          "execution_count": 41
        }
      ]
    },
    {
      "cell_type": "markdown",
      "metadata": {
        "id": "nu0H9xIukm5c",
        "colab_type": "text"
      },
      "source": [
        "<br>\n",
        "\n",
        "---\n",
        "\n",
        "# Análise Semântica em NLP\n",
        "\n",
        "<br>\n",
        "<font size=5>\n",
        "O próximo passo é realizar uma análise semântica dos dados, onde buscaremos entender o significado de cada palavra e como a mesma interage no texto!\n",
        "</font>\n",
        "</br>\n",
        " \n"
      ]
    },
    {
      "cell_type": "markdown",
      "metadata": {
        "id": "aFvVXfe4V2aO",
        "colab_type": "text"
      },
      "source": [
        "## Word Embeddings\n",
        "\n",
        "<br/>\n",
        "<font size=5>\n",
        "\n",
        "Word Embeddings é um modelo de rede neural para representar dados com um grande número de classes de forma mais eficiente. Os Embeddings melhoram muito a capacidade das redes neurais de aprender com dados desse tipo, representando os dados com vetores de menor dimensão.\n",
        "<br/><br/>\n",
        "  \n",
        "Word Embeddings em particular são interessantes porque as redes são capazes de aprender relações semânticas entre as palavras. Por exemplo, os embeddings saberão que o equivalente masculino de uma rainha é um rei.\n",
        "\n",
        "</font>"
      ]
    },
    {
      "cell_type": "markdown",
      "metadata": {
        "id": "pNogzwGkWORD",
        "colab_type": "text"
      },
      "source": [
        "![alt text](https://d17h27t6h515a5.cloudfront.net/topher/2017/March/58c0aaf4_linear-relationships/linear-relationships.png)"
      ]
    },
    {
      "cell_type": "markdown",
      "metadata": {
        "id": "iYH1WCjaNUE9",
        "colab_type": "text"
      },
      "source": [
        "<br/>\n",
        "<br/>\n",
        "<font size=5>\n",
        "[Exemplo de visualização de um Embedding](https://projector.tensorflow.org/)\n",
        "</font>\n",
        "<br/><br/>\n"
      ]
    },
    {
      "cell_type": "markdown",
      "metadata": {
        "id": "-0kU5nJXW6xb",
        "colab_type": "text"
      },
      "source": [
        "\n",
        "---\n",
        "\n",
        "<font size=5>\n",
        "O Word Embeddings que iremos conhecer é chamado Word2Vec pois ele cria um vetor de tamanho fixo para cada palavra!\n",
        "<br/><br/>\n",
        "Nosso foco não será a implementação do Word2Vec mas sim como ele funciona e sua capacidade de extrair significado das palavras, o que se torna útil para a análise semântica! Os motivos para isso são:\n",
        "<br/><br/>\n",
        "\n",
        "1.   Nossa agenda e a limitação de tempo!<br/>\n",
        "2.   A possibilidade de reaproveitar uma rede treinada (transfer learning), como se faz com CNN como (VGG, RestNet, Inception etc)\n",
        "\n",
        "\n",
        "<br/><br/>\n",
        "Para quem se interessar em saber mais sobre Word Embeddings, abaixo estão duas ótimas referências!\n",
        "<br/><br/>\n",
        "  \n",
        "1.   [Uma visão geral conceitual muito boa do word2vec de Chris McCormick](http://mccormickml.com/2016/04/19/word2vec-tutorial-the-skip-gram-model/)<br/>\n",
        "2.   [Primeiro artigo sobre word2vec de Mikolov et al](https://arxiv.org/pdf/1301.3781.pdf)<br/>\n",
        "3.   [Video de ilustração e implementação em Tensorflow](https://www.youtube.com/watch?v=64qSgA66P-8)<br/>\n",
        "4.  [Modelos de Word Embeddings treinados em pt-br](http://nilc.icmc.usp.br/embeddings)\n",
        "\n",
        "\n",
        "</font>"
      ]
    },
    {
      "cell_type": "markdown",
      "metadata": {
        "id": "NakwRl4zxp4h",
        "colab_type": "text"
      },
      "source": [
        "# Como o Word2Vec funciona?"
      ]
    },
    {
      "cell_type": "code",
      "metadata": {
        "id": "vkxsKTpKw_m4",
        "colab_type": "code",
        "outputId": "06301921-cbf5-414f-9a4d-708b96726607",
        "colab": {
          "base_uri": "https://localhost:8080/",
          "height": 321
        }
      },
      "source": [
        "from IPython.display import YouTubeVideo\n",
        "YouTubeVideo(\"64qSgA66P-8\")"
      ],
      "execution_count": 0,
      "outputs": [
        {
          "output_type": "execute_result",
          "data": {
            "text/html": [
              "\n",
              "        <iframe\n",
              "            width=\"400\"\n",
              "            height=\"300\"\n",
              "            src=\"https://www.youtube.com/embed/64qSgA66P-8\"\n",
              "            frameborder=\"0\"\n",
              "            allowfullscreen\n",
              "        ></iframe>\n",
              "        "
            ],
            "text/plain": [
              "<IPython.lib.display.YouTubeVideo at 0x7f1e41db8dd8>"
            ],
            "image/jpeg": "[encoded data removed]"
          },
          "metadata": {
            "tags": []
          },
          "execution_count": 14
        }
      ]
    },
    {
      "cell_type": "markdown",
      "metadata": {
        "id": "aEMVEgmx_1f1",
        "colab_type": "text"
      },
      "source": [
        "## CBOW e Skip-gram\n",
        "\n",
        "<font size=5>\n",
        "Dependendo do tipo de tarefa que se deseja realizar, a arquitetura da rede neural para criar o Embedding pode mudar, havendo 2 tipos principais:\n",
        "</font>\n",
        "<br/>\n",
        "<br/>\n",
        "<font size=5>\n",
        "**CBOW**: A ideia do algoritmo Continuous bag of words é prever qual a palavra que estamos buscando a partir de um determinado contexto. Para isto a entrada da rede é um vetor one-hot encoded que represente as palavras do contexto e a sua saída é a palavra que estamos buscando.\n",
        "</font>\n",
        "<br/>\n",
        "<br/>\n",
        "\n",
        "<font size=5>\n",
        "**Skip-gram**: A abordagem do Skip-gram é a inversa, tomando como ponto de partida uma determinada palavra, o objetivo é prever o contexto do qual esta palavra veio. Para isto a entrada da rede é um vetor one-hot encoded que represente a palavra que estamos buscando e a sua saída, as palavras do contexto.\n",
        "</font>\n",
        "\n",
        "![alt text](https://skymind.ai/images/wiki/word2vec_diagrams.png)"
      ]
    },
    {
      "cell_type": "markdown",
      "metadata": {
        "id": "nevTZleZyKLG",
        "colab_type": "text"
      },
      "source": [
        "# Word2Vec com Spacy\n",
        "\n",
        "<font size=5>\n",
        "  Vamos baixar o modelo em inglês do SpaCy pois apenas nele temos o Word2Vec criado. Infelizmente o modelo em português disponível não inclui o Word2Vec.\n",
        "<br/><br/>\n",
        "Vamos trabalhar com um modelo em português a frente.\n",
        "</font>"
      ]
    },
    {
      "cell_type": "code",
      "metadata": {
        "id": "KkQOcxGwk9l6",
        "colab_type": "code",
        "outputId": "f0f99729-d57c-4e6a-8518-b18122b79da2",
        "colab": {
          "base_uri": "https://localhost:8080/",
          "height": 88
        }
      },
      "source": [
        "!python -m spacy download en_core_web_lg"
      ],
      "execution_count": 0,
      "outputs": [
        {
          "output_type": "stream",
          "text": [
            "Requirement already satisfied: en_core_web_lg==2.1.0 from https://github.com/explosion/spacy-models/releases/download/en_core_web_lg-2.1.0/en_core_web_lg-2.1.0.tar.gz#egg=en_core_web_lg==2.1.0 in /usr/local/lib/python3.6/dist-packages (2.1.0)\n",
            "\u001b[38;5;2m✔ Download and installation successful\u001b[0m\n",
            "You can now load the model via spacy.load('en_core_web_lg')\n"
          ],
          "name": "stdout"
        }
      ]
    },
    {
      "cell_type": "markdown",
      "metadata": {
        "id": "cuv30dwr6Op_",
        "colab_type": "text"
      },
      "source": [
        "<font size=5>\n",
        "A forma mais simples de explorar a similaridade de palavras atravez do Word2Vec é usando o método `.similarity`.\n",
        "</font>\n"
      ]
    },
    {
      "cell_type": "code",
      "metadata": {
        "id": "ie33zYXasGxb",
        "colab_type": "code",
        "outputId": "163d5dde-dea6-415b-cd85-51b27b0ac96a",
        "colab": {
          "base_uri": "https://localhost:8080/",
          "height": 171
        }
      },
      "source": [
        "import spacy\n",
        "import en_core_web_lg\n",
        "\n",
        "en = en_core_web_lg.load()\n",
        "\n",
        "tokens = en(u'lion cat dog')\n",
        "\n",
        "for token1 in tokens:\n",
        "    for token2 in tokens:\n",
        "        print(token1.text, token2.text, token1.similarity(token2))\n",
        "\n"
      ],
      "execution_count": 0,
      "outputs": [
        {
          "output_type": "stream",
          "text": [
            "lion lion 1.0\n",
            "lion cat 0.5265438\n",
            "lion dog 0.47424486\n",
            "cat lion 0.5265438\n",
            "cat cat 1.0\n",
            "cat dog 0.80168545\n",
            "dog lion 0.47424486\n",
            "dog cat 0.80168545\n",
            "dog dog 1.0\n"
          ],
          "name": "stdout"
        }
      ]
    },
    {
      "cell_type": "markdown",
      "metadata": {
        "id": "6FjfoH_B9sVJ",
        "colab_type": "text"
      },
      "source": [
        "<font size=5>\n",
        "Dado que cada palavra tem seu vetor de representação que leva em consideração o contexto em que a mesma esta inserida, é possível calcular o cosseno de similaridade!\n",
        "</font>\n",
        "\n",
        "![alt text](https://www.oreilly.com/library/view/statistics-for-machine/9781788295758/assets/2b4a7a82-ad4c-4b2a-b808-e423a334de6f.png)"
      ]
    },
    {
      "cell_type": "code",
      "metadata": {
        "id": "pFYAx078_LIy",
        "colab_type": "code",
        "outputId": "450ca8d9-d8e1-41c2-f4ab-a0c7ff08d49f",
        "colab": {
          "base_uri": "https://localhost:8080/",
          "height": 1000
        }
      },
      "source": [
        "\n",
        "king = en.vocab['king'].vector\n",
        "man = en.vocab['man'].vector\n",
        "woman = en.vocab['woman'].vector\n",
        "\n",
        "new_vector = king - man + woman\n",
        "\n",
        "new_vector"
      ],
      "execution_count": 0,
      "outputs": [
        {
          "output_type": "execute_result",
          "data": {
            "text/plain": [
              "array([ 5.14087021e-01, -2.78459996e-01,  2.42767006e-01,  4.54899669e-02,\n",
              "       -2.59425014e-01, -3.19999963e-01,  3.23920012e-01, -6.71030045e-01,\n",
              "       -9.98499990e-02,  1.91499996e+00, -5.68080008e-01, -2.74451017e-01,\n",
              "       -1.49906695e-01,  8.01083148e-02, -2.34764010e-01, -1.10950008e-01,\n",
              "       -1.02593988e-01,  8.53819966e-01, -2.68564999e-01,  3.85140002e-01,\n",
              "       -1.36149988e-01,  6.35029972e-01, -7.62044966e-01, -2.52770007e-01,\n",
              "       -6.75969958e-01,  3.89851004e-01, -2.89680034e-01,  1.75860003e-01,\n",
              "       -5.16229987e-01,  5.21373034e-01, -1.89909995e-01,  6.73759937e-01,\n",
              "        1.17550008e-01, -4.69896019e-01,  5.88999987e-01,  1.29447982e-01,\n",
              "       -5.71900010e-01, -5.47450066e-01, -4.84210014e-01,  5.85503951e-02,\n",
              "        4.82379973e-01, -2.86769986e-01, -2.01718003e-01, -4.74729985e-01,\n",
              "        3.43068987e-01, -2.28827983e-01, -1.76439017e-01,  6.05450034e-01,\n",
              "        2.07139999e-01, -2.89762974e-01, -7.63288975e-01,  4.37090009e-01,\n",
              "       -2.06220001e-01, -4.20252979e-01,  1.98040009e-01,  3.18709970e-01,\n",
              "       -9.51815993e-02, -3.23054016e-01, -6.02343976e-01,  2.33427018e-01,\n",
              "       -2.15409994e-02, -6.29774988e-01,  3.72432500e-01,  3.41740012e-01,\n",
              "        5.81782043e-01,  7.02129960e-01,  7.19299972e-01,  3.28493983e-01,\n",
              "        3.36353004e-01,  1.06999278e-03, -5.53239942e-01, -2.46219993e-01,\n",
              "       -6.37116969e-01, -1.72280014e-01,  8.97620022e-01, -1.38548493e-01,\n",
              "       -5.71600199e-02,  6.41870022e-01,  3.89845997e-01, -3.98499995e-01,\n",
              "       -7.28532076e-01,  9.17530134e-02, -3.40600014e-01,  3.46671015e-01,\n",
              "       -2.63424516e-01,  3.68355006e-01,  8.78340006e-01, -1.57473043e-01,\n",
              "       -4.29450005e-01, -4.91259992e-01, -1.23234093e-02,  3.27509999e-01,\n",
              "        1.44889995e-01, -3.27081025e-01,  9.45929945e-01, -8.07909966e-01,\n",
              "       -2.07101002e-01, -8.87000561e-03, -5.59080057e-02,  7.93069959e-01,\n",
              "        3.58245999e-01,  6.05069995e-01,  1.01848006e-01, -1.89061001e-01,\n",
              "        1.09030008e-02, -7.64109969e-01, -5.05369961e-01, -1.11367017e-01,\n",
              "        6.56607985e-01, -1.48448005e-01,  1.30866021e-01,  6.62039995e-01,\n",
              "       -1.54300034e-02, -4.17466015e-01, -4.54553008e-01, -5.05975008e-01,\n",
              "        4.15473014e-01,  4.00425017e-01,  7.88707018e-01, -5.19399941e-02,\n",
              "       -3.91889989e-01,  8.31609964e-02,  4.58730012e-01,  1.23339996e-01,\n",
              "        2.39246994e-01,  3.81098986e-01,  1.86000004e-01,  2.69684941e-02,\n",
              "       -5.55605292e-01,  2.53284007e-01, -6.67639971e-01, -5.55985987e-01,\n",
              "       -3.71130019e-01, -6.53919995e-01, -1.09452009e-01, -6.04629993e-01,\n",
              "       -4.62760001e-01,  3.97581995e-01, -3.26649994e-01,  2.60998994e-01,\n",
              "       -2.09120011e+00, -2.76019007e-01,  2.68036008e-01, -3.35714996e-01,\n",
              "       -4.75513011e-01, -2.83890069e-02,  4.40270007e-01,  2.24150002e-01,\n",
              "       -4.50639009e-01, -6.16590083e-01,  1.10599995e-01, -3.00589710e-01,\n",
              "        1.24530017e-01,  2.99279988e-01,  3.03467005e-01, -3.42969984e-01,\n",
              "        3.93694013e-01, -5.84149957e-01, -1.88180000e-01,  2.98162013e-01,\n",
              "       -1.80879980e-01, -3.70599926e-02,  4.09860015e-02, -8.07899833e-02,\n",
              "        3.92280012e-01, -4.94572997e-01,  4.01719987e-01,  8.48469973e-01,\n",
              "       -1.94183022e-01,  4.29439992e-01, -6.07819974e-01, -9.71959978e-02,\n",
              "        3.55786979e-01, -1.79980025e-02, -5.83269954e-01, -2.50129998e-01,\n",
              "        2.80330002e-01, -3.72725993e-01, -7.41009951e-01,  1.03881419e-01,\n",
              "        8.04000199e-02, -1.64650023e-01,  1.09247290e-01, -5.68639994e-01,\n",
              "        4.11399961e-01,  5.69249988e-01, -2.14549989e-01, -1.56975001e-01,\n",
              "        9.64879990e-02,  2.01149940e-01, -9.81989980e-01, -9.00639057e-01,\n",
              "        1.57496989e-01, -1.24968991e-01,  9.11729932e-02, -5.17108977e-01,\n",
              "        6.34269863e-02,  1.72169998e-01, -2.36945987e-01, -7.58899987e-01,\n",
              "        5.74868977e-01,  6.10739946e-01,  8.88329893e-02, -2.59585023e-01,\n",
              "       -9.03399587e-02, -8.53200257e-02,  1.69609979e-01, -7.29799643e-03,\n",
              "       -2.05680996e-01, -1.93440005e-01, -4.92264986e-01,  3.19920003e-01,\n",
              "       -3.66147995e-01,  5.69279015e-01,  6.27799928e-02,  7.91899860e-02,\n",
              "       -3.93792808e-01,  4.87831026e-01, -3.85988951e-02,  7.52799988e-01,\n",
              "        1.74212992e-01, -6.07100964e-01,  4.81240004e-01,  1.49755001e-01,\n",
              "        4.32273030e-01,  2.77104974e-01,  4.56589013e-01, -3.32702011e-01,\n",
              "       -2.80999988e-01,  6.35839045e-01,  1.15425006e-01,  7.80760050e-02,\n",
              "        3.17489982e-01, -4.80073988e-01,  4.07790095e-02, -8.21070611e-01,\n",
              "       -1.63500011e-03, -3.97460014e-01, -9.85880196e-02, -5.31642020e-01,\n",
              "       -4.52499986e-02, -4.23010021e-01,  1.44284993e-01, -7.62080014e-01,\n",
              "        2.15179995e-01, -7.05516994e-01,  6.44015014e-01, -9.44310054e-02,\n",
              "       -5.36169946e-01, -1.31442308e+00,  4.51058030e-01,  1.44240022e-01,\n",
              "        3.84460092e-02, -1.80320218e-02, -2.95219988e-01,  4.90060002e-01,\n",
              "        3.83020639e-02, -1.70519948e-02, -7.32708037e-01,  5.04490495e-01,\n",
              "        1.77098006e-01,  5.36670089e-02, -2.40814000e-01, -8.20799917e-02,\n",
              "        2.19249994e-01, -4.58490014e-01,  3.68449986e-01,  3.09300005e-01,\n",
              "       -1.21967995e+00, -2.55998999e-01, -8.38758051e-01, -1.99926004e-01,\n",
              "       -3.38140011e-01, -8.05199146e-03,  1.42598450e-02, -3.56069952e-01,\n",
              "        8.31499994e-02,  2.89311975e-01,  5.29001653e-03, -1.11837029e-01,\n",
              "        1.28127396e+00,  8.09929967e-01,  5.58990002e-01, -2.18623012e-01,\n",
              "       -1.70580015e-01,  7.43115008e-01, -1.40369982e-01,  2.97093987e-01,\n",
              "       -3.28552961e-01, -3.10106993e-01,  1.80748999e-01,  3.05629998e-01,\n",
              "        2.17199922e-02, -4.68929976e-01, -1.95840016e-01,  6.82327509e-01,\n",
              "       -2.89168000e-01, -7.09619969e-02,  8.64340067e-01, -3.79067004e-01],\n",
              "      dtype=float32)"
            ]
          },
          "metadata": {
            "tags": []
          },
          "execution_count": 44
        }
      ]
    },
    {
      "cell_type": "code",
      "metadata": {
        "id": "qXCaxsl98cMO",
        "colab_type": "code",
        "outputId": "e675966c-28b0-4f14-8222-7877d0dcbf44",
        "colab": {
          "base_uri": "https://localhost:8080/",
          "height": 188
        }
      },
      "source": [
        "from scipy import spatial\n",
        "\n",
        "cosine_similarity = lambda x, y: 1 - spatial.distance.cosine(x, y)\n",
        "\n",
        "king = en.vocab['king'].vector\n",
        "man = en.vocab['man'].vector\n",
        "woman = en.vocab['woman'].vector\n",
        "\n",
        "new_vector = king - man + woman\n",
        "computed_similarities = []\n",
        "\n",
        "for word in en.vocab:\n",
        "    if word.has_vector:\n",
        "        if word.is_lower:\n",
        "            if word.is_alpha:\n",
        "                similarity = cosine_similarity(new_vector, word.vector)\n",
        "                computed_similarities.append((word.text, similarity))\n",
        "\n",
        "computed_similarities = sorted(computed_similarities, key=lambda item: -item[1])\n",
        "\n",
        "computed_similarities[:10]"
      ],
      "execution_count": 0,
      "outputs": [
        {
          "output_type": "execute_result",
          "data": {
            "text/plain": [
              "[('king', 0.8024259805679321),\n",
              " ('queen', 0.7880843877792358),\n",
              " ('prince', 0.6401076912879944),\n",
              " ('kings', 0.6208544373512268),\n",
              " ('princess', 0.6125636100769043),\n",
              " ('royal', 0.5800970792770386),\n",
              " ('throne', 0.5787012577056885),\n",
              " ('queens', 0.5743793845176697),\n",
              " ('monarch', 0.563362181186676),\n",
              " ('kingdom', 0.5520980954170227)]"
            ]
          },
          "metadata": {
            "tags": []
          },
          "execution_count": 45
        }
      ]
    },
    {
      "cell_type": "markdown",
      "metadata": {
        "id": "LJwWiTnsP_ff",
        "colab_type": "text"
      },
      "source": [
        "# Word2Vec com Gensim\n",
        "\n",
        "<br/><br/>\n",
        "<font size=5>\n",
        "Gensim é mais uma das libs disponíveis em Python para tarefas de NLP! Ao contrários das outras opções, essa é uma ferramenta mais especializada em tarefas de modelagem de tópicos e análise de similaridade!\n",
        "<br/><br/>\n",
        "Sua instalação é muito simples!\n",
        "<br/><br/>\n",
        "\n",
        "```\n",
        "$ pip install gensim==2.0.0\n",
        "```\n",
        "</font>\n",
        "<br/>\n"
      ]
    },
    {
      "cell_type": "code",
      "metadata": {
        "id": "p4GMz9QDJkr9",
        "colab_type": "code",
        "outputId": "0b4090d4-7d40-45a4-f22b-e03c01ca7461",
        "colab": {
          "base_uri": "https://localhost:8080/",
          "height": 328
        }
      },
      "source": [
        "!pip install gensim==2.0.0"
      ],
      "execution_count": 0,
      "outputs": [
        {
          "output_type": "stream",
          "text": [
            "Requirement already satisfied: gensim==2.0.0 in /usr/local/lib/python3.6/dist-packages (2.0.0)\n",
            "Requirement already satisfied: numpy>=1.3 in /usr/local/lib/python3.6/dist-packages (from gensim==2.0.0) (1.16.5)\n",
            "Requirement already satisfied: smart-open>=1.2.1 in /usr/local/lib/python3.6/dist-packages (from gensim==2.0.0) (1.8.4)\n",
            "Requirement already satisfied: six>=1.5.0 in /usr/local/lib/python3.6/dist-packages (from gensim==2.0.0) (1.12.0)\n",
            "Requirement already satisfied: scipy>=0.7.0 in /usr/local/lib/python3.6/dist-packages (from gensim==2.0.0) (1.2.0)\n",
            "Requirement already satisfied: boto3 in /usr/local/lib/python3.6/dist-packages (from smart-open>=1.2.1->gensim==2.0.0) (1.9.236)\n",
            "Requirement already satisfied: boto>=2.32 in /usr/local/lib/python3.6/dist-packages (from smart-open>=1.2.1->gensim==2.0.0) (2.49.0)\n",
            "Requirement already satisfied: requests in /usr/local/lib/python3.6/dist-packages (from smart-open>=1.2.1->gensim==2.0.0) (2.21.0)\n",
            "Requirement already satisfied: botocore<1.13.0,>=1.12.236 in /usr/local/lib/python3.6/dist-packages (from boto3->smart-open>=1.2.1->gensim==2.0.0) (1.12.236)\n",
            "Requirement already satisfied: jmespath<1.0.0,>=0.7.1 in /usr/local/lib/python3.6/dist-packages (from boto3->smart-open>=1.2.1->gensim==2.0.0) (0.9.4)\n",
            "Requirement already satisfied: s3transfer<0.3.0,>=0.2.0 in /usr/local/lib/python3.6/dist-packages (from boto3->smart-open>=1.2.1->gensim==2.0.0) (0.2.1)\n",
            "Requirement already satisfied: urllib3<1.25,>=1.21.1 in /usr/local/lib/python3.6/dist-packages (from requests->smart-open>=1.2.1->gensim==2.0.0) (1.24.3)\n",
            "Requirement already satisfied: idna<2.9,>=2.5 in /usr/local/lib/python3.6/dist-packages (from requests->smart-open>=1.2.1->gensim==2.0.0) (2.8)\n",
            "Requirement already satisfied: certifi>=2017.4.17 in /usr/local/lib/python3.6/dist-packages (from requests->smart-open>=1.2.1->gensim==2.0.0) (2019.9.11)\n",
            "Requirement already satisfied: chardet<3.1.0,>=3.0.2 in /usr/local/lib/python3.6/dist-packages (from requests->smart-open>=1.2.1->gensim==2.0.0) (3.0.4)\n",
            "Requirement already satisfied: python-dateutil<3.0.0,>=2.1; python_version >= \"2.7\" in /usr/local/lib/python3.6/dist-packages (from botocore<1.13.0,>=1.12.236->boto3->smart-open>=1.2.1->gensim==2.0.0) (2.5.3)\n",
            "Requirement already satisfied: docutils<0.16,>=0.10 in /usr/local/lib/python3.6/dist-packages (from botocore<1.13.0,>=1.12.236->boto3->smart-open>=1.2.1->gensim==2.0.0) (0.15.2)\n"
          ],
          "name": "stdout"
        }
      ]
    },
    {
      "cell_type": "markdown",
      "metadata": {
        "id": "veCp98AESEvb",
        "colab_type": "text"
      },
      "source": [
        "<font size=5>\n",
        "O código abaixo vai baixar o modelo treinado Word2Vec com 300 posições em português e descompactar o mesmo no GDrive! Este arquivo, zipado, tem mais de 800 mega!\n",
        "</font>"
      ]
    },
    {
      "cell_type": "code",
      "metadata": {
        "id": "_gX2-9upSapN",
        "colab_type": "code",
        "colab": {}
      },
      "source": [
        "from google.colab import drive\n",
        "drive.mount('/content/gdrive', force_remount=True)"
      ],
      "execution_count": 0,
      "outputs": []
    },
    {
      "cell_type": "code",
      "metadata": {
        "id": "VJtQFwLbGiaK",
        "colab_type": "code",
        "colab": {}
      },
      "source": [
        "from urllib.request import urlretrieve\n",
        "from os.path import isfile, isdir\n",
        "from tqdm import tqdm\n",
        "import zipfile\n",
        "\n",
        "tar_gz_path = '/content/gdrive/My Drive/FIAP/NLP/cbow_s300.zip'\n",
        "\n",
        "class DLProgress(tqdm):\n",
        "  last_block = 0\n",
        "\n",
        "  def hook(self, block_num=1, block_size=1, total_size=None):\n",
        "    self.total = total_size\n",
        "    self.update((block_num - self.last_block) * block_size)\n",
        "    self.last_block = block_num\n",
        "\n",
        "if not isfile(tar_gz_path):\n",
        "  with DLProgress(unit='B', unit_scale=True, miniters=1, desc='Word2Vec Model') as pbar:\n",
        "    urlretrieve(\n",
        "      'http://143.107.183.175:22980/download.php?file=embeddings/word2vec/cbow_s300.zip',\n",
        "      tar_gz_path,\n",
        "      pbar.hook)\n",
        "\n",
        "if not isfile('/content/gdrive/My Drive/FIAP/NLP/cbow_s300.txt'):     \n",
        "  zip_ref = zipfile.ZipFile(tar_gz_path, 'r')\n",
        "  zip_ref.extractall('/content/gdrive/My Drive/FIAP/NLP/')\n",
        "  zip_ref.close()"
      ],
      "execution_count": 0,
      "outputs": []
    },
    {
      "cell_type": "markdown",
      "metadata": {
        "id": "FlclueZCTFtf",
        "colab_type": "text"
      },
      "source": [
        "<font size=5>\n",
        "Com o modelo disponível, podemos carrega-lo com a ajuda da classe `KeyedVectors` do Gensim e com esse modelo podemos fazer operações de análise semântica em português!\n",
        "</font>"
      ]
    },
    {
      "cell_type": "code",
      "metadata": {
        "id": "M5vgndQhJtxA",
        "colab_type": "code",
        "outputId": "00142c2b-ecba-473c-8aa3-71f36d544c56",
        "colab": {
          "base_uri": "https://localhost:8080/",
          "height": 71
        }
      },
      "source": [
        "!pip install scipy==1.2.0"
      ],
      "execution_count": 0,
      "outputs": [
        {
          "output_type": "stream",
          "text": [
            "Requirement already satisfied: scipy==1.2.0 in /usr/local/lib/python3.6/dist-packages (1.2.0)\n",
            "Requirement already satisfied: numpy>=1.8.2 in /usr/local/lib/python3.6/dist-packages (from scipy==1.2.0) (1.16.5)\n"
          ],
          "name": "stdout"
        }
      ]
    },
    {
      "cell_type": "code",
      "metadata": {
        "id": "Ltsi4F5UKqG_",
        "colab_type": "code",
        "outputId": "1602edd6-da3f-48ab-984b-0c900bda6395",
        "colab": {
          "base_uri": "https://localhost:8080/",
          "height": 374
        }
      },
      "source": [
        "from gensim.models import KeyedVectors\n",
        "\n",
        "model = KeyedVectors.load_word2vec_format('/content/gdrive/My Drive/FIAP/NLP/cbow_s300.txt')"
      ],
      "execution_count": 0,
      "outputs": [
        {
          "output_type": "stream",
          "text": [
            "/usr/local/lib/python3.6/dist-packages/smart_open/smart_open_lib.py:398: UserWarning: This function is deprecated, use smart_open.open instead. See the migration notes for details: https://github.com/RaRe-Technologies/smart_open/blob/master/README.rst#migrating-to-the-new-open-function\n",
            "  'See the migration notes for details: %s' % _MIGRATION_NOTES_URL\n"
          ],
          "name": "stderr"
        },
        {
          "output_type": "error",
          "ename": "KeyboardInterrupt",
          "evalue": "ignored",
          "traceback": [
            "\u001b[0;31m---------------------------------------------------------------------------\u001b[0m",
            "\u001b[0;31mKeyboardInterrupt\u001b[0m                         Traceback (most recent call last)",
            "\u001b[0;32m<ipython-input-54-2d996dbb25b4>\u001b[0m in \u001b[0;36m<module>\u001b[0;34m()\u001b[0m\n\u001b[1;32m      1\u001b[0m \u001b[0;32mfrom\u001b[0m \u001b[0mgensim\u001b[0m\u001b[0;34m.\u001b[0m\u001b[0mmodels\u001b[0m \u001b[0;32mimport\u001b[0m \u001b[0mKeyedVectors\u001b[0m\u001b[0;34m\u001b[0m\u001b[0;34m\u001b[0m\u001b[0m\n\u001b[1;32m      2\u001b[0m \u001b[0;34m\u001b[0m\u001b[0m\n\u001b[0;32m----> 3\u001b[0;31m \u001b[0mmodel\u001b[0m \u001b[0;34m=\u001b[0m \u001b[0mKeyedVectors\u001b[0m\u001b[0;34m.\u001b[0m\u001b[0mload_word2vec_format\u001b[0m\u001b[0;34m(\u001b[0m\u001b[0;34m'/content/gdrive/My Drive/FIAP/NLP/cbow_s300.txt'\u001b[0m\u001b[0;34m)\u001b[0m\u001b[0;34m\u001b[0m\u001b[0;34m\u001b[0m\u001b[0m\n\u001b[0m",
            "\u001b[0;32m/usr/local/lib/python3.6/dist-packages/gensim/models/keyedvectors.py\u001b[0m in \u001b[0;36mload_word2vec_format\u001b[0;34m(cls, fname, fvocab, binary, encoding, unicode_errors, limit, datatype)\u001b[0m\n\u001b[1;32m    241\u001b[0m                     \u001b[0;32mif\u001b[0m \u001b[0mlen\u001b[0m\u001b[0;34m(\u001b[0m\u001b[0mparts\u001b[0m\u001b[0;34m)\u001b[0m \u001b[0;34m!=\u001b[0m \u001b[0mvector_size\u001b[0m \u001b[0;34m+\u001b[0m \u001b[0;36m1\u001b[0m\u001b[0;34m:\u001b[0m\u001b[0;34m\u001b[0m\u001b[0;34m\u001b[0m\u001b[0m\n\u001b[1;32m    242\u001b[0m                         \u001b[0;32mraise\u001b[0m \u001b[0mValueError\u001b[0m\u001b[0;34m(\u001b[0m\u001b[0;34m\"invalid vector on line %s (is this really the text format?)\"\u001b[0m \u001b[0;34m%\u001b[0m \u001b[0;34m(\u001b[0m\u001b[0mline_no\u001b[0m\u001b[0;34m)\u001b[0m\u001b[0;34m)\u001b[0m\u001b[0;34m\u001b[0m\u001b[0;34m\u001b[0m\u001b[0m\n\u001b[0;32m--> 243\u001b[0;31m                     \u001b[0mword\u001b[0m\u001b[0;34m,\u001b[0m \u001b[0mweights\u001b[0m \u001b[0;34m=\u001b[0m \u001b[0mparts\u001b[0m\u001b[0;34m[\u001b[0m\u001b[0;36m0\u001b[0m\u001b[0;34m]\u001b[0m\u001b[0;34m,\u001b[0m \u001b[0mlist\u001b[0m\u001b[0;34m(\u001b[0m\u001b[0mmap\u001b[0m\u001b[0;34m(\u001b[0m\u001b[0mREAL\u001b[0m\u001b[0;34m,\u001b[0m \u001b[0mparts\u001b[0m\u001b[0;34m[\u001b[0m\u001b[0;36m1\u001b[0m\u001b[0;34m:\u001b[0m\u001b[0;34m]\u001b[0m\u001b[0;34m)\u001b[0m\u001b[0;34m)\u001b[0m\u001b[0;34m\u001b[0m\u001b[0;34m\u001b[0m\u001b[0m\n\u001b[0m\u001b[1;32m    244\u001b[0m                     \u001b[0madd_word\u001b[0m\u001b[0;34m(\u001b[0m\u001b[0mword\u001b[0m\u001b[0;34m,\u001b[0m \u001b[0mweights\u001b[0m\u001b[0;34m)\u001b[0m\u001b[0;34m\u001b[0m\u001b[0;34m\u001b[0m\u001b[0m\n\u001b[1;32m    245\u001b[0m         \u001b[0;32mif\u001b[0m \u001b[0mresult\u001b[0m\u001b[0;34m.\u001b[0m\u001b[0msyn0\u001b[0m\u001b[0;34m.\u001b[0m\u001b[0mshape\u001b[0m\u001b[0;34m[\u001b[0m\u001b[0;36m0\u001b[0m\u001b[0;34m]\u001b[0m \u001b[0;34m!=\u001b[0m \u001b[0mlen\u001b[0m\u001b[0;34m(\u001b[0m\u001b[0mresult\u001b[0m\u001b[0;34m.\u001b[0m\u001b[0mvocab\u001b[0m\u001b[0;34m)\u001b[0m\u001b[0;34m:\u001b[0m\u001b[0;34m\u001b[0m\u001b[0;34m\u001b[0m\u001b[0m\n",
            "\u001b[0;31mKeyboardInterrupt\u001b[0m: "
          ]
        }
      ]
    },
    {
      "cell_type": "code",
      "metadata": {
        "id": "BkRcnpG_yNpx",
        "colab_type": "code",
        "colab": {}
      },
      "source": [
        ""
      ],
      "execution_count": 0,
      "outputs": []
    },
    {
      "cell_type": "code",
      "metadata": {
        "id": "5F78yCaNK3A1",
        "colab_type": "code",
        "outputId": "dc1512a0-0e20-4aad-cea8-8efd0a9bdfdc",
        "colab": {
          "base_uri": "https://localhost:8080/",
          "height": 199
        }
      },
      "source": [
        "model.most_similar_cosmul(positive=['mulher', 'rei'], negative=['homem'])"
      ],
      "execution_count": 0,
      "outputs": [
        {
          "output_type": "execute_result",
          "data": {
            "text/plain": [
              "[('meia-irmã', 0.9702042937278748),\n",
              " ('esposa', 0.9664881229400635),\n",
              " ('rainha', 0.9587218165397644),\n",
              " ('princesa', 0.9533654451370239),\n",
              " ('sobrinha', 0.9444013833999634),\n",
              " ('filha', 0.925252377986908),\n",
              " ('irmã', 0.9192135334014893),\n",
              " ('neta', 0.9184019565582275),\n",
              " ('rainha-consorte', 0.9000979661941528),\n",
              " ('dama-de-companhia', 0.8932625651359558)]"
            ]
          },
          "metadata": {
            "tags": []
          },
          "execution_count": 3
        }
      ]
    },
    {
      "cell_type": "code",
      "metadata": {
        "id": "7lpkDnwaLKoj",
        "colab_type": "code",
        "outputId": "8984f365-5f18-4e77-82e8-72fd43970d2e",
        "colab": {
          "base_uri": "https://localhost:8080/",
          "height": 199
        }
      },
      "source": [
        "model.similar_by_word(\"gato\")"
      ],
      "execution_count": 0,
      "outputs": [
        {
          "output_type": "execute_result",
          "data": {
            "text/plain": [
              "[('macaco', 0.628487229347229),\n",
              " ('cão', 0.6018786430358887),\n",
              " ('faisão', 0.5715247392654419),\n",
              " ('cachorro', 0.5658016800880432),\n",
              " ('gorila', 0.5559589266777039),\n",
              " ('pássaro', 0.5516070127487183),\n",
              " ('papagaio', 0.5474005937576294),\n",
              " ('veado', 0.5390703082084656),\n",
              " ('rato', 0.5356382131576538),\n",
              " ('leopardo', 0.5349422693252563)]"
            ]
          },
          "metadata": {
            "tags": []
          },
          "execution_count": 4
        }
      ]
    },
    {
      "cell_type": "code",
      "metadata": {
        "id": "U4BUkwmRNgOK",
        "colab_type": "code",
        "outputId": "a06640e2-1bae-46d4-845b-d14430d43436",
        "colab": {
          "base_uri": "https://localhost:8080/",
          "height": 92
        }
      },
      "source": [
        "model.doesnt_match(\"cachorro gato passarinho almoço\".split())"
      ],
      "execution_count": 0,
      "outputs": [
        {
          "output_type": "stream",
          "text": [
            "/usr/local/lib/python3.6/dist-packages/gensim/models/keyedvectors.py:546: FutureWarning: arrays to stack must be passed as a \"sequence\" type such as list or tuple. Support for non-sequence iterables such as generators is deprecated as of NumPy 1.16 and will raise an error in the future.\n",
            "  vectors = vstack(self.word_vec(word, use_norm=True) for word in used_words).astype(REAL)\n"
          ],
          "name": "stderr"
        },
        {
          "output_type": "execute_result",
          "data": {
            "text/plain": [
              "'almoço'"
            ]
          },
          "metadata": {
            "tags": []
          },
          "execution_count": 5
        }
      ]
    },
    {
      "cell_type": "code",
      "metadata": {
        "id": "pW8T5F2hNuEZ",
        "colab_type": "code",
        "outputId": "260d416a-921e-4c47-ee0d-f532559473a7",
        "colab": {
          "base_uri": "https://localhost:8080/",
          "height": 35
        }
      },
      "source": [
        "model.wmdistance(\n",
        "    'Barack Obama falou na ONU', \n",
        "    'Batatinha quando nasce'\n",
        ")"
      ],
      "execution_count": 0,
      "outputs": [
        {
          "output_type": "execute_result",
          "data": {
            "text/plain": [
              "2.0862423665753016"
            ]
          },
          "metadata": {
            "tags": []
          },
          "execution_count": 6
        }
      ]
    },
    {
      "cell_type": "code",
      "metadata": {
        "id": "Y3NWI_zaU_dx",
        "colab_type": "code",
        "outputId": "9ca340ab-e119-4942-f635-f656653f2b51",
        "colab": {
          "base_uri": "https://localhost:8080/",
          "height": 35
        }
      },
      "source": [
        "model.wmdistance('falou', 'taguarelou')"
      ],
      "execution_count": 0,
      "outputs": [
        {
          "output_type": "execute_result",
          "data": {
            "text/plain": [
              "1.4045971977272034"
            ]
          },
          "metadata": {
            "tags": []
          },
          "execution_count": 7
        }
      ]
    },
    {
      "cell_type": "code",
      "metadata": {
        "id": "l7rKe35PVSCy",
        "colab_type": "code",
        "outputId": "95a6aca0-d43b-4783-a004-cac09a6e0efd",
        "colab": {
          "base_uri": "https://localhost:8080/",
          "height": 35
        }
      },
      "source": [
        "model.wmdistance('Batatinha quando nasce', 'Pirulito que bate bate')"
      ],
      "execution_count": 0,
      "outputs": [
        {
          "output_type": "execute_result",
          "data": {
            "text/plain": [
              "2.035354679146827"
            ]
          },
          "metadata": {
            "tags": []
          },
          "execution_count": 8
        }
      ]
    },
    {
      "cell_type": "markdown",
      "metadata": {
        "id": "rw038NegYaxz",
        "colab_type": "text"
      },
      "source": [
        "# Exercícios!\n",
        "\n",
        "1.   Crie uma função que substitua uma ou mais palavras de um texto um uma palavra similar com base na sua classe gramatical.\n",
        "2.   Extenda essa função para considerar uma substituição positiva ou negativa.\n",
        "3.   Dadas duas palavras, encontre opções mais parecidas com a primeira palavra do que a segunda palavra. Ex: \"gato\" e \"cachorro\" como entradas e esperamos saídas como \"cachorro\", \"cão\", etc."
      ]
    },
    {
      "cell_type": "markdown",
      "metadata": {
        "id": "mD3xpU1YTSdF",
        "colab_type": "text"
      },
      "source": [
        "# Soluções"
      ]
    },
    {
      "cell_type": "code",
      "metadata": {
        "id": "tOjKRO3CVjRp",
        "colab_type": "code",
        "outputId": "20b53c2a-9439-41d3-e86b-89e9f908d0a7",
        "colab": {
          "base_uri": "https://localhost:8080/",
          "height": 157
        }
      },
      "source": [
        "!python -m spacy download pt"
      ],
      "execution_count": 0,
      "outputs": [
        {
          "output_type": "stream",
          "text": [
            "Requirement already satisfied: pt_core_news_sm==2.1.0 from https://github.com/explosion/spacy-models/releases/download/pt_core_news_sm-2.1.0/pt_core_news_sm-2.1.0.tar.gz#egg=pt_core_news_sm==2.1.0 in /usr/local/lib/python3.6/dist-packages (2.1.0)\n",
            "\u001b[38;5;2m✔ Download and installation successful\u001b[0m\n",
            "You can now load the model via spacy.load('pt_core_news_sm')\n",
            "\u001b[38;5;2m✔ Linking successful\u001b[0m\n",
            "/usr/local/lib/python3.6/dist-packages/pt_core_news_sm -->\n",
            "/usr/local/lib/python3.6/dist-packages/spacy/data/pt\n",
            "You can now load the model via spacy.load('pt')\n"
          ],
          "name": "stdout"
        }
      ]
    },
    {
      "cell_type": "code",
      "metadata": {
        "id": "Zp9Pq-vi181a",
        "colab_type": "code",
        "colab": {}
      },
      "source": [
        "import spacy\n",
        "\n",
        "pt = spacy.load('pt')\n",
        "\n",
        "def trocar_por_similar(frase, pos, sentido):\n",
        "  doc = pt(frase)\n",
        "  \n",
        "  nova_frase = []\n",
        "  for token in doc:\n",
        "    if token.pos_ == pos:\n",
        "      similares = model.most_similar_cosmul(positive=[token.text, sentido])\n",
        "      for similar, _ in similares:\n",
        "        if similar != token.text:\n",
        "          break\n",
        "      nova_frase.append(similar)\n",
        "    else:\n",
        "      nova_frase.append(token.text)\n",
        "  return ' '.join(nova_frase)\n",
        "  \n",
        "  "
      ],
      "execution_count": 0,
      "outputs": []
    },
    {
      "cell_type": "code",
      "metadata": {
        "id": "7KkBsLQSFfUa",
        "colab_type": "code",
        "colab": {}
      },
      "source": [
        "pt('Você era muito bonito')[3].pos_"
      ],
      "execution_count": 0,
      "outputs": []
    },
    {
      "cell_type": "code",
      "metadata": {
        "id": "ASXTohEM2d_G",
        "colab_type": "code",
        "outputId": "2c7cf64c-cc26-4059-e996-69cc67a5f102",
        "colab": {
          "base_uri": "https://localhost:8080/",
          "height": 34
        }
      },
      "source": [
        "print(trocar_por_similar('Você é muito baixo', 'ADJ', 'ótimo'))"
      ],
      "execution_count": 0,
      "outputs": [
        {
          "output_type": "stream",
          "text": [
            "Você é muito fraco\n"
          ],
          "name": "stdout"
        }
      ]
    },
    {
      "cell_type": "code",
      "metadata": {
        "id": "0V8Km4XCQ5Xo",
        "colab_type": "code",
        "colab": {}
      },
      "source": [
        "model.closer_than('gato', 'homem')[:5]"
      ],
      "execution_count": 0,
      "outputs": []
    },
    {
      "cell_type": "code",
      "metadata": {
        "id": "eegCQm-N3piC",
        "colab_type": "code",
        "colab": {}
      },
      "source": [
        ""
      ],
      "execution_count": 0,
      "outputs": []
    },
    {
      "cell_type": "code",
      "metadata": {
        "id": "UzyFlR6mps9-",
        "colab_type": "code",
        "colab": {}
      },
      "source": [
        ""
      ],
      "execution_count": 0,
      "outputs": []
    }
  ]
}