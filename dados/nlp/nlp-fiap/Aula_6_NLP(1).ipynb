{
  "nbformat": 4,
  "nbformat_minor": 0,
  "metadata": {
    "colab": {
      "name": "Aula 6 NLP.ipynb",
      "provenance": [],
      "collapsed_sections": []
    },
    "kernelspec": {
      "name": "python3",
      "display_name": "Python 3"
    }
  },
  "cells": [
    {
      "cell_type": "markdown",
      "metadata": {
        "id": "34z9XYces1jO",
        "colab_type": "text"
      },
      "source": [
        "# Análise de Tópicos\n",
        "\n",
        "<font size=5>\n",
        "Análise, ou Modelagem, de Tópicos nos permite analisar grandes volumes de texto atravez de técnicas de clusterização ou agrupamento dos documentos em tópicos!\n",
        "<br/>\n",
        "<br/>\n",
        "Grande parte dos dados disponíveis no mundo real não estão classificados e por isso não podemos aplicar as técnicas de aprendizado supervisionado que usamos anteriormente!\n",
        "<br/>\n",
        "<br/>\n",
        "\n",
        "Nestes casos, onde trabalhamos com dados não classificados, podemos tentar encontrar suas classificações agrupando-os em tópicos.\n",
        "\n",
        "  </font>\n",
        "\n",
        "\n"
      ]
    },
    {
      "cell_type": "markdown",
      "metadata": {
        "id": "4rTS1KWBzOnb",
        "colab_type": "text"
      },
      "source": [
        "# Importante!\n",
        "\n",
        "<font size=5>\n",
        "Por não termos junto aos dados sua verdadeira classificação, nesses casos não sabemos a \"resposta correta\" o que torma muito difícil mensurar o quanto nosso algoritmo esta acertando ou errando!\n",
        "<br/>\n",
        "<br/>\n",
        "\n",
        "Tudo que sabemos (ou assumimos) é que documentos que forem agrupados no mesmo tópico compartilham ideias similares.\n",
        "<br/>\n",
        "<br/>\n",
        "\n",
        "Fica a cargo do usuário (cientista/analista de dados, eng. machine learning e etc) se os grupos formados são coerentes e o que cada grupo representa!\n",
        "</font>"
      ]
    },
    {
      "cell_type": "markdown",
      "metadata": {
        "id": "uqXDhRZy3j67",
        "colab_type": "text"
      },
      "source": [
        "# LDA - Latent Dirichlet Allocation\n",
        "\n",
        "<font size=5>\n",
        "LDA ou Latent Dirichlet Allocation é um “modelo probabilístico generativo” de uma coleção composta de partes. Em termos de modelagem de tópicos, as coleções são documentos e as partes são palavras, ou frases (n-gramas). Mas você pode aplicar o LDA ao DNA e seus nucleotídeos,  moléculas e átomos, funcionários e habilidades, ou teclados e teclas.  \n",
        "<br/>\n",
        "<br/>\n",
        "O LDA tem esse nome pois usa a Distribuição Dirichlet (do matemático alemão Johann Peter Gustav Lejeune Dirichlet) para encontrar tópicos \"latentes\" nos documentos.\n",
        "<br/>\n",
        "<br/>\n",
        "Em 2003, esse método foi publicado pela primeira vez por David Blei, Andrew Ng e Michael Jordan e pode ser\n",
        "<a href=\"http://www.jmlr.org/papers/volume3/blei03a/blei03a.pdf\">lido aqui</a>\n",
        "<br/>\n",
        "<br/>\n",
        "\n",
        "Para entender melhor como o método funciona recomendo a leitura do artigo original no link acima!\n",
        "  \n",
        "</font>\n",
        "\n"
      ]
    },
    {
      "cell_type": "markdown",
      "metadata": {
        "id": "f6DQ3n_wEpJQ",
        "colab_type": "text"
      },
      "source": [
        "# LDA\n",
        "\n",
        "<font size=5>\n",
        "Existem algumas premissas na aplicação do LDA:\n",
        "<br/>\n",
        "<br/>\n",
        "\n",
        "1.   Documentos com assuntos similares usam palavras similares<br/>\n",
        "2.   Os tópicos latentes podem ser encontrados atravez dos grupos de palavras que ocorrem juntas<br/>\n",
        "3.   Documentos são distribuições de probabilidade sobre os tópicos latentes<br/>\n",
        "4.   Tópicos são também distribuições de probabilidade sobre as palavras<br/>\n",
        "\n",
        "</font>"
      ]
    },
    {
      "cell_type": "markdown",
      "metadata": {
        "id": "K_R0DbqBIRbN",
        "colab_type": "text"
      },
      "source": [
        "# Documentos são distribuições de probabilidade sobre os tópicos latentes\n",
        "\n",
        "![alt text](https://i.ibb.co/C2gs3mS/doc-prob-topics.png)"
      ]
    },
    {
      "cell_type": "markdown",
      "metadata": {
        "id": "hYBiONd5NFTC",
        "colab_type": "text"
      },
      "source": [
        "# Tópicos são também distribuições de probabilidade sobre as palavras\n",
        "\n",
        "![alt text](https://i.ibb.co/KskDmbD/topic-prob-words.png)"
      ]
    },
    {
      "cell_type": "code",
      "metadata": {
        "id": "tvdE2BaSs1QN",
        "colab_type": "code",
        "outputId": "76d50fdf-a8e3-43f6-dbf4-29c7c0fe6a9e",
        "colab": {
          "base_uri": "https://localhost:8080/",
          "height": 189
        }
      },
      "source": [
        "import pandas as pd\n",
        "\n",
        "df = pd.read_csv(\"https://s3.amazonaws.com/automl-example/produtos.csv\", \n",
        "                 delimiter=\";\", encoding='utf-8')\n",
        "\n",
        "df.describe()"
      ],
      "execution_count": 1,
      "outputs": [
        {
          "output_type": "execute_result",
          "data": {
            "text/html": [
              "<div>\n",
              "<style scoped>\n",
              "    .dataframe tbody tr th:only-of-type {\n",
              "        vertical-align: middle;\n",
              "    }\n",
              "\n",
              "    .dataframe tbody tr th {\n",
              "        vertical-align: top;\n",
              "    }\n",
              "\n",
              "    .dataframe thead th {\n",
              "        text-align: right;\n",
              "    }\n",
              "</style>\n",
              "<table border=\"1\" class=\"dataframe\">\n",
              "  <thead>\n",
              "    <tr style=\"text-align: right;\">\n",
              "      <th></th>\n",
              "      <th>nome</th>\n",
              "      <th>descricao</th>\n",
              "      <th>categoria</th>\n",
              "    </tr>\n",
              "  </thead>\n",
              "  <tbody>\n",
              "    <tr>\n",
              "      <th>count</th>\n",
              "      <td>4080</td>\n",
              "      <td>2916</td>\n",
              "      <td>4080</td>\n",
              "    </tr>\n",
              "    <tr>\n",
              "      <th>unique</th>\n",
              "      <td>3696</td>\n",
              "      <td>2460</td>\n",
              "      <td>4</td>\n",
              "    </tr>\n",
              "    <tr>\n",
              "      <th>top</th>\n",
              "      <td>Mais Escuro - Cinquenta Tons Mais Escuros Pel...</td>\n",
              "      <td>JOGO ORIGINAL. NOVO. LACRADO. PRONTA ENTREGA. ...</td>\n",
              "      <td>game</td>\n",
              "    </tr>\n",
              "    <tr>\n",
              "      <th>freq</th>\n",
              "      <td>20</td>\n",
              "      <td>39</td>\n",
              "      <td>1020</td>\n",
              "    </tr>\n",
              "  </tbody>\n",
              "</table>\n",
              "</div>"
            ],
            "text/plain": [
              "                                                     nome  ... categoria\n",
              "count                                                4080  ...      4080\n",
              "unique                                               3696  ...         4\n",
              "top      Mais Escuro - Cinquenta Tons Mais Escuros Pel...  ...      game\n",
              "freq                                                   20  ...      1020\n",
              "\n",
              "[4 rows x 3 columns]"
            ]
          },
          "metadata": {
            "tags": []
          },
          "execution_count": 1
        }
      ]
    },
    {
      "cell_type": "code",
      "metadata": {
        "id": "R3x3Ipzhqgka",
        "colab_type": "code",
        "colab": {}
      },
      "source": [
        "df.dropna(inplace=True)\n",
        "\n",
        "df[\"texto\"] = df['nome'] + \" \" + df['descricao']"
      ],
      "execution_count": 0,
      "outputs": []
    },
    {
      "cell_type": "code",
      "metadata": {
        "id": "SbPvhCki8PHa",
        "colab_type": "code",
        "outputId": "54e45f03-c5d3-426e-8362-438688d97db6",
        "colab": {
          "base_uri": "https://localhost:8080/",
          "height": 104
        }
      },
      "source": [
        "df.categoria.value_counts()"
      ],
      "execution_count": 3,
      "outputs": [
        {
          "output_type": "execute_result",
          "data": {
            "text/plain": [
              "livro        838\n",
              "maquiagem    788\n",
              "brinquedo    668\n",
              "game         622\n",
              "Name: categoria, dtype: int64"
            ]
          },
          "metadata": {
            "tags": []
          },
          "execution_count": 3
        }
      ]
    },
    {
      "cell_type": "code",
      "metadata": {
        "id": "nf5Gh7Vw77dM",
        "colab_type": "code",
        "outputId": "cf9138b0-820f-45f3-8727-832aa2d9feae",
        "colab": {
          "base_uri": "https://localhost:8080/",
          "height": 69
        }
      },
      "source": [
        "import nltk\n",
        "nltk.download('stopwords')"
      ],
      "execution_count": 4,
      "outputs": [
        {
          "output_type": "stream",
          "text": [
            "[nltk_data] Downloading package stopwords to /root/nltk_data...\n",
            "[nltk_data]   Unzipping corpora/stopwords.zip.\n"
          ],
          "name": "stdout"
        },
        {
          "output_type": "execute_result",
          "data": {
            "text/plain": [
              "True"
            ]
          },
          "metadata": {
            "tags": []
          },
          "execution_count": 4
        }
      ]
    },
    {
      "cell_type": "code",
      "metadata": {
        "id": "QnJwzeDn8C8q",
        "colab_type": "code",
        "colab": {}
      },
      "source": [
        "from sklearn.feature_extraction.text import CountVectorizer, TfidfVectorizer\n",
        "\n",
        "stops = nltk.corpus.stopwords.words('portuguese')\n",
        "\n",
        "#vect = CountVectorizer(ngram_range=(2,2), stop_words=stops)\n",
        "#vect.fit(df.texto)\n",
        "#text_vect = vect.transform(df.texto)\n",
        "\n",
        "vect = TfidfVectorizer(ngram_range=(2,2), stop_words=stops)\n",
        "vect.fit(df.texto)\n",
        "text_vect = vect.transform(df.texto)"
      ],
      "execution_count": 0,
      "outputs": []
    },
    {
      "cell_type": "code",
      "metadata": {
        "id": "7mQrlNG4SvrA",
        "colab_type": "code",
        "outputId": "418e6cdd-0ace-4404-8ae1-2e0e8889e550",
        "colab": {
          "base_uri": "https://localhost:8080/",
          "height": 35
        }
      },
      "source": [
        "text_vect.shape"
      ],
      "execution_count": 21,
      "outputs": [
        {
          "output_type": "execute_result",
          "data": {
            "text/plain": [
              "(2916, 145409)"
            ]
          },
          "metadata": {
            "tags": []
          },
          "execution_count": 21
        }
      ]
    },
    {
      "cell_type": "code",
      "metadata": {
        "id": "Ov2x01YB8Fh_",
        "colab_type": "code",
        "outputId": "c62618b7-d622-4f76-8169-e5acf11496df",
        "colab": {
          "base_uri": "https://localhost:8080/",
          "height": 139
        }
      },
      "source": [
        "from sklearn.decomposition import LatentDirichletAllocation\n",
        "\n",
        "LDA = LatentDirichletAllocation(n_components=4,random_state=42)\n",
        "\n",
        "LDA.fit(text_vect)"
      ],
      "execution_count": 22,
      "outputs": [
        {
          "output_type": "execute_result",
          "data": {
            "text/plain": [
              "LatentDirichletAllocation(batch_size=128, doc_topic_prior=None,\n",
              "                          evaluate_every=-1, learning_decay=0.7,\n",
              "                          learning_method='batch', learning_offset=10.0,\n",
              "                          max_doc_update_iter=100, max_iter=10,\n",
              "                          mean_change_tol=0.001, n_components=4, n_jobs=None,\n",
              "                          perp_tol=0.1, random_state=42, topic_word_prior=None,\n",
              "                          total_samples=1000000.0, verbose=0)"
            ]
          },
          "metadata": {
            "tags": []
          },
          "execution_count": 22
        }
      ]
    },
    {
      "cell_type": "code",
      "metadata": {
        "id": "WtCeY9ekdqrD",
        "colab_type": "code",
        "outputId": "df454e6b-6092-4e81-c9ab-6f23848dd3b2",
        "colab": {
          "base_uri": "https://localhost:8080/",
          "height": 35
        }
      },
      "source": [
        "LDA.score(text_vect) // 1000"
      ],
      "execution_count": 23,
      "outputs": [
        {
          "output_type": "execute_result",
          "data": {
            "text/plain": [
              "-362.0"
            ]
          },
          "metadata": {
            "tags": []
          },
          "execution_count": 23
        }
      ]
    },
    {
      "cell_type": "code",
      "metadata": {
        "id": "vkjpV71_YQoM",
        "colab_type": "code",
        "outputId": "217a8ee1-fd95-46d6-90a2-a81a25b59cd6",
        "colab": {
          "base_uri": "https://localhost:8080/",
          "height": 35
        }
      },
      "source": [
        "LDA.components_[0].argsort()[0]"
      ],
      "execution_count": 24,
      "outputs": [
        {
          "output_type": "execute_result",
          "data": {
            "text/plain": [
              "106503"
            ]
          },
          "metadata": {
            "tags": []
          },
          "execution_count": 24
        }
      ]
    },
    {
      "cell_type": "code",
      "metadata": {
        "id": "2c6JOceTYdqL",
        "colab_type": "code",
        "outputId": "3a2b0811-98a5-4b89-e04e-855a05d8e2ee",
        "colab": {
          "base_uri": "https://localhost:8080/",
          "height": 35
        }
      },
      "source": [
        "vect.get_feature_names()[5030]"
      ],
      "execution_count": 25,
      "outputs": [
        {
          "output_type": "execute_result",
          "data": {
            "text/plain": [
              "'30 mermaid'"
            ]
          },
          "metadata": {
            "tags": []
          },
          "execution_count": 25
        }
      ]
    },
    {
      "cell_type": "code",
      "metadata": {
        "id": "8nXRnd6R8eKU",
        "colab_type": "code",
        "outputId": "4b22368a-4d71-4fa4-e635-f27f521aff91",
        "colab": {
          "base_uri": "https://localhost:8080/",
          "height": 315
        }
      },
      "source": [
        "for index,topic in enumerate(LDA.components_):\n",
        "    print(f'THE TOP 15 WORDS FOR TOPIC #{index}')\n",
        "    print([vect.get_feature_names()[i] for i in topic.argsort()[-15:]])\n",
        "    print('\\n')"
      ],
      "execution_count": 26,
      "outputs": [
        {
          "output_type": "stream",
          "text": [
            "THE TOP 15 WORDS FOR TOPIC #0\n",
            "['fabricação idioma', 'defeito fabricação', 'novo lacrado', 'at freddy', 'contra defeito', 'fisica pronta', 'lacrado mídia', 'entrega produto', 'crônicas gelo', 'gelo fogo', 'mídia fisica', 'pague frete', 'patrulha canina', '04 livros', 'pronta entrega']\n",
            "\n",
            "\n",
            "THE TOP 15 WORDS FOR TOPIC #1\n",
            "['pronto entregafotos', 'mia vai', 'ser feito', 'garota calendário', 'frete produtos', 'produtos vendemos', 'vendemos atacado', 'reaismandamos aproximadamente', 'feito frete', 'entregafotos 100', '100 reaismandamos', 'dragon ball', 'wow shop', 'atacado wow', 'aproximadamente 24']\n",
            "\n",
            "\n",
            "THE TOP 15 WORDS FOR TOPIC #2\n",
            "['vou retirar', 'posso jogar', 'xbox one', 'opção vou', 'escolha opção', 'jogo original', 'grátis escolha', 'gel inglot', 'original completo', 'mercado livre', 'combinar vendedor', 'endereço vendedor', 'retirar endereço', 'vendedor combinar', 'delineador gel']\n",
            "\n",
            "\n",
            "THE TOP 15 WORDS FOR TOPIC #3\n",
            "['mensagens sobre', 'preço anúncio', 'após envio', 'envio entrega', 'gokou produto', 'ball son', 'son gokou', 'boneco dragon', 'mercado livre', 'dragon ball', 'gta games', 'mercado pago', 'mercado envios', 'prazo entrega', 'prazo envio']\n",
            "\n",
            "\n"
          ],
          "name": "stdout"
        }
      ]
    },
    {
      "cell_type": "code",
      "metadata": {
        "id": "mmiwdqDf81vd",
        "colab_type": "code",
        "outputId": "a09c7040-7210-4d15-e1bd-9a22d42240ef",
        "colab": {
          "base_uri": "https://localhost:8080/",
          "height": 35
        }
      },
      "source": [
        "results = LDA.transform(text_vect)\n",
        "\n",
        "results.shape"
      ],
      "execution_count": 27,
      "outputs": [
        {
          "output_type": "execute_result",
          "data": {
            "text/plain": [
              "(2916, 4)"
            ]
          },
          "metadata": {
            "tags": []
          },
          "execution_count": 27
        }
      ]
    },
    {
      "cell_type": "code",
      "metadata": {
        "id": "hwzjce3cZm57",
        "colab_type": "code",
        "outputId": "6027a35a-96ce-47b9-fd0e-f2e38ab809e2",
        "colab": {
          "base_uri": "https://localhost:8080/",
          "height": 35
        }
      },
      "source": [
        "results[0]"
      ],
      "execution_count": 28,
      "outputs": [
        {
          "output_type": "execute_result",
          "data": {
            "text/plain": [
              "array([0.02986437, 0.91146087, 0.02940371, 0.02927105])"
            ]
          },
          "metadata": {
            "tags": []
          },
          "execution_count": 28
        }
      ]
    },
    {
      "cell_type": "code",
      "metadata": {
        "id": "Bkm3a5NarsaH",
        "colab_type": "code",
        "outputId": "88210f30-4061-42d3-e0fa-3ca5bfef7ffc",
        "colab": {
          "base_uri": "https://localhost:8080/",
          "height": 35
        }
      },
      "source": [
        "results.argmax(axis=1)"
      ],
      "execution_count": 29,
      "outputs": [
        {
          "output_type": "execute_result",
          "data": {
            "text/plain": [
              "array([1, 0, 0, ..., 0, 3, 2])"
            ]
          },
          "metadata": {
            "tags": []
          },
          "execution_count": 29
        }
      ]
    },
    {
      "cell_type": "code",
      "metadata": {
        "id": "DoItWf94rz9z",
        "colab_type": "code",
        "outputId": "fe94d1a9-d5e2-46ce-b8a6-7abd59de3b52",
        "colab": {
          "base_uri": "https://localhost:8080/",
          "height": 375
        }
      },
      "source": [
        "df['topico'] = results.argmax(axis=1)\n",
        "\n",
        "df.head()"
      ],
      "execution_count": 30,
      "outputs": [
        {
          "output_type": "execute_result",
          "data": {
            "text/html": [
              "<div>\n",
              "<style scoped>\n",
              "    .dataframe tbody tr th:only-of-type {\n",
              "        vertical-align: middle;\n",
              "    }\n",
              "\n",
              "    .dataframe tbody tr th {\n",
              "        vertical-align: top;\n",
              "    }\n",
              "\n",
              "    .dataframe thead th {\n",
              "        text-align: right;\n",
              "    }\n",
              "</style>\n",
              "<table border=\"1\" class=\"dataframe\">\n",
              "  <thead>\n",
              "    <tr style=\"text-align: right;\">\n",
              "      <th></th>\n",
              "      <th>nome</th>\n",
              "      <th>descricao</th>\n",
              "      <th>categoria</th>\n",
              "      <th>texto</th>\n",
              "      <th>topico</th>\n",
              "      <th>categ_cod</th>\n",
              "    </tr>\n",
              "  </thead>\n",
              "  <tbody>\n",
              "    <tr>\n",
              "      <th>0</th>\n",
              "      <td>O Hobbit - 7ª Ed. 2013</td>\n",
              "      <td>Produto NovoBilbo Bolseiro é um hobbit que lev...</td>\n",
              "      <td>livro</td>\n",
              "      <td>O Hobbit - 7ª Ed. 2013  Produto NovoBilbo Bol...</td>\n",
              "      <td>1</td>\n",
              "      <td>2</td>\n",
              "    </tr>\n",
              "    <tr>\n",
              "      <th>1</th>\n",
              "      <td>Livro - It A Coisa - Stephen King</td>\n",
              "      <td>Produto NovoDurante as férias escolares de 195...</td>\n",
              "      <td>livro</td>\n",
              "      <td>Livro - It A Coisa - Stephen King  Produto No...</td>\n",
              "      <td>0</td>\n",
              "      <td>2</td>\n",
              "    </tr>\n",
              "    <tr>\n",
              "      <th>2</th>\n",
              "      <td>Box  As Crônicas De Gelo E Fogo  Pocket  5 Li...</td>\n",
              "      <td>Produto NovoTodo o reino de Westeros ao alcanc...</td>\n",
              "      <td>livro</td>\n",
              "      <td>Box  As Crônicas De Gelo E Fogo  Pocket  5 Li...</td>\n",
              "      <td>0</td>\n",
              "      <td>2</td>\n",
              "    </tr>\n",
              "    <tr>\n",
              "      <th>3</th>\n",
              "      <td>Box Harry Potter</td>\n",
              "      <td>Produto Novo e Físico  A série Harry Potter ch...</td>\n",
              "      <td>livro</td>\n",
              "      <td>Box Harry Potter  Produto Novo e Físico  A sé...</td>\n",
              "      <td>2</td>\n",
              "      <td>2</td>\n",
              "    </tr>\n",
              "    <tr>\n",
              "      <th>4</th>\n",
              "      <td>Livro Origem - Dan Brown</td>\n",
              "      <td>Produto NovoDe Onde Viemos? Para Onde Vamos? R...</td>\n",
              "      <td>livro</td>\n",
              "      <td>Livro Origem - Dan Brown  Produto NovoDe Onde...</td>\n",
              "      <td>1</td>\n",
              "      <td>2</td>\n",
              "    </tr>\n",
              "  </tbody>\n",
              "</table>\n",
              "</div>"
            ],
            "text/plain": [
              "                                                nome  ... categ_cod\n",
              "0                            O Hobbit - 7ª Ed. 2013   ...         2\n",
              "1                 Livro - It A Coisa - Stephen King   ...         2\n",
              "2   Box  As Crônicas De Gelo E Fogo  Pocket  5 Li...  ...         2\n",
              "3                                  Box Harry Potter   ...         2\n",
              "4                          Livro Origem - Dan Brown   ...         2\n",
              "\n",
              "[5 rows x 6 columns]"
            ]
          },
          "metadata": {
            "tags": []
          },
          "execution_count": 30
        }
      ]
    },
    {
      "cell_type": "code",
      "metadata": {
        "id": "fvyj_Y1Ltrf_",
        "colab_type": "code",
        "outputId": "94802bdf-9b8b-4c12-9150-72bbb2c97503",
        "colab": {
          "base_uri": "https://localhost:8080/",
          "height": 375
        }
      },
      "source": [
        "import numpy as np\n",
        "\n",
        "df['categ_cod'] = df.categoria.map(\n",
        "    {'maquiagem': 0, 'game': 3, 'livro': 2, 'brinquedo':1}\n",
        ")\n",
        "df['categ_cod'] = df.categ_cod.astype(np.int64)\n",
        "\n",
        "df.head()"
      ],
      "execution_count": 31,
      "outputs": [
        {
          "output_type": "execute_result",
          "data": {
            "text/html": [
              "<div>\n",
              "<style scoped>\n",
              "    .dataframe tbody tr th:only-of-type {\n",
              "        vertical-align: middle;\n",
              "    }\n",
              "\n",
              "    .dataframe tbody tr th {\n",
              "        vertical-align: top;\n",
              "    }\n",
              "\n",
              "    .dataframe thead th {\n",
              "        text-align: right;\n",
              "    }\n",
              "</style>\n",
              "<table border=\"1\" class=\"dataframe\">\n",
              "  <thead>\n",
              "    <tr style=\"text-align: right;\">\n",
              "      <th></th>\n",
              "      <th>nome</th>\n",
              "      <th>descricao</th>\n",
              "      <th>categoria</th>\n",
              "      <th>texto</th>\n",
              "      <th>topico</th>\n",
              "      <th>categ_cod</th>\n",
              "    </tr>\n",
              "  </thead>\n",
              "  <tbody>\n",
              "    <tr>\n",
              "      <th>0</th>\n",
              "      <td>O Hobbit - 7ª Ed. 2013</td>\n",
              "      <td>Produto NovoBilbo Bolseiro é um hobbit que lev...</td>\n",
              "      <td>livro</td>\n",
              "      <td>O Hobbit - 7ª Ed. 2013  Produto NovoBilbo Bol...</td>\n",
              "      <td>1</td>\n",
              "      <td>2</td>\n",
              "    </tr>\n",
              "    <tr>\n",
              "      <th>1</th>\n",
              "      <td>Livro - It A Coisa - Stephen King</td>\n",
              "      <td>Produto NovoDurante as férias escolares de 195...</td>\n",
              "      <td>livro</td>\n",
              "      <td>Livro - It A Coisa - Stephen King  Produto No...</td>\n",
              "      <td>0</td>\n",
              "      <td>2</td>\n",
              "    </tr>\n",
              "    <tr>\n",
              "      <th>2</th>\n",
              "      <td>Box  As Crônicas De Gelo E Fogo  Pocket  5 Li...</td>\n",
              "      <td>Produto NovoTodo o reino de Westeros ao alcanc...</td>\n",
              "      <td>livro</td>\n",
              "      <td>Box  As Crônicas De Gelo E Fogo  Pocket  5 Li...</td>\n",
              "      <td>0</td>\n",
              "      <td>2</td>\n",
              "    </tr>\n",
              "    <tr>\n",
              "      <th>3</th>\n",
              "      <td>Box Harry Potter</td>\n",
              "      <td>Produto Novo e Físico  A série Harry Potter ch...</td>\n",
              "      <td>livro</td>\n",
              "      <td>Box Harry Potter  Produto Novo e Físico  A sé...</td>\n",
              "      <td>2</td>\n",
              "      <td>2</td>\n",
              "    </tr>\n",
              "    <tr>\n",
              "      <th>4</th>\n",
              "      <td>Livro Origem - Dan Brown</td>\n",
              "      <td>Produto NovoDe Onde Viemos? Para Onde Vamos? R...</td>\n",
              "      <td>livro</td>\n",
              "      <td>Livro Origem - Dan Brown  Produto NovoDe Onde...</td>\n",
              "      <td>1</td>\n",
              "      <td>2</td>\n",
              "    </tr>\n",
              "  </tbody>\n",
              "</table>\n",
              "</div>"
            ],
            "text/plain": [
              "                                                nome  ... categ_cod\n",
              "0                            O Hobbit - 7ª Ed. 2013   ...         2\n",
              "1                 Livro - It A Coisa - Stephen King   ...         2\n",
              "2   Box  As Crônicas De Gelo E Fogo  Pocket  5 Li...  ...         2\n",
              "3                                  Box Harry Potter   ...         2\n",
              "4                          Livro Origem - Dan Brown   ...         2\n",
              "\n",
              "[5 rows x 6 columns]"
            ]
          },
          "metadata": {
            "tags": []
          },
          "execution_count": 31
        }
      ]
    },
    {
      "cell_type": "code",
      "metadata": {
        "id": "LeBKN97V3gWs",
        "colab_type": "code",
        "outputId": "fb9754eb-c653-4075-f43a-8680114e5db0",
        "colab": {
          "base_uri": "https://localhost:8080/",
          "height": 208
        }
      },
      "source": [
        "df.info()"
      ],
      "execution_count": 32,
      "outputs": [
        {
          "output_type": "stream",
          "text": [
            "<class 'pandas.core.frame.DataFrame'>\n",
            "Int64Index: 2916 entries, 0 to 4079\n",
            "Data columns (total 6 columns):\n",
            "nome         2916 non-null object\n",
            "descricao    2916 non-null object\n",
            "categoria    2916 non-null object\n",
            "texto        2916 non-null object\n",
            "topico       2916 non-null int64\n",
            "categ_cod    2916 non-null int64\n",
            "dtypes: int64(2), object(4)\n",
            "memory usage: 159.5+ KB\n"
          ],
          "name": "stdout"
        }
      ]
    },
    {
      "cell_type": "code",
      "metadata": {
        "id": "JUfGrm9Ty46i",
        "colab_type": "code",
        "outputId": "d0189808-05ed-4214-c630-34bfd6f5de9c",
        "colab": {
          "base_uri": "https://localhost:8080/",
          "height": 35
        }
      },
      "source": [
        "from sklearn.metrics import accuracy_score, confusion_matrix\n",
        "\n",
        "print(accuracy_score(df.categ_cod, df.topico))"
      ],
      "execution_count": 33,
      "outputs": [
        {
          "output_type": "stream",
          "text": [
            "0.2602880658436214\n"
          ],
          "name": "stdout"
        }
      ]
    },
    {
      "cell_type": "code",
      "metadata": {
        "id": "KnttS8MWzMjN",
        "colab_type": "code",
        "outputId": "15352e5e-a865-43b6-c7e7-27f691443771",
        "colab": {
          "base_uri": "https://localhost:8080/",
          "height": 449
        }
      },
      "source": [
        "import seaborn as sns\n",
        "import matplotlib.pyplot as plt\n",
        "\n",
        "matrix = confusion_matrix(df.categ_cod, df.topico)\n",
        "\n",
        "df_cm = pd.DataFrame(matrix, index=list('0123'),\n",
        "                  columns=list('0123'))\n",
        "plt.figure(figsize = (10,7))\n",
        "sns.heatmap(df_cm, annot=True)"
      ],
      "execution_count": 19,
      "outputs": [
        {
          "output_type": "execute_result",
          "data": {
            "text/plain": [
              "<matplotlib.axes._subplots.AxesSubplot at 0x7f10a39fde10>"
            ]
          },
          "metadata": {
            "tags": []
          },
          "execution_count": 19
        },
        {
          "output_type": "display_data",
          "data": {
            "image/png": "[encoded data removed]",
            "text/plain": [
              "<Figure size 720x504 with 2 Axes>"
            ]
          },
          "metadata": {
            "tags": []
          }
        }
      ]
    },
    {
      "cell_type": "markdown",
      "metadata": {
        "id": "O170Q6rKJBbC",
        "colab_type": "text"
      },
      "source": [
        "<font size=5>\n",
        "<b>max_df:</b> float in range [0.0, 1.0] or int, default=1.0<br/>\n",
        "When building the vocabulary ignore terms that have a document frequency strictly higher than the given threshold (corpus-specific stop words). If float, the parameter represents a proportion of documents, integer absolute counts. This parameter is ignored if vocabulary is not None.\n",
        "\n",
        "<br/>\n",
        "<br/>\n",
        "\n",
        "<b>min_df:</b> float in range [0.0, 1.0] or int, default=1<br/>\n",
        "When building the vocabulary ignore terms that have a document frequency strictly lower than the given threshold. This value is also called cut-off in the literature. If float, the parameter represents a proportion of documents, integer absolute counts. This parameter is ignored if vocabulary is not None.\n",
        "</font>"
      ]
    },
    {
      "cell_type": "code",
      "metadata": {
        "id": "5Gx2iVJOhW08",
        "colab_type": "code",
        "outputId": "64f838c8-2efd-44ea-8796-087fd49ba3b6",
        "colab": {
          "base_uri": "https://localhost:8080/",
          "height": 315
        }
      },
      "source": [
        "from sklearn.feature_extraction.text import TfidfVectorizer\n",
        "\n",
        "stops = nltk.corpus.stopwords.words('portuguese')\n",
        "\n",
        "vect = TfidfVectorizer(ngram_range=(1,1), stop_words=stops, max_df=0.9, min_df=2)\n",
        "vect.fit(df.texto)\n",
        "text_vect = vect.transform(df.texto)\n",
        "\n",
        "LDA = LatentDirichletAllocation(n_components=4,random_state=42)\n",
        "LDA.fit(text_vect)\n",
        "\n",
        "\n",
        "for index,topic in enumerate(LDA.components_):\n",
        "    print(f'THE TOP 15 WORDS FOR TOPIC #{index}')\n",
        "    print([vect.get_feature_names()[i] for i in topic.argsort()[-15:]])\n",
        "    print('\\n')\n"
      ],
      "execution_count": 37,
      "outputs": [
        {
          "output_type": "stream",
          "text": [
            "THE TOP 15 WORDS FOR TOPIC #0\n",
            "['12', 'base', 'sombra', 'pincéis', 'kit', 'profissional', 'sombras', 'rose', 'paleta', 'matte', 'ruby', 'maleta', 'maquiagem', 'cores', 'pincel']\n",
            "\n",
            "\n",
            "THE TOP 15 WORDS FOR TOPIC #1\n",
            "['xbox', 'física', 'gta', 'anúncio', 'dias', 'frete', 'mídia', 'produtos', 'produto', 'jogo', 'entrega', 'prazo', 'envio', 'pagamento', 'mercado']\n",
            "\n",
            "\n",
            "THE TOP 15 WORDS FOR TOPIC #2\n",
            "['pronta', 'entrega', 'luz', 'compra', 'super', 'som', 'aproximadamente', 'produto', 'cm', 'vingadores', 'kit', 'ball', 'dragon', 'bonecos', 'boneco']\n",
            "\n",
            "\n",
            "THE TOP 15 WORDS FOR TOPIC #3\n",
            "['barras', 'capa', 'livros', 'anos', 'ed', 'novo', 'história', 'mundo', 'origem', 'produto', 'vida', 'páginas', '00', 'livro', 'edição']\n",
            "\n",
            "\n"
          ],
          "name": "stdout"
        }
      ]
    },
    {
      "cell_type": "code",
      "metadata": {
        "id": "VGLfx2qWmSQj",
        "colab_type": "code",
        "outputId": "37c43d1f-8a98-44e9-ef5b-974f31a9162f",
        "colab": {
          "base_uri": "https://localhost:8080/",
          "height": 35
        }
      },
      "source": [
        "results = LDA.transform(text_vect)\n",
        "\n",
        "df['topico'] = results.argmax(axis=1)\n",
        "\n",
        "df['categ_cod'] = df.categoria.map(\n",
        "    {'maquiagem': 0, 'game': 1, 'brinquedo': 2, 'livro':3}\n",
        ")\n",
        "df['categ_cod'] = df.categ_cod.astype(np.int64)\n",
        "\n",
        "print(accuracy_score(df.categ_cod, df.topico))"
      ],
      "execution_count": 38,
      "outputs": [
        {
          "output_type": "stream",
          "text": [
            "0.8007544581618655\n"
          ],
          "name": "stdout"
        }
      ]
    },
    {
      "cell_type": "code",
      "metadata": {
        "id": "nduexGg7muhf",
        "colab_type": "code",
        "outputId": "3508441f-cdf3-4d9a-94f6-779d45d2e78a",
        "colab": {
          "base_uri": "https://localhost:8080/",
          "height": 35
        }
      },
      "source": [
        "LDA.score(text_vect) // 1000"
      ],
      "execution_count": 39,
      "outputs": [
        {
          "output_type": "execute_result",
          "data": {
            "text/plain": [
              "-209.0"
            ]
          },
          "metadata": {
            "tags": []
          },
          "execution_count": 39
        }
      ]
    },
    {
      "cell_type": "code",
      "metadata": {
        "id": "on6ksp2uG-wU",
        "colab_type": "code",
        "outputId": "865e23bc-d2b0-4ba3-d620-9864b6964a52",
        "colab": {
          "base_uri": "https://localhost:8080/",
          "height": 35
        }
      },
      "source": [
        "LDA2 = LatentDirichletAllocation(n_components=8,random_state=42)\n",
        "LDA2.fit(text_vect)\n",
        "\n",
        "LDA2.score(text_vect)"
      ],
      "execution_count": 40,
      "outputs": [
        {
          "output_type": "execute_result",
          "data": {
            "text/plain": [
              "-223231.83435359751"
            ]
          },
          "metadata": {
            "tags": []
          },
          "execution_count": 40
        }
      ]
    },
    {
      "cell_type": "code",
      "metadata": {
        "id": "fm7RqNVedZyp",
        "colab_type": "code",
        "outputId": "e87e39a9-630d-4095-a442-a2ecbc9b7f88",
        "colab": {
          "base_uri": "https://localhost:8080/",
          "height": 592
        }
      },
      "source": [
        "for index,topic in enumerate(LDA2.components_):\n",
        "    print(f'THE TOP 15 WORDS FOR TOPIC #{index}')\n",
        "    print([vect.get_feature_names()[i] for i in topic.argsort()[-15:]])\n",
        "    print('\\n')"
      ],
      "execution_count": 0,
      "outputs": [
        {
          "output_type": "stream",
          "text": [
            "THE TOP 15 WORDS FOR TOPIC #0\n",
            "['batom', 'base', 'sombra', 'profissional', 'sombras', 'kit', 'rose', 'pincéis', 'paleta', 'maleta', 'matte', 'ruby', 'maquiagem', 'cores', 'pincel']\n",
            "\n",
            "\n",
            "THE TOP 15 WORDS FOR TOPIC #1\n",
            "['04', 'sobrancelha', 'produto', 'marrom', 'livros', 'miss', 'prova', 'inglot', 'fricção', 'the', 'canina', 'delineador', 'patrulha', 'carrinhos', 'gel']\n",
            "\n",
            "\n",
            "THE TOP 15 WORDS FOR TOPIC #2\n",
            "['compra', 'luz', 'cílios', 'super', 'pronta', 'aproximadamente', 'som', 'entrega', 'cm', 'ball', 'vingadores', 'dragon', 'kit', 'boneco', 'bonecos']\n",
            "\n",
            "\n",
            "THE TOP 15 WORDS FOR TOPIC #3\n",
            "['mãos', '25', 'compra', 'atendemos', 'origins', 'assassins', 'original', 'grátis', 'online', 'creed', 'combinar', 'escolha', 'frete', 'vendedor', 'retirar']\n",
            "\n",
            "\n",
            "THE TOP 15 WORDS FOR TOPIC #4\n",
            "['magnéticos', 'garota', 'vai', 'novo', 'calendário', 'dragon', 'ball', 'christian', 'cílios', 'boneco', 'son', 'gokou', 'grey', 'mia', 'ana']\n",
            "\n",
            "\n",
            "THE TOP 15 WORDS FOR TOPIC #5\n",
            "['12', 'microblading', 'aviões', 'nights', 'pontas', 'at', 'laminas', 'five', 'funko', 'borracha', 'kunai', 'freddy', 'flex', 'tebori', 'wings']\n",
            "\n",
            "\n",
            "THE TOP 15 WORDS FOR TOPIC #6\n",
            "['mídia', 'páginas', 'novo', 'produtos', 'dias', 'entrega', 'livro', 'jogo', 'edição', '00', 'envio', 'pagamento', 'prazo', 'produto', 'mercado']\n",
            "\n",
            "\n",
            "THE TOP 15 WORDS FOR TOPIC #7\n",
            "['endereço', 'compra', 'console', 'pode', 'completo', 'jogo', 'digital', 'original', 'player', 'perfil', 'vendedor', 'sim', 'posso', 'online', 'jogar']\n",
            "\n",
            "\n"
          ],
          "name": "stdout"
        }
      ]
    },
    {
      "cell_type": "code",
      "metadata": {
        "id": "J7U9kSqyBhaH",
        "colab_type": "code",
        "outputId": "d1a27f6a-c2f2-438d-80c2-cb37f8eb3382",
        "colab": {
          "base_uri": "https://localhost:8080/",
          "height": 34
        }
      },
      "source": [
        "results = LDA2.transform(text_vect)\n",
        "\n",
        "df['topico'] = results.argmax(axis=1)\n",
        "\n",
        "df['categ_cod'] = df.categoria.map(\n",
        "    {'maquiagem': 0, 'game': 1, 'brinquedo': 2, 'livro':3}\n",
        ")\n",
        "df['categ_cod'] = df.categ_cod.astype(np.int64)\n",
        "\n",
        "print(accuracy_score(df.categ_cod, df.topico))"
      ],
      "execution_count": 0,
      "outputs": [
        {
          "output_type": "stream",
          "text": [
            "0.32338820301783266\n"
          ],
          "name": "stdout"
        }
      ]
    },
    {
      "cell_type": "code",
      "metadata": {
        "id": "PXKvfLKsdWGI",
        "colab_type": "code",
        "colab": {}
      },
      "source": [
        ""
      ],
      "execution_count": 0,
      "outputs": []
    }
  ]
}