{
 "cells": [
  {
   "cell_type": "code",
   "execution_count": 1,
   "metadata": {},
   "outputs": [
    {
     "name": "stderr",
     "output_type": "stream",
     "text": [
      "C:\\Users\\vinicius\\Anaconda3\\lib\\site-packages\\gensim\\utils.py:1197: UserWarning: detected Windows; aliasing chunkize to chunkize_serial\n",
      "  warnings.warn(\"detected Windows; aliasing chunkize to chunkize_serial\")\n"
     ]
    }
   ],
   "source": [
    "from gensim.models import KeyedVectors"
   ]
  },
  {
   "cell_type": "code",
   "execution_count": 2,
   "metadata": {},
   "outputs": [
    {
     "name": "stderr",
     "output_type": "stream",
     "text": [
      "C:\\Users\\vinicius\\Anaconda3\\lib\\site-packages\\smart_open\\smart_open_lib.py:398: UserWarning: This function is deprecated, use smart_open.open instead. See the migration notes for details: https://github.com/RaRe-Technologies/smart_open/blob/master/README.rst#migrating-to-the-new-open-function\n",
      "  'See the migration notes for details: %s' % _MIGRATION_NOTES_URL\n"
     ]
    }
   ],
   "source": [
    "model = KeyedVectors.load_word2vec_format('cbow_s300.txt')"
   ]
  },
  {
   "cell_type": "code",
   "execution_count": 3,
   "metadata": {},
   "outputs": [
    {
     "name": "stdout",
     "output_type": "stream",
     "text": [
      "[ 2.5107e+00  5.9439e-01 -1.5405e+00 -4.5905e+00  1.1178e+00  8.9835e-01\n",
      "  2.0418e+00  2.0999e+00  2.6805e+00  5.2726e-01  1.8478e+00  1.7183e+00\n",
      "  2.9990e-01  9.5693e-02  6.7866e-01  1.7746e+00 -2.1161e-01  3.2033e+00\n",
      "  2.2274e+00  1.2797e+00  9.7174e-01  9.2320e-01  3.2746e+00 -5.5644e-01\n",
      "  3.7751e+00 -6.0518e-01 -2.6903e+00  7.0410e-01 -2.1512e-01 -4.3803e-01\n",
      " -3.0976e+00 -3.0811e-01  1.0951e+00 -1.5095e+00 -3.8895e+00 -1.8932e+00\n",
      "  4.7648e-01 -1.7257e+00 -1.9914e+00 -4.5374e-01 -8.0499e-01  3.7203e+00\n",
      " -2.1998e+00  4.1912e-02 -1.7419e+00 -2.6468e+00  5.4241e+00 -6.0711e-01\n",
      "  2.2442e+00  6.8036e-01 -2.3865e-02  5.7526e+00 -2.4229e+00 -8.9568e-01\n",
      " -3.5347e-03 -2.5173e+00 -3.6047e-02 -1.8649e+00 -1.8711e-01  1.3404e+00\n",
      "  8.6141e-01  9.6411e-02 -3.8954e+00 -5.8526e-01  1.5256e+00 -1.2022e+00\n",
      "  7.2482e-01 -1.0053e+00  1.7881e-01 -3.3766e+00 -1.1537e+00  1.8663e+00\n",
      "  1.2001e+00 -4.5245e+00  1.0124e+00  9.6570e-01 -2.0648e+00 -1.8080e+00\n",
      " -3.1627e+00  1.8659e+00 -3.7562e+00  4.5321e-01  2.9035e+00 -3.2098e-01\n",
      " -3.0262e+00 -3.1041e+00  1.1110e+00  2.3715e-01 -1.3372e+00  1.0108e+00\n",
      " -1.2604e-01 -1.1523e+00  2.9049e+00 -2.6147e-01 -3.7184e-01  1.5016e+00\n",
      "  3.6632e-01  5.2822e+00 -3.6499e-01 -9.2695e-01 -3.2560e+00  3.4375e+00\n",
      " -1.5566e+00 -3.2946e+00  7.4624e-01  1.2966e+00  3.9695e+00  4.4433e+00\n",
      " -1.3408e+00  3.0660e-01 -3.5521e-02 -7.0217e-01 -1.9900e+00 -5.7398e-01\n",
      "  2.5345e+00  1.4281e+00 -2.3164e+00  2.4482e+00 -5.0979e+00  6.4104e-01\n",
      "  8.1929e-02 -1.8161e-01  9.2951e-02  1.2838e+00  4.4851e-01 -1.4082e+00\n",
      " -2.1144e+00 -3.0051e+00 -3.5508e-01 -1.9799e+00  4.8586e-01  7.2932e-01\n",
      "  3.2417e-01  1.1493e+00 -4.7169e-01  8.5924e-01  1.6414e-01 -2.0509e+00\n",
      " -1.9313e+00 -1.1053e+00  1.0245e+00  3.3928e+00 -2.3001e+00 -2.0623e+00\n",
      " -4.5036e+00  2.4122e+00 -2.7214e+00  5.2209e-01 -1.1023e+00 -2.2507e+00\n",
      "  2.1657e-01  1.6704e+00 -5.4343e-01  2.9062e-01 -1.7862e+00  6.8714e-01\n",
      " -1.5574e+00  2.6386e-01 -1.2383e+00  6.6851e-01 -1.0209e+00  3.9022e-01\n",
      " -1.3513e+00  2.4463e+00  1.8316e+00 -3.9384e-01  1.2566e-03 -9.5180e-01\n",
      "  1.2712e-01 -1.1467e+00  1.1107e+00  2.0674e+00 -1.2562e+00  6.9435e-01\n",
      " -1.3659e+00 -3.4541e+00 -2.9273e+00  7.5047e-01 -5.9093e-01 -7.9753e-01\n",
      "  1.1889e+00  7.4424e-01 -2.7920e+00 -3.5258e-01  2.8492e-01 -2.4489e+00\n",
      "  3.5909e+00 -7.2081e-01 -7.5523e-01  2.5934e+00  4.1626e+00  1.2537e+00\n",
      " -6.7987e-01  2.4479e-01  2.9511e-01 -6.4994e-03 -4.6232e-01 -6.6074e-01\n",
      " -8.8139e-01  2.5208e+00 -1.9768e-01  1.4455e-01  4.6409e+00 -2.2087e+00\n",
      " -5.4914e-01 -1.3552e+00 -3.0918e+00 -3.7999e-02 -2.3546e+00 -2.0045e+00\n",
      " -3.7091e-01 -1.5994e-01  6.5613e-01 -3.4780e-01 -8.5884e-01 -4.0746e+00\n",
      " -5.1756e+00 -1.1935e+00 -2.8414e+00  1.3149e+00 -1.9348e+00 -4.2067e+00\n",
      " -1.7603e+00  8.6745e-01 -1.8152e+00 -1.3882e+00  1.0139e+00  3.4288e+00\n",
      " -6.8344e-01 -9.3917e-01 -2.2416e+00 -1.5147e+00  3.2017e-01  7.0809e-01\n",
      "  6.2211e-01  7.2296e-02 -3.0376e+00  8.2031e-01  4.7451e+00  8.5106e-01\n",
      " -5.3175e-01 -5.8809e-01  2.1490e-01 -1.0177e+00  4.8070e-02 -3.8006e+00\n",
      " -1.4935e+00 -1.8730e+00  1.1727e+00  2.3822e+00  3.0685e+00 -1.0784e+00\n",
      "  3.3162e+00  2.7785e+00  2.5311e+00  2.8939e+00 -9.8582e-01  1.9931e+00\n",
      "  3.4593e+00 -2.1835e+00  9.9437e-01 -3.0352e+00  8.2244e-01  1.8751e+00\n",
      " -3.4432e+00 -1.0416e+00  1.3003e+00 -3.1499e+00 -2.0176e+00  1.4941e+00\n",
      " -2.2662e+00 -5.4296e-02  5.9457e-01 -3.8591e+00 -1.3794e+00 -3.6619e+00\n",
      "  5.3657e-02  8.0989e-01  1.0643e+00  7.0758e-01  1.3007e+00 -2.0169e-01\n",
      " -8.1630e-01  9.6020e-01 -1.5315e+00  1.1414e-01  1.3077e-01  1.6512e+00\n",
      " -2.8010e+00  1.5265e+00  3.7862e+00  3.2855e+00  2.5810e+00  2.1649e+00\n",
      "  3.3314e+00  1.8717e+00  1.1756e+00  1.2971e-01 -3.0485e-01 -1.0835e+00]\n"
     ]
    }
   ],
   "source": [
    "A = model['moto']\n",
    "print (A)"
   ]
  },
  {
   "cell_type": "code",
   "execution_count": 4,
   "metadata": {},
   "outputs": [
    {
     "data": {
      "text/plain": [
       "(300,)"
      ]
     },
     "execution_count": 4,
     "metadata": {},
     "output_type": "execute_result"
    }
   ],
   "source": [
    "A.shape"
   ]
  },
  {
   "cell_type": "code",
   "execution_count": 5,
   "metadata": {},
   "outputs": [
    {
     "name": "stdout",
     "output_type": "stream",
     "text": [
      "salvador-bahia: 0.7473\n"
     ]
    }
   ],
   "source": [
    "result = model.most_similar(positive=['salvador', 'bahia'], negative=['alagoas'])\n",
    "print(\"{}: {:.4f}\".format(*result[0]))"
   ]
  },
  {
   "cell_type": "code",
   "execution_count": 6,
   "metadata": {},
   "outputs": [
    {
     "name": "stdout",
     "output_type": "stream",
     "text": [
      "pessoa\n"
     ]
    },
    {
     "name": "stderr",
     "output_type": "stream",
     "text": [
      "C:\\Users\\vinicius\\Anaconda3\\lib\\site-packages\\gensim\\models\\keyedvectors.py:730: FutureWarning: arrays to stack must be passed as a \"sequence\" type such as list or tuple. Support for non-sequence iterables such as generators is deprecated as of NumPy 1.16 and will raise an error in the future.\n",
      "  vectors = vstack(self.word_vec(word, use_norm=True) for word in used_words).astype(REAL)\n"
     ]
    }
   ],
   "source": [
    "print(model.doesnt_match(\"carro rua pessoa maça\".split()))"
   ]
  },
  {
   "cell_type": "code",
   "execution_count": 23,
   "metadata": {},
   "outputs": [
    {
     "name": "stdout",
     "output_type": "stream",
     "text": [
      "ladrão\n"
     ]
    }
   ],
   "source": [
    "print(model.doesnt_match(\"ladrão Lula Pitta\".split()))"
   ]
  },
  {
   "cell_type": "code",
   "execution_count": 17,
   "metadata": {},
   "outputs": [
    {
     "name": "stdout",
     "output_type": "stream",
     "text": [
      "[('ladrãozinho', 0.7352615594863892), ('ladrăo', 0.6803833246231079), ('ex-ladrão', 0.6688448190689087), ('luladrão', 0.6594884991645813), ('roubador', 0.6444135904312134), ('ladrador', 0.6268781423568726), ('ladrões.', 0.621087372303009), ('ladrilhador', 0.608562707901001), ('ladrã£o', 0.6040456295013428), ('ladrilheiro', 0.6015499830245972)]\n"
     ]
    }
   ],
   "source": [
    "result = model.similar_by_word('ladrão')\n",
    "print (result)\n",
    "#print(\"{}: {:.4f}\".format(*result[0]))"
   ]
  },
  {
   "cell_type": "code",
   "execution_count": 18,
   "metadata": {},
   "outputs": [
    {
     "data": {
      "text/plain": [
       "0.3072689364123059"
      ]
     },
     "execution_count": 18,
     "metadata": {},
     "output_type": "execute_result"
    }
   ],
   "source": [
    "model.similarity('manga','moto')"
   ]
  },
  {
   "cell_type": "code",
   "execution_count": 19,
   "metadata": {},
   "outputs": [
    {
     "data": {
      "text/plain": [
       "0.4377794879665542"
      ]
     },
     "execution_count": 19,
     "metadata": {},
     "output_type": "execute_result"
    }
   ],
   "source": [
    "model.similarity('manga','morango')"
   ]
  },
  {
   "cell_type": "code",
   "execution_count": 20,
   "metadata": {},
   "outputs": [
    {
     "data": {
      "text/plain": [
       "0.2797215218017356"
      ]
     },
     "execution_count": 20,
     "metadata": {},
     "output_type": "execute_result"
    }
   ],
   "source": [
    "model.similarity('culpado','temer')"
   ]
  },
  {
   "cell_type": "code",
   "execution_count": null,
   "metadata": {},
   "outputs": [],
   "source": []
  }
 ],
 "metadata": {
  "kernelspec": {
   "display_name": "Python 3",
   "language": "python",
   "name": "python3"
  },
  "language_info": {
   "codemirror_mode": {
    "name": "ipython",
    "version": 3
   },
   "file_extension": ".py",
   "mimetype": "text/x-python",
   "name": "python",
   "nbconvert_exporter": "python",
   "pygments_lexer": "ipython3",
   "version": "3.7.3"
  },
  "toc": {
   "nav_menu": {},
   "number_sections": true,
   "sideBar": true,
   "skip_h1_title": false,
   "toc_cell": false,
   "toc_position": {},
   "toc_section_display": "block",
   "toc_window_display": false
  }
 },
 "nbformat": 4,
 "nbformat_minor": 2
}
